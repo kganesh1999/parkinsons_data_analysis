<!DOCTYPE html>
<html>
<head><meta charset="utf-8" />

<title>MT2_Problem1</title>

<script src="https://cdnjs.cloudflare.com/ajax/libs/require.js/2.1.10/require.min.js"></script>
<script src="https://cdnjs.cloudflare.com/ajax/libs/jquery/2.0.3/jquery.min.js"></script>



<style type="text/css">
    /*!
*
* Twitter Bootstrap
*
*/
/*!
 * Bootstrap v3.3.7 (http://getbootstrap.com)
 * Copyright 2011-2016 Twitter, Inc.
 * Licensed under MIT (https://github.com/twbs/bootstrap/blob/master/LICENSE)
 */
/*! normalize.css v3.0.3 | MIT License | github.com/necolas/normalize.css */
html {
  font-family: sans-serif;
  -ms-text-size-adjust: 100%;
  -webkit-text-size-adjust: 100%;
}
body {
  margin: 0;
}
article,
aside,
details,
figcaption,
figure,
footer,
header,
hgroup,
main,
menu,
nav,
section,
summary {
  display: block;
}
audio,
canvas,
progress,
video {
  display: inline-block;
  vertical-align: baseline;
}
audio:not([controls]) {
  display: none;
  height: 0;
}
[hidden],
template {
  display: none;
}
a {
  background-color: transparent;
}
a:active,
a:hover {
  outline: 0;
}
abbr[title] {
  border-bottom: 1px dotted;
}
b,
strong {
  font-weight: bold;
}
dfn {
  font-style: italic;
}
h1 {
  font-size: 2em;
  margin: 0.67em 0;
}
mark {
  background: #ff0;
  color: #000;
}
small {
  font-size: 80%;
}
sub,
sup {
  font-size: 75%;
  line-height: 0;
  position: relative;
  vertical-align: baseline;
}
sup {
  top: -0.5em;
}
sub {
  bottom: -0.25em;
}
img {
  border: 0;
}
svg:not(:root) {
  overflow: hidden;
}
figure {
  margin: 1em 40px;
}
hr {
  box-sizing: content-box;
  height: 0;
}
pre {
  overflow: auto;
}
code,
kbd,
pre,
samp {
  font-family: monospace, monospace;
  font-size: 1em;
}
button,
input,
optgroup,
select,
textarea {
  color: inherit;
  font: inherit;
  margin: 0;
}
button {
  overflow: visible;
}
button,
select {
  text-transform: none;
}
button,
html input[type="button"],
input[type="reset"],
input[type="submit"] {
  -webkit-appearance: button;
  cursor: pointer;
}
button[disabled],
html input[disabled] {
  cursor: default;
}
button::-moz-focus-inner,
input::-moz-focus-inner {
  border: 0;
  padding: 0;
}
input {
  line-height: normal;
}
input[type="checkbox"],
input[type="radio"] {
  box-sizing: border-box;
  padding: 0;
}
input[type="number"]::-webkit-inner-spin-button,
input[type="number"]::-webkit-outer-spin-button {
  height: auto;
}
input[type="search"] {
  -webkit-appearance: textfield;
  box-sizing: content-box;
}
input[type="search"]::-webkit-search-cancel-button,
input[type="search"]::-webkit-search-decoration {
  -webkit-appearance: none;
}
fieldset {
  border: 1px solid #c0c0c0;
  margin: 0 2px;
  padding: 0.35em 0.625em 0.75em;
}
legend {
  border: 0;
  padding: 0;
}
textarea {
  overflow: auto;
}
optgroup {
  font-weight: bold;
}
table {
  border-collapse: collapse;
  border-spacing: 0;
}
td,
th {
  padding: 0;
}
/*! Source: https://github.com/h5bp/html5-boilerplate/blob/master/src/css/main.css */
@media print {
  *,
  *:before,
  *:after {
    background: transparent !important;
    box-shadow: none !important;
    text-shadow: none !important;
  }
  a,
  a:visited {
    text-decoration: underline;
  }
  a[href]:after {
    content: " (" attr(href) ")";
  }
  abbr[title]:after {
    content: " (" attr(title) ")";
  }
  a[href^="#"]:after,
  a[href^="javascript:"]:after {
    content: "";
  }
  pre,
  blockquote {
    border: 1px solid #999;
    page-break-inside: avoid;
  }
  thead {
    display: table-header-group;
  }
  tr,
  img {
    page-break-inside: avoid;
  }
  img {
    max-width: 100% !important;
  }
  p,
  h2,
  h3 {
    orphans: 3;
    widows: 3;
  }
  h2,
  h3 {
    page-break-after: avoid;
  }
  .navbar {
    display: none;
  }
  .btn > .caret,
  .dropup > .btn > .caret {
    border-top-color: #000 !important;
  }
  .label {
    border: 1px solid #000;
  }
  .table {
    border-collapse: collapse !important;
  }
  .table td,
  .table th {
    background-color: #fff !important;
  }
  .table-bordered th,
  .table-bordered td {
    border: 1px solid #ddd !important;
  }
}
@font-face {
  font-family: 'Glyphicons Halflings';
  src: url('../components/bootstrap/fonts/glyphicons-halflings-regular.eot');
  src: url('../components/bootstrap/fonts/glyphicons-halflings-regular.eot?#iefix') format('embedded-opentype'), url('../components/bootstrap/fonts/glyphicons-halflings-regular.woff2') format('woff2'), url('../components/bootstrap/fonts/glyphicons-halflings-regular.woff') format('woff'), url('../components/bootstrap/fonts/glyphicons-halflings-regular.ttf') format('truetype'), url('../components/bootstrap/fonts/glyphicons-halflings-regular.svg#glyphicons_halflingsregular') format('svg');
}
.glyphicon {
  position: relative;
  top: 1px;
  display: inline-block;
  font-family: 'Glyphicons Halflings';
  font-style: normal;
  font-weight: normal;
  line-height: 1;
  -webkit-font-smoothing: antialiased;
  -moz-osx-font-smoothing: grayscale;
}
.glyphicon-asterisk:before {
  content: "\002a";
}
.glyphicon-plus:before {
  content: "\002b";
}
.glyphicon-euro:before,
.glyphicon-eur:before {
  content: "\20ac";
}
.glyphicon-minus:before {
  content: "\2212";
}
.glyphicon-cloud:before {
  content: "\2601";
}
.glyphicon-envelope:before {
  content: "\2709";
}
.glyphicon-pencil:before {
  content: "\270f";
}
.glyphicon-glass:before {
  content: "\e001";
}
.glyphicon-music:before {
  content: "\e002";
}
.glyphicon-search:before {
  content: "\e003";
}
.glyphicon-heart:before {
  content: "\e005";
}
.glyphicon-star:before {
  content: "\e006";
}
.glyphicon-star-empty:before {
  content: "\e007";
}
.glyphicon-user:before {
  content: "\e008";
}
.glyphicon-film:before {
  content: "\e009";
}
.glyphicon-th-large:before {
  content: "\e010";
}
.glyphicon-th:before {
  content: "\e011";
}
.glyphicon-th-list:before {
  content: "\e012";
}
.glyphicon-ok:before {
  content: "\e013";
}
.glyphicon-remove:before {
  content: "\e014";
}
.glyphicon-zoom-in:before {
  content: "\e015";
}
.glyphicon-zoom-out:before {
  content: "\e016";
}
.glyphicon-off:before {
  content: "\e017";
}
.glyphicon-signal:before {
  content: "\e018";
}
.glyphicon-cog:before {
  content: "\e019";
}
.glyphicon-trash:before {
  content: "\e020";
}
.glyphicon-home:before {
  content: "\e021";
}
.glyphicon-file:before {
  content: "\e022";
}
.glyphicon-time:before {
  content: "\e023";
}
.glyphicon-road:before {
  content: "\e024";
}
.glyphicon-download-alt:before {
  content: "\e025";
}
.glyphicon-download:before {
  content: "\e026";
}
.glyphicon-upload:before {
  content: "\e027";
}
.glyphicon-inbox:before {
  content: "\e028";
}
.glyphicon-play-circle:before {
  content: "\e029";
}
.glyphicon-repeat:before {
  content: "\e030";
}
.glyphicon-refresh:before {
  content: "\e031";
}
.glyphicon-list-alt:before {
  content: "\e032";
}
.glyphicon-lock:before {
  content: "\e033";
}
.glyphicon-flag:before {
  content: "\e034";
}
.glyphicon-headphones:before {
  content: "\e035";
}
.glyphicon-volume-off:before {
  content: "\e036";
}
.glyphicon-volume-down:before {
  content: "\e037";
}
.glyphicon-volume-up:before {
  content: "\e038";
}
.glyphicon-qrcode:before {
  content: "\e039";
}
.glyphicon-barcode:before {
  content: "\e040";
}
.glyphicon-tag:before {
  content: "\e041";
}
.glyphicon-tags:before {
  content: "\e042";
}
.glyphicon-book:before {
  content: "\e043";
}
.glyphicon-bookmark:before {
  content: "\e044";
}
.glyphicon-print:before {
  content: "\e045";
}
.glyphicon-camera:before {
  content: "\e046";
}
.glyphicon-font:before {
  content: "\e047";
}
.glyphicon-bold:before {
  content: "\e048";
}
.glyphicon-italic:before {
  content: "\e049";
}
.glyphicon-text-height:before {
  content: "\e050";
}
.glyphicon-text-width:before {
  content: "\e051";
}
.glyphicon-align-left:before {
  content: "\e052";
}
.glyphicon-align-center:before {
  content: "\e053";
}
.glyphicon-align-right:before {
  content: "\e054";
}
.glyphicon-align-justify:before {
  content: "\e055";
}
.glyphicon-list:before {
  content: "\e056";
}
.glyphicon-indent-left:before {
  content: "\e057";
}
.glyphicon-indent-right:before {
  content: "\e058";
}
.glyphicon-facetime-video:before {
  content: "\e059";
}
.glyphicon-picture:before {
  content: "\e060";
}
.glyphicon-map-marker:before {
  content: "\e062";
}
.glyphicon-adjust:before {
  content: "\e063";
}
.glyphicon-tint:before {
  content: "\e064";
}
.glyphicon-edit:before {
  content: "\e065";
}
.glyphicon-share:before {
  content: "\e066";
}
.glyphicon-check:before {
  content: "\e067";
}
.glyphicon-move:before {
  content: "\e068";
}
.glyphicon-step-backward:before {
  content: "\e069";
}
.glyphicon-fast-backward:before {
  content: "\e070";
}
.glyphicon-backward:before {
  content: "\e071";
}
.glyphicon-play:before {
  content: "\e072";
}
.glyphicon-pause:before {
  content: "\e073";
}
.glyphicon-stop:before {
  content: "\e074";
}
.glyphicon-forward:before {
  content: "\e075";
}
.glyphicon-fast-forward:before {
  content: "\e076";
}
.glyphicon-step-forward:before {
  content: "\e077";
}
.glyphicon-eject:before {
  content: "\e078";
}
.glyphicon-chevron-left:before {
  content: "\e079";
}
.glyphicon-chevron-right:before {
  content: "\e080";
}
.glyphicon-plus-sign:before {
  content: "\e081";
}
.glyphicon-minus-sign:before {
  content: "\e082";
}
.glyphicon-remove-sign:before {
  content: "\e083";
}
.glyphicon-ok-sign:before {
  content: "\e084";
}
.glyphicon-question-sign:before {
  content: "\e085";
}
.glyphicon-info-sign:before {
  content: "\e086";
}
.glyphicon-screenshot:before {
  content: "\e087";
}
.glyphicon-remove-circle:before {
  content: "\e088";
}
.glyphicon-ok-circle:before {
  content: "\e089";
}
.glyphicon-ban-circle:before {
  content: "\e090";
}
.glyphicon-arrow-left:before {
  content: "\e091";
}
.glyphicon-arrow-right:before {
  content: "\e092";
}
.glyphicon-arrow-up:before {
  content: "\e093";
}
.glyphicon-arrow-down:before {
  content: "\e094";
}
.glyphicon-share-alt:before {
  content: "\e095";
}
.glyphicon-resize-full:before {
  content: "\e096";
}
.glyphicon-resize-small:before {
  content: "\e097";
}
.glyphicon-exclamation-sign:before {
  content: "\e101";
}
.glyphicon-gift:before {
  content: "\e102";
}
.glyphicon-leaf:before {
  content: "\e103";
}
.glyphicon-fire:before {
  content: "\e104";
}
.glyphicon-eye-open:before {
  content: "\e105";
}
.glyphicon-eye-close:before {
  content: "\e106";
}
.glyphicon-warning-sign:before {
  content: "\e107";
}
.glyphicon-plane:before {
  content: "\e108";
}
.glyphicon-calendar:before {
  content: "\e109";
}
.glyphicon-random:before {
  content: "\e110";
}
.glyphicon-comment:before {
  content: "\e111";
}
.glyphicon-magnet:before {
  content: "\e112";
}
.glyphicon-chevron-up:before {
  content: "\e113";
}
.glyphicon-chevron-down:before {
  content: "\e114";
}
.glyphicon-retweet:before {
  content: "\e115";
}
.glyphicon-shopping-cart:before {
  content: "\e116";
}
.glyphicon-folder-close:before {
  content: "\e117";
}
.glyphicon-folder-open:before {
  content: "\e118";
}
.glyphicon-resize-vertical:before {
  content: "\e119";
}
.glyphicon-resize-horizontal:before {
  content: "\e120";
}
.glyphicon-hdd:before {
  content: "\e121";
}
.glyphicon-bullhorn:before {
  content: "\e122";
}
.glyphicon-bell:before {
  content: "\e123";
}
.glyphicon-certificate:before {
  content: "\e124";
}
.glyphicon-thumbs-up:before {
  content: "\e125";
}
.glyphicon-thumbs-down:before {
  content: "\e126";
}
.glyphicon-hand-right:before {
  content: "\e127";
}
.glyphicon-hand-left:before {
  content: "\e128";
}
.glyphicon-hand-up:before {
  content: "\e129";
}
.glyphicon-hand-down:before {
  content: "\e130";
}
.glyphicon-circle-arrow-right:before {
  content: "\e131";
}
.glyphicon-circle-arrow-left:before {
  content: "\e132";
}
.glyphicon-circle-arrow-up:before {
  content: "\e133";
}
.glyphicon-circle-arrow-down:before {
  content: "\e134";
}
.glyphicon-globe:before {
  content: "\e135";
}
.glyphicon-wrench:before {
  content: "\e136";
}
.glyphicon-tasks:before {
  content: "\e137";
}
.glyphicon-filter:before {
  content: "\e138";
}
.glyphicon-briefcase:before {
  content: "\e139";
}
.glyphicon-fullscreen:before {
  content: "\e140";
}
.glyphicon-dashboard:before {
  content: "\e141";
}
.glyphicon-paperclip:before {
  content: "\e142";
}
.glyphicon-heart-empty:before {
  content: "\e143";
}
.glyphicon-link:before {
  content: "\e144";
}
.glyphicon-phone:before {
  content: "\e145";
}
.glyphicon-pushpin:before {
  content: "\e146";
}
.glyphicon-usd:before {
  content: "\e148";
}
.glyphicon-gbp:before {
  content: "\e149";
}
.glyphicon-sort:before {
  content: "\e150";
}
.glyphicon-sort-by-alphabet:before {
  content: "\e151";
}
.glyphicon-sort-by-alphabet-alt:before {
  content: "\e152";
}
.glyphicon-sort-by-order:before {
  content: "\e153";
}
.glyphicon-sort-by-order-alt:before {
  content: "\e154";
}
.glyphicon-sort-by-attributes:before {
  content: "\e155";
}
.glyphicon-sort-by-attributes-alt:before {
  content: "\e156";
}
.glyphicon-unchecked:before {
  content: "\e157";
}
.glyphicon-expand:before {
  content: "\e158";
}
.glyphicon-collapse-down:before {
  content: "\e159";
}
.glyphicon-collapse-up:before {
  content: "\e160";
}
.glyphicon-log-in:before {
  content: "\e161";
}
.glyphicon-flash:before {
  content: "\e162";
}
.glyphicon-log-out:before {
  content: "\e163";
}
.glyphicon-new-window:before {
  content: "\e164";
}
.glyphicon-record:before {
  content: "\e165";
}
.glyphicon-save:before {
  content: "\e166";
}
.glyphicon-open:before {
  content: "\e167";
}
.glyphicon-saved:before {
  content: "\e168";
}
.glyphicon-import:before {
  content: "\e169";
}
.glyphicon-export:before {
  content: "\e170";
}
.glyphicon-send:before {
  content: "\e171";
}
.glyphicon-floppy-disk:before {
  content: "\e172";
}
.glyphicon-floppy-saved:before {
  content: "\e173";
}
.glyphicon-floppy-remove:before {
  content: "\e174";
}
.glyphicon-floppy-save:before {
  content: "\e175";
}
.glyphicon-floppy-open:before {
  content: "\e176";
}
.glyphicon-credit-card:before {
  content: "\e177";
}
.glyphicon-transfer:before {
  content: "\e178";
}
.glyphicon-cutlery:before {
  content: "\e179";
}
.glyphicon-header:before {
  content: "\e180";
}
.glyphicon-compressed:before {
  content: "\e181";
}
.glyphicon-earphone:before {
  content: "\e182";
}
.glyphicon-phone-alt:before {
  content: "\e183";
}
.glyphicon-tower:before {
  content: "\e184";
}
.glyphicon-stats:before {
  content: "\e185";
}
.glyphicon-sd-video:before {
  content: "\e186";
}
.glyphicon-hd-video:before {
  content: "\e187";
}
.glyphicon-subtitles:before {
  content: "\e188";
}
.glyphicon-sound-stereo:before {
  content: "\e189";
}
.glyphicon-sound-dolby:before {
  content: "\e190";
}
.glyphicon-sound-5-1:before {
  content: "\e191";
}
.glyphicon-sound-6-1:before {
  content: "\e192";
}
.glyphicon-sound-7-1:before {
  content: "\e193";
}
.glyphicon-copyright-mark:before {
  content: "\e194";
}
.glyphicon-registration-mark:before {
  content: "\e195";
}
.glyphicon-cloud-download:before {
  content: "\e197";
}
.glyphicon-cloud-upload:before {
  content: "\e198";
}
.glyphicon-tree-conifer:before {
  content: "\e199";
}
.glyphicon-tree-deciduous:before {
  content: "\e200";
}
.glyphicon-cd:before {
  content: "\e201";
}
.glyphicon-save-file:before {
  content: "\e202";
}
.glyphicon-open-file:before {
  content: "\e203";
}
.glyphicon-level-up:before {
  content: "\e204";
}
.glyphicon-copy:before {
  content: "\e205";
}
.glyphicon-paste:before {
  content: "\e206";
}
.glyphicon-alert:before {
  content: "\e209";
}
.glyphicon-equalizer:before {
  content: "\e210";
}
.glyphicon-king:before {
  content: "\e211";
}
.glyphicon-queen:before {
  content: "\e212";
}
.glyphicon-pawn:before {
  content: "\e213";
}
.glyphicon-bishop:before {
  content: "\e214";
}
.glyphicon-knight:before {
  content: "\e215";
}
.glyphicon-baby-formula:before {
  content: "\e216";
}
.glyphicon-tent:before {
  content: "\26fa";
}
.glyphicon-blackboard:before {
  content: "\e218";
}
.glyphicon-bed:before {
  content: "\e219";
}
.glyphicon-apple:before {
  content: "\f8ff";
}
.glyphicon-erase:before {
  content: "\e221";
}
.glyphicon-hourglass:before {
  content: "\231b";
}
.glyphicon-lamp:before {
  content: "\e223";
}
.glyphicon-duplicate:before {
  content: "\e224";
}
.glyphicon-piggy-bank:before {
  content: "\e225";
}
.glyphicon-scissors:before {
  content: "\e226";
}
.glyphicon-bitcoin:before {
  content: "\e227";
}
.glyphicon-btc:before {
  content: "\e227";
}
.glyphicon-xbt:before {
  content: "\e227";
}
.glyphicon-yen:before {
  content: "\00a5";
}
.glyphicon-jpy:before {
  content: "\00a5";
}
.glyphicon-ruble:before {
  content: "\20bd";
}
.glyphicon-rub:before {
  content: "\20bd";
}
.glyphicon-scale:before {
  content: "\e230";
}
.glyphicon-ice-lolly:before {
  content: "\e231";
}
.glyphicon-ice-lolly-tasted:before {
  content: "\e232";
}
.glyphicon-education:before {
  content: "\e233";
}
.glyphicon-option-horizontal:before {
  content: "\e234";
}
.glyphicon-option-vertical:before {
  content: "\e235";
}
.glyphicon-menu-hamburger:before {
  content: "\e236";
}
.glyphicon-modal-window:before {
  content: "\e237";
}
.glyphicon-oil:before {
  content: "\e238";
}
.glyphicon-grain:before {
  content: "\e239";
}
.glyphicon-sunglasses:before {
  content: "\e240";
}
.glyphicon-text-size:before {
  content: "\e241";
}
.glyphicon-text-color:before {
  content: "\e242";
}
.glyphicon-text-background:before {
  content: "\e243";
}
.glyphicon-object-align-top:before {
  content: "\e244";
}
.glyphicon-object-align-bottom:before {
  content: "\e245";
}
.glyphicon-object-align-horizontal:before {
  content: "\e246";
}
.glyphicon-object-align-left:before {
  content: "\e247";
}
.glyphicon-object-align-vertical:before {
  content: "\e248";
}
.glyphicon-object-align-right:before {
  content: "\e249";
}
.glyphicon-triangle-right:before {
  content: "\e250";
}
.glyphicon-triangle-left:before {
  content: "\e251";
}
.glyphicon-triangle-bottom:before {
  content: "\e252";
}
.glyphicon-triangle-top:before {
  content: "\e253";
}
.glyphicon-console:before {
  content: "\e254";
}
.glyphicon-superscript:before {
  content: "\e255";
}
.glyphicon-subscript:before {
  content: "\e256";
}
.glyphicon-menu-left:before {
  content: "\e257";
}
.glyphicon-menu-right:before {
  content: "\e258";
}
.glyphicon-menu-down:before {
  content: "\e259";
}
.glyphicon-menu-up:before {
  content: "\e260";
}
* {
  -webkit-box-sizing: border-box;
  -moz-box-sizing: border-box;
  box-sizing: border-box;
}
*:before,
*:after {
  -webkit-box-sizing: border-box;
  -moz-box-sizing: border-box;
  box-sizing: border-box;
}
html {
  font-size: 10px;
  -webkit-tap-highlight-color: rgba(0, 0, 0, 0);
}
body {
  font-family: "Helvetica Neue", Helvetica, Arial, sans-serif;
  font-size: 13px;
  line-height: 1.42857143;
  color: #000;
  background-color: #fff;
}
input,
button,
select,
textarea {
  font-family: inherit;
  font-size: inherit;
  line-height: inherit;
}
a {
  color: #337ab7;
  text-decoration: none;
}
a:hover,
a:focus {
  color: #23527c;
  text-decoration: underline;
}
a:focus {
  outline: 5px auto -webkit-focus-ring-color;
  outline-offset: -2px;
}
figure {
  margin: 0;
}
img {
  vertical-align: middle;
}
.img-responsive,
.thumbnail > img,
.thumbnail a > img,
.carousel-inner > .item > img,
.carousel-inner > .item > a > img {
  display: block;
  max-width: 100%;
  height: auto;
}
.img-rounded {
  border-radius: 3px;
}
.img-thumbnail {
  padding: 4px;
  line-height: 1.42857143;
  background-color: #fff;
  border: 1px solid #ddd;
  border-radius: 2px;
  -webkit-transition: all 0.2s ease-in-out;
  -o-transition: all 0.2s ease-in-out;
  transition: all 0.2s ease-in-out;
  display: inline-block;
  max-width: 100%;
  height: auto;
}
.img-circle {
  border-radius: 50%;
}
hr {
  margin-top: 18px;
  margin-bottom: 18px;
  border: 0;
  border-top: 1px solid #eeeeee;
}
.sr-only {
  position: absolute;
  width: 1px;
  height: 1px;
  margin: -1px;
  padding: 0;
  overflow: hidden;
  clip: rect(0, 0, 0, 0);
  border: 0;
}
.sr-only-focusable:active,
.sr-only-focusable:focus {
  position: static;
  width: auto;
  height: auto;
  margin: 0;
  overflow: visible;
  clip: auto;
}
[role="button"] {
  cursor: pointer;
}
h1,
h2,
h3,
h4,
h5,
h6,
.h1,
.h2,
.h3,
.h4,
.h5,
.h6 {
  font-family: inherit;
  font-weight: 500;
  line-height: 1.1;
  color: inherit;
}
h1 small,
h2 small,
h3 small,
h4 small,
h5 small,
h6 small,
.h1 small,
.h2 small,
.h3 small,
.h4 small,
.h5 small,
.h6 small,
h1 .small,
h2 .small,
h3 .small,
h4 .small,
h5 .small,
h6 .small,
.h1 .small,
.h2 .small,
.h3 .small,
.h4 .small,
.h5 .small,
.h6 .small {
  font-weight: normal;
  line-height: 1;
  color: #777777;
}
h1,
.h1,
h2,
.h2,
h3,
.h3 {
  margin-top: 18px;
  margin-bottom: 9px;
}
h1 small,
.h1 small,
h2 small,
.h2 small,
h3 small,
.h3 small,
h1 .small,
.h1 .small,
h2 .small,
.h2 .small,
h3 .small,
.h3 .small {
  font-size: 65%;
}
h4,
.h4,
h5,
.h5,
h6,
.h6 {
  margin-top: 9px;
  margin-bottom: 9px;
}
h4 small,
.h4 small,
h5 small,
.h5 small,
h6 small,
.h6 small,
h4 .small,
.h4 .small,
h5 .small,
.h5 .small,
h6 .small,
.h6 .small {
  font-size: 75%;
}
h1,
.h1 {
  font-size: 33px;
}
h2,
.h2 {
  font-size: 27px;
}
h3,
.h3 {
  font-size: 23px;
}
h4,
.h4 {
  font-size: 17px;
}
h5,
.h5 {
  font-size: 13px;
}
h6,
.h6 {
  font-size: 12px;
}
p {
  margin: 0 0 9px;
}
.lead {
  margin-bottom: 18px;
  font-size: 14px;
  font-weight: 300;
  line-height: 1.4;
}
@media (min-width: 768px) {
  .lead {
    font-size: 19.5px;
  }
}
small,
.small {
  font-size: 92%;
}
mark,
.mark {
  background-color: #fcf8e3;
  padding: .2em;
}
.text-left {
  text-align: left;
}
.text-right {
  text-align: right;
}
.text-center {
  text-align: center;
}
.text-justify {
  text-align: justify;
}
.text-nowrap {
  white-space: nowrap;
}
.text-lowercase {
  text-transform: lowercase;
}
.text-uppercase {
  text-transform: uppercase;
}
.text-capitalize {
  text-transform: capitalize;
}
.text-muted {
  color: #777777;
}
.text-primary {
  color: #337ab7;
}
a.text-primary:hover,
a.text-primary:focus {
  color: #286090;
}
.text-success {
  color: #3c763d;
}
a.text-success:hover,
a.text-success:focus {
  color: #2b542c;
}
.text-info {
  color: #31708f;
}
a.text-info:hover,
a.text-info:focus {
  color: #245269;
}
.text-warning {
  color: #8a6d3b;
}
a.text-warning:hover,
a.text-warning:focus {
  color: #66512c;
}
.text-danger {
  color: #a94442;
}
a.text-danger:hover,
a.text-danger:focus {
  color: #843534;
}
.bg-primary {
  color: #fff;
  background-color: #337ab7;
}
a.bg-primary:hover,
a.bg-primary:focus {
  background-color: #286090;
}
.bg-success {
  background-color: #dff0d8;
}
a.bg-success:hover,
a.bg-success:focus {
  background-color: #c1e2b3;
}
.bg-info {
  background-color: #d9edf7;
}
a.bg-info:hover,
a.bg-info:focus {
  background-color: #afd9ee;
}
.bg-warning {
  background-color: #fcf8e3;
}
a.bg-warning:hover,
a.bg-warning:focus {
  background-color: #f7ecb5;
}
.bg-danger {
  background-color: #f2dede;
}
a.bg-danger:hover,
a.bg-danger:focus {
  background-color: #e4b9b9;
}
.page-header {
  padding-bottom: 8px;
  margin: 36px 0 18px;
  border-bottom: 1px solid #eeeeee;
}
ul,
ol {
  margin-top: 0;
  margin-bottom: 9px;
}
ul ul,
ol ul,
ul ol,
ol ol {
  margin-bottom: 0;
}
.list-unstyled {
  padding-left: 0;
  list-style: none;
}
.list-inline {
  padding-left: 0;
  list-style: none;
  margin-left: -5px;
}
.list-inline > li {
  display: inline-block;
  padding-left: 5px;
  padding-right: 5px;
}
dl {
  margin-top: 0;
  margin-bottom: 18px;
}
dt,
dd {
  line-height: 1.42857143;
}
dt {
  font-weight: bold;
}
dd {
  margin-left: 0;
}
@media (min-width: 541px) {
  .dl-horizontal dt {
    float: left;
    width: 160px;
    clear: left;
    text-align: right;
    overflow: hidden;
    text-overflow: ellipsis;
    white-space: nowrap;
  }
  .dl-horizontal dd {
    margin-left: 180px;
  }
}
abbr[title],
abbr[data-original-title] {
  cursor: help;
  border-bottom: 1px dotted #777777;
}
.initialism {
  font-size: 90%;
  text-transform: uppercase;
}
blockquote {
  padding: 9px 18px;
  margin: 0 0 18px;
  font-size: inherit;
  border-left: 5px solid #eeeeee;
}
blockquote p:last-child,
blockquote ul:last-child,
blockquote ol:last-child {
  margin-bottom: 0;
}
blockquote footer,
blockquote small,
blockquote .small {
  display: block;
  font-size: 80%;
  line-height: 1.42857143;
  color: #777777;
}
blockquote footer:before,
blockquote small:before,
blockquote .small:before {
  content: '\2014 \00A0';
}
.blockquote-reverse,
blockquote.pull-right {
  padding-right: 15px;
  padding-left: 0;
  border-right: 5px solid #eeeeee;
  border-left: 0;
  text-align: right;
}
.blockquote-reverse footer:before,
blockquote.pull-right footer:before,
.blockquote-reverse small:before,
blockquote.pull-right small:before,
.blockquote-reverse .small:before,
blockquote.pull-right .small:before {
  content: '';
}
.blockquote-reverse footer:after,
blockquote.pull-right footer:after,
.blockquote-reverse small:after,
blockquote.pull-right small:after,
.blockquote-reverse .small:after,
blockquote.pull-right .small:after {
  content: '\00A0 \2014';
}
address {
  margin-bottom: 18px;
  font-style: normal;
  line-height: 1.42857143;
}
code,
kbd,
pre,
samp {
  font-family: monospace;
}
code {
  padding: 2px 4px;
  font-size: 90%;
  color: #c7254e;
  background-color: #f9f2f4;
  border-radius: 2px;
}
kbd {
  padding: 2px 4px;
  font-size: 90%;
  color: #888;
  background-color: transparent;
  border-radius: 1px;
  box-shadow: inset 0 -1px 0 rgba(0, 0, 0, 0.25);
}
kbd kbd {
  padding: 0;
  font-size: 100%;
  font-weight: bold;
  box-shadow: none;
}
pre {
  display: block;
  padding: 8.5px;
  margin: 0 0 9px;
  font-size: 12px;
  line-height: 1.42857143;
  word-break: break-all;
  word-wrap: break-word;
  color: #333333;
  background-color: #f5f5f5;
  border: 1px solid #ccc;
  border-radius: 2px;
}
pre code {
  padding: 0;
  font-size: inherit;
  color: inherit;
  white-space: pre-wrap;
  background-color: transparent;
  border-radius: 0;
}
.pre-scrollable {
  max-height: 340px;
  overflow-y: scroll;
}
.container {
  margin-right: auto;
  margin-left: auto;
  padding-left: 0px;
  padding-right: 0px;
}
@media (min-width: 768px) {
  .container {
    width: 768px;
  }
}
@media (min-width: 992px) {
  .container {
    width: 940px;
  }
}
@media (min-width: 1200px) {
  .container {
    width: 1140px;
  }
}
.container-fluid {
  margin-right: auto;
  margin-left: auto;
  padding-left: 0px;
  padding-right: 0px;
}
.row {
  margin-left: 0px;
  margin-right: 0px;
}
.col-xs-1, .col-sm-1, .col-md-1, .col-lg-1, .col-xs-2, .col-sm-2, .col-md-2, .col-lg-2, .col-xs-3, .col-sm-3, .col-md-3, .col-lg-3, .col-xs-4, .col-sm-4, .col-md-4, .col-lg-4, .col-xs-5, .col-sm-5, .col-md-5, .col-lg-5, .col-xs-6, .col-sm-6, .col-md-6, .col-lg-6, .col-xs-7, .col-sm-7, .col-md-7, .col-lg-7, .col-xs-8, .col-sm-8, .col-md-8, .col-lg-8, .col-xs-9, .col-sm-9, .col-md-9, .col-lg-9, .col-xs-10, .col-sm-10, .col-md-10, .col-lg-10, .col-xs-11, .col-sm-11, .col-md-11, .col-lg-11, .col-xs-12, .col-sm-12, .col-md-12, .col-lg-12 {
  position: relative;
  min-height: 1px;
  padding-left: 0px;
  padding-right: 0px;
}
.col-xs-1, .col-xs-2, .col-xs-3, .col-xs-4, .col-xs-5, .col-xs-6, .col-xs-7, .col-xs-8, .col-xs-9, .col-xs-10, .col-xs-11, .col-xs-12 {
  float: left;
}
.col-xs-12 {
  width: 100%;
}
.col-xs-11 {
  width: 91.66666667%;
}
.col-xs-10 {
  width: 83.33333333%;
}
.col-xs-9 {
  width: 75%;
}
.col-xs-8 {
  width: 66.66666667%;
}
.col-xs-7 {
  width: 58.33333333%;
}
.col-xs-6 {
  width: 50%;
}
.col-xs-5 {
  width: 41.66666667%;
}
.col-xs-4 {
  width: 33.33333333%;
}
.col-xs-3 {
  width: 25%;
}
.col-xs-2 {
  width: 16.66666667%;
}
.col-xs-1 {
  width: 8.33333333%;
}
.col-xs-pull-12 {
  right: 100%;
}
.col-xs-pull-11 {
  right: 91.66666667%;
}
.col-xs-pull-10 {
  right: 83.33333333%;
}
.col-xs-pull-9 {
  right: 75%;
}
.col-xs-pull-8 {
  right: 66.66666667%;
}
.col-xs-pull-7 {
  right: 58.33333333%;
}
.col-xs-pull-6 {
  right: 50%;
}
.col-xs-pull-5 {
  right: 41.66666667%;
}
.col-xs-pull-4 {
  right: 33.33333333%;
}
.col-xs-pull-3 {
  right: 25%;
}
.col-xs-pull-2 {
  right: 16.66666667%;
}
.col-xs-pull-1 {
  right: 8.33333333%;
}
.col-xs-pull-0 {
  right: auto;
}
.col-xs-push-12 {
  left: 100%;
}
.col-xs-push-11 {
  left: 91.66666667%;
}
.col-xs-push-10 {
  left: 83.33333333%;
}
.col-xs-push-9 {
  left: 75%;
}
.col-xs-push-8 {
  left: 66.66666667%;
}
.col-xs-push-7 {
  left: 58.33333333%;
}
.col-xs-push-6 {
  left: 50%;
}
.col-xs-push-5 {
  left: 41.66666667%;
}
.col-xs-push-4 {
  left: 33.33333333%;
}
.col-xs-push-3 {
  left: 25%;
}
.col-xs-push-2 {
  left: 16.66666667%;
}
.col-xs-push-1 {
  left: 8.33333333%;
}
.col-xs-push-0 {
  left: auto;
}
.col-xs-offset-12 {
  margin-left: 100%;
}
.col-xs-offset-11 {
  margin-left: 91.66666667%;
}
.col-xs-offset-10 {
  margin-left: 83.33333333%;
}
.col-xs-offset-9 {
  margin-left: 75%;
}
.col-xs-offset-8 {
  margin-left: 66.66666667%;
}
.col-xs-offset-7 {
  margin-left: 58.33333333%;
}
.col-xs-offset-6 {
  margin-left: 50%;
}
.col-xs-offset-5 {
  margin-left: 41.66666667%;
}
.col-xs-offset-4 {
  margin-left: 33.33333333%;
}
.col-xs-offset-3 {
  margin-left: 25%;
}
.col-xs-offset-2 {
  margin-left: 16.66666667%;
}
.col-xs-offset-1 {
  margin-left: 8.33333333%;
}
.col-xs-offset-0 {
  margin-left: 0%;
}
@media (min-width: 768px) {
  .col-sm-1, .col-sm-2, .col-sm-3, .col-sm-4, .col-sm-5, .col-sm-6, .col-sm-7, .col-sm-8, .col-sm-9, .col-sm-10, .col-sm-11, .col-sm-12 {
    float: left;
  }
  .col-sm-12 {
    width: 100%;
  }
  .col-sm-11 {
    width: 91.66666667%;
  }
  .col-sm-10 {
    width: 83.33333333%;
  }
  .col-sm-9 {
    width: 75%;
  }
  .col-sm-8 {
    width: 66.66666667%;
  }
  .col-sm-7 {
    width: 58.33333333%;
  }
  .col-sm-6 {
    width: 50%;
  }
  .col-sm-5 {
    width: 41.66666667%;
  }
  .col-sm-4 {
    width: 33.33333333%;
  }
  .col-sm-3 {
    width: 25%;
  }
  .col-sm-2 {
    width: 16.66666667%;
  }
  .col-sm-1 {
    width: 8.33333333%;
  }
  .col-sm-pull-12 {
    right: 100%;
  }
  .col-sm-pull-11 {
    right: 91.66666667%;
  }
  .col-sm-pull-10 {
    right: 83.33333333%;
  }
  .col-sm-pull-9 {
    right: 75%;
  }
  .col-sm-pull-8 {
    right: 66.66666667%;
  }
  .col-sm-pull-7 {
    right: 58.33333333%;
  }
  .col-sm-pull-6 {
    right: 50%;
  }
  .col-sm-pull-5 {
    right: 41.66666667%;
  }
  .col-sm-pull-4 {
    right: 33.33333333%;
  }
  .col-sm-pull-3 {
    right: 25%;
  }
  .col-sm-pull-2 {
    right: 16.66666667%;
  }
  .col-sm-pull-1 {
    right: 8.33333333%;
  }
  .col-sm-pull-0 {
    right: auto;
  }
  .col-sm-push-12 {
    left: 100%;
  }
  .col-sm-push-11 {
    left: 91.66666667%;
  }
  .col-sm-push-10 {
    left: 83.33333333%;
  }
  .col-sm-push-9 {
    left: 75%;
  }
  .col-sm-push-8 {
    left: 66.66666667%;
  }
  .col-sm-push-7 {
    left: 58.33333333%;
  }
  .col-sm-push-6 {
    left: 50%;
  }
  .col-sm-push-5 {
    left: 41.66666667%;
  }
  .col-sm-push-4 {
    left: 33.33333333%;
  }
  .col-sm-push-3 {
    left: 25%;
  }
  .col-sm-push-2 {
    left: 16.66666667%;
  }
  .col-sm-push-1 {
    left: 8.33333333%;
  }
  .col-sm-push-0 {
    left: auto;
  }
  .col-sm-offset-12 {
    margin-left: 100%;
  }
  .col-sm-offset-11 {
    margin-left: 91.66666667%;
  }
  .col-sm-offset-10 {
    margin-left: 83.33333333%;
  }
  .col-sm-offset-9 {
    margin-left: 75%;
  }
  .col-sm-offset-8 {
    margin-left: 66.66666667%;
  }
  .col-sm-offset-7 {
    margin-left: 58.33333333%;
  }
  .col-sm-offset-6 {
    margin-left: 50%;
  }
  .col-sm-offset-5 {
    margin-left: 41.66666667%;
  }
  .col-sm-offset-4 {
    margin-left: 33.33333333%;
  }
  .col-sm-offset-3 {
    margin-left: 25%;
  }
  .col-sm-offset-2 {
    margin-left: 16.66666667%;
  }
  .col-sm-offset-1 {
    margin-left: 8.33333333%;
  }
  .col-sm-offset-0 {
    margin-left: 0%;
  }
}
@media (min-width: 992px) {
  .col-md-1, .col-md-2, .col-md-3, .col-md-4, .col-md-5, .col-md-6, .col-md-7, .col-md-8, .col-md-9, .col-md-10, .col-md-11, .col-md-12 {
    float: left;
  }
  .col-md-12 {
    width: 100%;
  }
  .col-md-11 {
    width: 91.66666667%;
  }
  .col-md-10 {
    width: 83.33333333%;
  }
  .col-md-9 {
    width: 75%;
  }
  .col-md-8 {
    width: 66.66666667%;
  }
  .col-md-7 {
    width: 58.33333333%;
  }
  .col-md-6 {
    width: 50%;
  }
  .col-md-5 {
    width: 41.66666667%;
  }
  .col-md-4 {
    width: 33.33333333%;
  }
  .col-md-3 {
    width: 25%;
  }
  .col-md-2 {
    width: 16.66666667%;
  }
  .col-md-1 {
    width: 8.33333333%;
  }
  .col-md-pull-12 {
    right: 100%;
  }
  .col-md-pull-11 {
    right: 91.66666667%;
  }
  .col-md-pull-10 {
    right: 83.33333333%;
  }
  .col-md-pull-9 {
    right: 75%;
  }
  .col-md-pull-8 {
    right: 66.66666667%;
  }
  .col-md-pull-7 {
    right: 58.33333333%;
  }
  .col-md-pull-6 {
    right: 50%;
  }
  .col-md-pull-5 {
    right: 41.66666667%;
  }
  .col-md-pull-4 {
    right: 33.33333333%;
  }
  .col-md-pull-3 {
    right: 25%;
  }
  .col-md-pull-2 {
    right: 16.66666667%;
  }
  .col-md-pull-1 {
    right: 8.33333333%;
  }
  .col-md-pull-0 {
    right: auto;
  }
  .col-md-push-12 {
    left: 100%;
  }
  .col-md-push-11 {
    left: 91.66666667%;
  }
  .col-md-push-10 {
    left: 83.33333333%;
  }
  .col-md-push-9 {
    left: 75%;
  }
  .col-md-push-8 {
    left: 66.66666667%;
  }
  .col-md-push-7 {
    left: 58.33333333%;
  }
  .col-md-push-6 {
    left: 50%;
  }
  .col-md-push-5 {
    left: 41.66666667%;
  }
  .col-md-push-4 {
    left: 33.33333333%;
  }
  .col-md-push-3 {
    left: 25%;
  }
  .col-md-push-2 {
    left: 16.66666667%;
  }
  .col-md-push-1 {
    left: 8.33333333%;
  }
  .col-md-push-0 {
    left: auto;
  }
  .col-md-offset-12 {
    margin-left: 100%;
  }
  .col-md-offset-11 {
    margin-left: 91.66666667%;
  }
  .col-md-offset-10 {
    margin-left: 83.33333333%;
  }
  .col-md-offset-9 {
    margin-left: 75%;
  }
  .col-md-offset-8 {
    margin-left: 66.66666667%;
  }
  .col-md-offset-7 {
    margin-left: 58.33333333%;
  }
  .col-md-offset-6 {
    margin-left: 50%;
  }
  .col-md-offset-5 {
    margin-left: 41.66666667%;
  }
  .col-md-offset-4 {
    margin-left: 33.33333333%;
  }
  .col-md-offset-3 {
    margin-left: 25%;
  }
  .col-md-offset-2 {
    margin-left: 16.66666667%;
  }
  .col-md-offset-1 {
    margin-left: 8.33333333%;
  }
  .col-md-offset-0 {
    margin-left: 0%;
  }
}
@media (min-width: 1200px) {
  .col-lg-1, .col-lg-2, .col-lg-3, .col-lg-4, .col-lg-5, .col-lg-6, .col-lg-7, .col-lg-8, .col-lg-9, .col-lg-10, .col-lg-11, .col-lg-12 {
    float: left;
  }
  .col-lg-12 {
    width: 100%;
  }
  .col-lg-11 {
    width: 91.66666667%;
  }
  .col-lg-10 {
    width: 83.33333333%;
  }
  .col-lg-9 {
    width: 75%;
  }
  .col-lg-8 {
    width: 66.66666667%;
  }
  .col-lg-7 {
    width: 58.33333333%;
  }
  .col-lg-6 {
    width: 50%;
  }
  .col-lg-5 {
    width: 41.66666667%;
  }
  .col-lg-4 {
    width: 33.33333333%;
  }
  .col-lg-3 {
    width: 25%;
  }
  .col-lg-2 {
    width: 16.66666667%;
  }
  .col-lg-1 {
    width: 8.33333333%;
  }
  .col-lg-pull-12 {
    right: 100%;
  }
  .col-lg-pull-11 {
    right: 91.66666667%;
  }
  .col-lg-pull-10 {
    right: 83.33333333%;
  }
  .col-lg-pull-9 {
    right: 75%;
  }
  .col-lg-pull-8 {
    right: 66.66666667%;
  }
  .col-lg-pull-7 {
    right: 58.33333333%;
  }
  .col-lg-pull-6 {
    right: 50%;
  }
  .col-lg-pull-5 {
    right: 41.66666667%;
  }
  .col-lg-pull-4 {
    right: 33.33333333%;
  }
  .col-lg-pull-3 {
    right: 25%;
  }
  .col-lg-pull-2 {
    right: 16.66666667%;
  }
  .col-lg-pull-1 {
    right: 8.33333333%;
  }
  .col-lg-pull-0 {
    right: auto;
  }
  .col-lg-push-12 {
    left: 100%;
  }
  .col-lg-push-11 {
    left: 91.66666667%;
  }
  .col-lg-push-10 {
    left: 83.33333333%;
  }
  .col-lg-push-9 {
    left: 75%;
  }
  .col-lg-push-8 {
    left: 66.66666667%;
  }
  .col-lg-push-7 {
    left: 58.33333333%;
  }
  .col-lg-push-6 {
    left: 50%;
  }
  .col-lg-push-5 {
    left: 41.66666667%;
  }
  .col-lg-push-4 {
    left: 33.33333333%;
  }
  .col-lg-push-3 {
    left: 25%;
  }
  .col-lg-push-2 {
    left: 16.66666667%;
  }
  .col-lg-push-1 {
    left: 8.33333333%;
  }
  .col-lg-push-0 {
    left: auto;
  }
  .col-lg-offset-12 {
    margin-left: 100%;
  }
  .col-lg-offset-11 {
    margin-left: 91.66666667%;
  }
  .col-lg-offset-10 {
    margin-left: 83.33333333%;
  }
  .col-lg-offset-9 {
    margin-left: 75%;
  }
  .col-lg-offset-8 {
    margin-left: 66.66666667%;
  }
  .col-lg-offset-7 {
    margin-left: 58.33333333%;
  }
  .col-lg-offset-6 {
    margin-left: 50%;
  }
  .col-lg-offset-5 {
    margin-left: 41.66666667%;
  }
  .col-lg-offset-4 {
    margin-left: 33.33333333%;
  }
  .col-lg-offset-3 {
    margin-left: 25%;
  }
  .col-lg-offset-2 {
    margin-left: 16.66666667%;
  }
  .col-lg-offset-1 {
    margin-left: 8.33333333%;
  }
  .col-lg-offset-0 {
    margin-left: 0%;
  }
}
table {
  background-color: transparent;
}
caption {
  padding-top: 8px;
  padding-bottom: 8px;
  color: #777777;
  text-align: left;
}
th {
  text-align: left;
}
.table {
  width: 100%;
  max-width: 100%;
  margin-bottom: 18px;
}
.table > thead > tr > th,
.table > tbody > tr > th,
.table > tfoot > tr > th,
.table > thead > tr > td,
.table > tbody > tr > td,
.table > tfoot > tr > td {
  padding: 8px;
  line-height: 1.42857143;
  vertical-align: top;
  border-top: 1px solid #ddd;
}
.table > thead > tr > th {
  vertical-align: bottom;
  border-bottom: 2px solid #ddd;
}
.table > caption + thead > tr:first-child > th,
.table > colgroup + thead > tr:first-child > th,
.table > thead:first-child > tr:first-child > th,
.table > caption + thead > tr:first-child > td,
.table > colgroup + thead > tr:first-child > td,
.table > thead:first-child > tr:first-child > td {
  border-top: 0;
}
.table > tbody + tbody {
  border-top: 2px solid #ddd;
}
.table .table {
  background-color: #fff;
}
.table-condensed > thead > tr > th,
.table-condensed > tbody > tr > th,
.table-condensed > tfoot > tr > th,
.table-condensed > thead > tr > td,
.table-condensed > tbody > tr > td,
.table-condensed > tfoot > tr > td {
  padding: 5px;
}
.table-bordered {
  border: 1px solid #ddd;
}
.table-bordered > thead > tr > th,
.table-bordered > tbody > tr > th,
.table-bordered > tfoot > tr > th,
.table-bordered > thead > tr > td,
.table-bordered > tbody > tr > td,
.table-bordered > tfoot > tr > td {
  border: 1px solid #ddd;
}
.table-bordered > thead > tr > th,
.table-bordered > thead > tr > td {
  border-bottom-width: 2px;
}
.table-striped > tbody > tr:nth-of-type(odd) {
  background-color: #f9f9f9;
}
.table-hover > tbody > tr:hover {
  background-color: #f5f5f5;
}
table col[class*="col-"] {
  position: static;
  float: none;
  display: table-column;
}
table td[class*="col-"],
table th[class*="col-"] {
  position: static;
  float: none;
  display: table-cell;
}
.table > thead > tr > td.active,
.table > tbody > tr > td.active,
.table > tfoot > tr > td.active,
.table > thead > tr > th.active,
.table > tbody > tr > th.active,
.table > tfoot > tr > th.active,
.table > thead > tr.active > td,
.table > tbody > tr.active > td,
.table > tfoot > tr.active > td,
.table > thead > tr.active > th,
.table > tbody > tr.active > th,
.table > tfoot > tr.active > th {
  background-color: #f5f5f5;
}
.table-hover > tbody > tr > td.active:hover,
.table-hover > tbody > tr > th.active:hover,
.table-hover > tbody > tr.active:hover > td,
.table-hover > tbody > tr:hover > .active,
.table-hover > tbody > tr.active:hover > th {
  background-color: #e8e8e8;
}
.table > thead > tr > td.success,
.table > tbody > tr > td.success,
.table > tfoot > tr > td.success,
.table > thead > tr > th.success,
.table > tbody > tr > th.success,
.table > tfoot > tr > th.success,
.table > thead > tr.success > td,
.table > tbody > tr.success > td,
.table > tfoot > tr.success > td,
.table > thead > tr.success > th,
.table > tbody > tr.success > th,
.table > tfoot > tr.success > th {
  background-color: #dff0d8;
}
.table-hover > tbody > tr > td.success:hover,
.table-hover > tbody > tr > th.success:hover,
.table-hover > tbody > tr.success:hover > td,
.table-hover > tbody > tr:hover > .success,
.table-hover > tbody > tr.success:hover > th {
  background-color: #d0e9c6;
}
.table > thead > tr > td.info,
.table > tbody > tr > td.info,
.table > tfoot > tr > td.info,
.table > thead > tr > th.info,
.table > tbody > tr > th.info,
.table > tfoot > tr > th.info,
.table > thead > tr.info > td,
.table > tbody > tr.info > td,
.table > tfoot > tr.info > td,
.table > thead > tr.info > th,
.table > tbody > tr.info > th,
.table > tfoot > tr.info > th {
  background-color: #d9edf7;
}
.table-hover > tbody > tr > td.info:hover,
.table-hover > tbody > tr > th.info:hover,
.table-hover > tbody > tr.info:hover > td,
.table-hover > tbody > tr:hover > .info,
.table-hover > tbody > tr.info:hover > th {
  background-color: #c4e3f3;
}
.table > thead > tr > td.warning,
.table > tbody > tr > td.warning,
.table > tfoot > tr > td.warning,
.table > thead > tr > th.warning,
.table > tbody > tr > th.warning,
.table > tfoot > tr > th.warning,
.table > thead > tr.warning > td,
.table > tbody > tr.warning > td,
.table > tfoot > tr.warning > td,
.table > thead > tr.warning > th,
.table > tbody > tr.warning > th,
.table > tfoot > tr.warning > th {
  background-color: #fcf8e3;
}
.table-hover > tbody > tr > td.warning:hover,
.table-hover > tbody > tr > th.warning:hover,
.table-hover > tbody > tr.warning:hover > td,
.table-hover > tbody > tr:hover > .warning,
.table-hover > tbody > tr.warning:hover > th {
  background-color: #faf2cc;
}
.table > thead > tr > td.danger,
.table > tbody > tr > td.danger,
.table > tfoot > tr > td.danger,
.table > thead > tr > th.danger,
.table > tbody > tr > th.danger,
.table > tfoot > tr > th.danger,
.table > thead > tr.danger > td,
.table > tbody > tr.danger > td,
.table > tfoot > tr.danger > td,
.table > thead > tr.danger > th,
.table > tbody > tr.danger > th,
.table > tfoot > tr.danger > th {
  background-color: #f2dede;
}
.table-hover > tbody > tr > td.danger:hover,
.table-hover > tbody > tr > th.danger:hover,
.table-hover > tbody > tr.danger:hover > td,
.table-hover > tbody > tr:hover > .danger,
.table-hover > tbody > tr.danger:hover > th {
  background-color: #ebcccc;
}
.table-responsive {
  overflow-x: auto;
  min-height: 0.01%;
}
@media screen and (max-width: 767px) {
  .table-responsive {
    width: 100%;
    margin-bottom: 13.5px;
    overflow-y: hidden;
    -ms-overflow-style: -ms-autohiding-scrollbar;
    border: 1px solid #ddd;
  }
  .table-responsive > .table {
    margin-bottom: 0;
  }
  .table-responsive > .table > thead > tr > th,
  .table-responsive > .table > tbody > tr > th,
  .table-responsive > .table > tfoot > tr > th,
  .table-responsive > .table > thead > tr > td,
  .table-responsive > .table > tbody > tr > td,
  .table-responsive > .table > tfoot > tr > td {
    white-space: nowrap;
  }
  .table-responsive > .table-bordered {
    border: 0;
  }
  .table-responsive > .table-bordered > thead > tr > th:first-child,
  .table-responsive > .table-bordered > tbody > tr > th:first-child,
  .table-responsive > .table-bordered > tfoot > tr > th:first-child,
  .table-responsive > .table-bordered > thead > tr > td:first-child,
  .table-responsive > .table-bordered > tbody > tr > td:first-child,
  .table-responsive > .table-bordered > tfoot > tr > td:first-child {
    border-left: 0;
  }
  .table-responsive > .table-bordered > thead > tr > th:last-child,
  .table-responsive > .table-bordered > tbody > tr > th:last-child,
  .table-responsive > .table-bordered > tfoot > tr > th:last-child,
  .table-responsive > .table-bordered > thead > tr > td:last-child,
  .table-responsive > .table-bordered > tbody > tr > td:last-child,
  .table-responsive > .table-bordered > tfoot > tr > td:last-child {
    border-right: 0;
  }
  .table-responsive > .table-bordered > tbody > tr:last-child > th,
  .table-responsive > .table-bordered > tfoot > tr:last-child > th,
  .table-responsive > .table-bordered > tbody > tr:last-child > td,
  .table-responsive > .table-bordered > tfoot > tr:last-child > td {
    border-bottom: 0;
  }
}
fieldset {
  padding: 0;
  margin: 0;
  border: 0;
  min-width: 0;
}
legend {
  display: block;
  width: 100%;
  padding: 0;
  margin-bottom: 18px;
  font-size: 19.5px;
  line-height: inherit;
  color: #333333;
  border: 0;
  border-bottom: 1px solid #e5e5e5;
}
label {
  display: inline-block;
  max-width: 100%;
  margin-bottom: 5px;
  font-weight: bold;
}
input[type="search"] {
  -webkit-box-sizing: border-box;
  -moz-box-sizing: border-box;
  box-sizing: border-box;
}
input[type="radio"],
input[type="checkbox"] {
  margin: 4px 0 0;
  margin-top: 1px \9;
  line-height: normal;
}
input[type="file"] {
  display: block;
}
input[type="range"] {
  display: block;
  width: 100%;
}
select[multiple],
select[size] {
  height: auto;
}
input[type="file"]:focus,
input[type="radio"]:focus,
input[type="checkbox"]:focus {
  outline: 5px auto -webkit-focus-ring-color;
  outline-offset: -2px;
}
output {
  display: block;
  padding-top: 7px;
  font-size: 13px;
  line-height: 1.42857143;
  color: #555555;
}
.form-control {
  display: block;
  width: 100%;
  height: 32px;
  padding: 6px 12px;
  font-size: 13px;
  line-height: 1.42857143;
  color: #555555;
  background-color: #fff;
  background-image: none;
  border: 1px solid #ccc;
  border-radius: 2px;
  -webkit-box-shadow: inset 0 1px 1px rgba(0, 0, 0, 0.075);
  box-shadow: inset 0 1px 1px rgba(0, 0, 0, 0.075);
  -webkit-transition: border-color ease-in-out .15s, box-shadow ease-in-out .15s;
  -o-transition: border-color ease-in-out .15s, box-shadow ease-in-out .15s;
  transition: border-color ease-in-out .15s, box-shadow ease-in-out .15s;
}
.form-control:focus {
  border-color: #66afe9;
  outline: 0;
  -webkit-box-shadow: inset 0 1px 1px rgba(0,0,0,.075), 0 0 8px rgba(102, 175, 233, 0.6);
  box-shadow: inset 0 1px 1px rgba(0,0,0,.075), 0 0 8px rgba(102, 175, 233, 0.6);
}
.form-control::-moz-placeholder {
  color: #999;
  opacity: 1;
}
.form-control:-ms-input-placeholder {
  color: #999;
}
.form-control::-webkit-input-placeholder {
  color: #999;
}
.form-control::-ms-expand {
  border: 0;
  background-color: transparent;
}
.form-control[disabled],
.form-control[readonly],
fieldset[disabled] .form-control {
  background-color: #eeeeee;
  opacity: 1;
}
.form-control[disabled],
fieldset[disabled] .form-control {
  cursor: not-allowed;
}
textarea.form-control {
  height: auto;
}
input[type="search"] {
  -webkit-appearance: none;
}
@media screen and (-webkit-min-device-pixel-ratio: 0) {
  input[type="date"].form-control,
  input[type="time"].form-control,
  input[type="datetime-local"].form-control,
  input[type="month"].form-control {
    line-height: 32px;
  }
  input[type="date"].input-sm,
  input[type="time"].input-sm,
  input[type="datetime-local"].input-sm,
  input[type="month"].input-sm,
  .input-group-sm input[type="date"],
  .input-group-sm input[type="time"],
  .input-group-sm input[type="datetime-local"],
  .input-group-sm input[type="month"] {
    line-height: 30px;
  }
  input[type="date"].input-lg,
  input[type="time"].input-lg,
  input[type="datetime-local"].input-lg,
  input[type="month"].input-lg,
  .input-group-lg input[type="date"],
  .input-group-lg input[type="time"],
  .input-group-lg input[type="datetime-local"],
  .input-group-lg input[type="month"] {
    line-height: 45px;
  }
}
.form-group {
  margin-bottom: 15px;
}
.radio,
.checkbox {
  position: relative;
  display: block;
  margin-top: 10px;
  margin-bottom: 10px;
}
.radio label,
.checkbox label {
  min-height: 18px;
  padding-left: 20px;
  margin-bottom: 0;
  font-weight: normal;
  cursor: pointer;
}
.radio input[type="radio"],
.radio-inline input[type="radio"],
.checkbox input[type="checkbox"],
.checkbox-inline input[type="checkbox"] {
  position: absolute;
  margin-left: -20px;
  margin-top: 4px \9;
}
.radio + .radio,
.checkbox + .checkbox {
  margin-top: -5px;
}
.radio-inline,
.checkbox-inline {
  position: relative;
  display: inline-block;
  padding-left: 20px;
  margin-bottom: 0;
  vertical-align: middle;
  font-weight: normal;
  cursor: pointer;
}
.radio-inline + .radio-inline,
.checkbox-inline + .checkbox-inline {
  margin-top: 0;
  margin-left: 10px;
}
input[type="radio"][disabled],
input[type="checkbox"][disabled],
input[type="radio"].disabled,
input[type="checkbox"].disabled,
fieldset[disabled] input[type="radio"],
fieldset[disabled] input[type="checkbox"] {
  cursor: not-allowed;
}
.radio-inline.disabled,
.checkbox-inline.disabled,
fieldset[disabled] .radio-inline,
fieldset[disabled] .checkbox-inline {
  cursor: not-allowed;
}
.radio.disabled label,
.checkbox.disabled label,
fieldset[disabled] .radio label,
fieldset[disabled] .checkbox label {
  cursor: not-allowed;
}
.form-control-static {
  padding-top: 7px;
  padding-bottom: 7px;
  margin-bottom: 0;
  min-height: 31px;
}
.form-control-static.input-lg,
.form-control-static.input-sm {
  padding-left: 0;
  padding-right: 0;
}
.input-sm {
  height: 30px;
  padding: 5px 10px;
  font-size: 12px;
  line-height: 1.5;
  border-radius: 1px;
}
select.input-sm {
  height: 30px;
  line-height: 30px;
}
textarea.input-sm,
select[multiple].input-sm {
  height: auto;
}
.form-group-sm .form-control {
  height: 30px;
  padding: 5px 10px;
  font-size: 12px;
  line-height: 1.5;
  border-radius: 1px;
}
.form-group-sm select.form-control {
  height: 30px;
  line-height: 30px;
}
.form-group-sm textarea.form-control,
.form-group-sm select[multiple].form-control {
  height: auto;
}
.form-group-sm .form-control-static {
  height: 30px;
  min-height: 30px;
  padding: 6px 10px;
  font-size: 12px;
  line-height: 1.5;
}
.input-lg {
  height: 45px;
  padding: 10px 16px;
  font-size: 17px;
  line-height: 1.3333333;
  border-radius: 3px;
}
select.input-lg {
  height: 45px;
  line-height: 45px;
}
textarea.input-lg,
select[multiple].input-lg {
  height: auto;
}
.form-group-lg .form-control {
  height: 45px;
  padding: 10px 16px;
  font-size: 17px;
  line-height: 1.3333333;
  border-radius: 3px;
}
.form-group-lg select.form-control {
  height: 45px;
  line-height: 45px;
}
.form-group-lg textarea.form-control,
.form-group-lg select[multiple].form-control {
  height: auto;
}
.form-group-lg .form-control-static {
  height: 45px;
  min-height: 35px;
  padding: 11px 16px;
  font-size: 17px;
  line-height: 1.3333333;
}
.has-feedback {
  position: relative;
}
.has-feedback .form-control {
  padding-right: 40px;
}
.form-control-feedback {
  position: absolute;
  top: 0;
  right: 0;
  z-index: 2;
  display: block;
  width: 32px;
  height: 32px;
  line-height: 32px;
  text-align: center;
  pointer-events: none;
}
.input-lg + .form-control-feedback,
.input-group-lg + .form-control-feedback,
.form-group-lg .form-control + .form-control-feedback {
  width: 45px;
  height: 45px;
  line-height: 45px;
}
.input-sm + .form-control-feedback,
.input-group-sm + .form-control-feedback,
.form-group-sm .form-control + .form-control-feedback {
  width: 30px;
  height: 30px;
  line-height: 30px;
}
.has-success .help-block,
.has-success .control-label,
.has-success .radio,
.has-success .checkbox,
.has-success .radio-inline,
.has-success .checkbox-inline,
.has-success.radio label,
.has-success.checkbox label,
.has-success.radio-inline label,
.has-success.checkbox-inline label {
  color: #3c763d;
}
.has-success .form-control {
  border-color: #3c763d;
  -webkit-box-shadow: inset 0 1px 1px rgba(0, 0, 0, 0.075);
  box-shadow: inset 0 1px 1px rgba(0, 0, 0, 0.075);
}
.has-success .form-control:focus {
  border-color: #2b542c;
  -webkit-box-shadow: inset 0 1px 1px rgba(0, 0, 0, 0.075), 0 0 6px #67b168;
  box-shadow: inset 0 1px 1px rgba(0, 0, 0, 0.075), 0 0 6px #67b168;
}
.has-success .input-group-addon {
  color: #3c763d;
  border-color: #3c763d;
  background-color: #dff0d8;
}
.has-success .form-control-feedback {
  color: #3c763d;
}
.has-warning .help-block,
.has-warning .control-label,
.has-warning .radio,
.has-warning .checkbox,
.has-warning .radio-inline,
.has-warning .checkbox-inline,
.has-warning.radio label,
.has-warning.checkbox label,
.has-warning.radio-inline label,
.has-warning.checkbox-inline label {
  color: #8a6d3b;
}
.has-warning .form-control {
  border-color: #8a6d3b;
  -webkit-box-shadow: inset 0 1px 1px rgba(0, 0, 0, 0.075);
  box-shadow: inset 0 1px 1px rgba(0, 0, 0, 0.075);
}
.has-warning .form-control:focus {
  border-color: #66512c;
  -webkit-box-shadow: inset 0 1px 1px rgba(0, 0, 0, 0.075), 0 0 6px #c0a16b;
  box-shadow: inset 0 1px 1px rgba(0, 0, 0, 0.075), 0 0 6px #c0a16b;
}
.has-warning .input-group-addon {
  color: #8a6d3b;
  border-color: #8a6d3b;
  background-color: #fcf8e3;
}
.has-warning .form-control-feedback {
  color: #8a6d3b;
}
.has-error .help-block,
.has-error .control-label,
.has-error .radio,
.has-error .checkbox,
.has-error .radio-inline,
.has-error .checkbox-inline,
.has-error.radio label,
.has-error.checkbox label,
.has-error.radio-inline label,
.has-error.checkbox-inline label {
  color: #a94442;
}
.has-error .form-control {
  border-color: #a94442;
  -webkit-box-shadow: inset 0 1px 1px rgba(0, 0, 0, 0.075);
  box-shadow: inset 0 1px 1px rgba(0, 0, 0, 0.075);
}
.has-error .form-control:focus {
  border-color: #843534;
  -webkit-box-shadow: inset 0 1px 1px rgba(0, 0, 0, 0.075), 0 0 6px #ce8483;
  box-shadow: inset 0 1px 1px rgba(0, 0, 0, 0.075), 0 0 6px #ce8483;
}
.has-error .input-group-addon {
  color: #a94442;
  border-color: #a94442;
  background-color: #f2dede;
}
.has-error .form-control-feedback {
  color: #a94442;
}
.has-feedback label ~ .form-control-feedback {
  top: 23px;
}
.has-feedback label.sr-only ~ .form-control-feedback {
  top: 0;
}
.help-block {
  display: block;
  margin-top: 5px;
  margin-bottom: 10px;
  color: #404040;
}
@media (min-width: 768px) {
  .form-inline .form-group {
    display: inline-block;
    margin-bottom: 0;
    vertical-align: middle;
  }
  .form-inline .form-control {
    display: inline-block;
    width: auto;
    vertical-align: middle;
  }
  .form-inline .form-control-static {
    display: inline-block;
  }
  .form-inline .input-group {
    display: inline-table;
    vertical-align: middle;
  }
  .form-inline .input-group .input-group-addon,
  .form-inline .input-group .input-group-btn,
  .form-inline .input-group .form-control {
    width: auto;
  }
  .form-inline .input-group > .form-control {
    width: 100%;
  }
  .form-inline .control-label {
    margin-bottom: 0;
    vertical-align: middle;
  }
  .form-inline .radio,
  .form-inline .checkbox {
    display: inline-block;
    margin-top: 0;
    margin-bottom: 0;
    vertical-align: middle;
  }
  .form-inline .radio label,
  .form-inline .checkbox label {
    padding-left: 0;
  }
  .form-inline .radio input[type="radio"],
  .form-inline .checkbox input[type="checkbox"] {
    position: relative;
    margin-left: 0;
  }
  .form-inline .has-feedback .form-control-feedback {
    top: 0;
  }
}
.form-horizontal .radio,
.form-horizontal .checkbox,
.form-horizontal .radio-inline,
.form-horizontal .checkbox-inline {
  margin-top: 0;
  margin-bottom: 0;
  padding-top: 7px;
}
.form-horizontal .radio,
.form-horizontal .checkbox {
  min-height: 25px;
}
.form-horizontal .form-group {
  margin-left: 0px;
  margin-right: 0px;
}
@media (min-width: 768px) {
  .form-horizontal .control-label {
    text-align: right;
    margin-bottom: 0;
    padding-top: 7px;
  }
}
.form-horizontal .has-feedback .form-control-feedback {
  right: 0px;
}
@media (min-width: 768px) {
  .form-horizontal .form-group-lg .control-label {
    padding-top: 11px;
    font-size: 17px;
  }
}
@media (min-width: 768px) {
  .form-horizontal .form-group-sm .control-label {
    padding-top: 6px;
    font-size: 12px;
  }
}
.btn {
  display: inline-block;
  margin-bottom: 0;
  font-weight: normal;
  text-align: center;
  vertical-align: middle;
  touch-action: manipulation;
  cursor: pointer;
  background-image: none;
  border: 1px solid transparent;
  white-space: nowrap;
  padding: 6px 12px;
  font-size: 13px;
  line-height: 1.42857143;
  border-radius: 2px;
  -webkit-user-select: none;
  -moz-user-select: none;
  -ms-user-select: none;
  user-select: none;
}
.btn:focus,
.btn:active:focus,
.btn.active:focus,
.btn.focus,
.btn:active.focus,
.btn.active.focus {
  outline: 5px auto -webkit-focus-ring-color;
  outline-offset: -2px;
}
.btn:hover,
.btn:focus,
.btn.focus {
  color: #333;
  text-decoration: none;
}
.btn:active,
.btn.active {
  outline: 0;
  background-image: none;
  -webkit-box-shadow: inset 0 3px 5px rgba(0, 0, 0, 0.125);
  box-shadow: inset 0 3px 5px rgba(0, 0, 0, 0.125);
}
.btn.disabled,
.btn[disabled],
fieldset[disabled] .btn {
  cursor: not-allowed;
  opacity: 0.65;
  filter: alpha(opacity=65);
  -webkit-box-shadow: none;
  box-shadow: none;
}
a.btn.disabled,
fieldset[disabled] a.btn {
  pointer-events: none;
}
.btn-default {
  color: #333;
  background-color: #fff;
  border-color: #ccc;
}
.btn-default:focus,
.btn-default.focus {
  color: #333;
  background-color: #e6e6e6;
  border-color: #8c8c8c;
}
.btn-default:hover {
  color: #333;
  background-color: #e6e6e6;
  border-color: #adadad;
}
.btn-default:active,
.btn-default.active,
.open > .dropdown-toggle.btn-default {
  color: #333;
  background-color: #e6e6e6;
  border-color: #adadad;
}
.btn-default:active:hover,
.btn-default.active:hover,
.open > .dropdown-toggle.btn-default:hover,
.btn-default:active:focus,
.btn-default.active:focus,
.open > .dropdown-toggle.btn-default:focus,
.btn-default:active.focus,
.btn-default.active.focus,
.open > .dropdown-toggle.btn-default.focus {
  color: #333;
  background-color: #d4d4d4;
  border-color: #8c8c8c;
}
.btn-default:active,
.btn-default.active,
.open > .dropdown-toggle.btn-default {
  background-image: none;
}
.btn-default.disabled:hover,
.btn-default[disabled]:hover,
fieldset[disabled] .btn-default:hover,
.btn-default.disabled:focus,
.btn-default[disabled]:focus,
fieldset[disabled] .btn-default:focus,
.btn-default.disabled.focus,
.btn-default[disabled].focus,
fieldset[disabled] .btn-default.focus {
  background-color: #fff;
  border-color: #ccc;
}
.btn-default .badge {
  color: #fff;
  background-color: #333;
}
.btn-primary {
  color: #fff;
  background-color: #337ab7;
  border-color: #2e6da4;
}
.btn-primary:focus,
.btn-primary.focus {
  color: #fff;
  background-color: #286090;
  border-color: #122b40;
}
.btn-primary:hover {
  color: #fff;
  background-color: #286090;
  border-color: #204d74;
}
.btn-primary:active,
.btn-primary.active,
.open > .dropdown-toggle.btn-primary {
  color: #fff;
  background-color: #286090;
  border-color: #204d74;
}
.btn-primary:active:hover,
.btn-primary.active:hover,
.open > .dropdown-toggle.btn-primary:hover,
.btn-primary:active:focus,
.btn-primary.active:focus,
.open > .dropdown-toggle.btn-primary:focus,
.btn-primary:active.focus,
.btn-primary.active.focus,
.open > .dropdown-toggle.btn-primary.focus {
  color: #fff;
  background-color: #204d74;
  border-color: #122b40;
}
.btn-primary:active,
.btn-primary.active,
.open > .dropdown-toggle.btn-primary {
  background-image: none;
}
.btn-primary.disabled:hover,
.btn-primary[disabled]:hover,
fieldset[disabled] .btn-primary:hover,
.btn-primary.disabled:focus,
.btn-primary[disabled]:focus,
fieldset[disabled] .btn-primary:focus,
.btn-primary.disabled.focus,
.btn-primary[disabled].focus,
fieldset[disabled] .btn-primary.focus {
  background-color: #337ab7;
  border-color: #2e6da4;
}
.btn-primary .badge {
  color: #337ab7;
  background-color: #fff;
}
.btn-success {
  color: #fff;
  background-color: #5cb85c;
  border-color: #4cae4c;
}
.btn-success:focus,
.btn-success.focus {
  color: #fff;
  background-color: #449d44;
  border-color: #255625;
}
.btn-success:hover {
  color: #fff;
  background-color: #449d44;
  border-color: #398439;
}
.btn-success:active,
.btn-success.active,
.open > .dropdown-toggle.btn-success {
  color: #fff;
  background-color: #449d44;
  border-color: #398439;
}
.btn-success:active:hover,
.btn-success.active:hover,
.open > .dropdown-toggle.btn-success:hover,
.btn-success:active:focus,
.btn-success.active:focus,
.open > .dropdown-toggle.btn-success:focus,
.btn-success:active.focus,
.btn-success.active.focus,
.open > .dropdown-toggle.btn-success.focus {
  color: #fff;
  background-color: #398439;
  border-color: #255625;
}
.btn-success:active,
.btn-success.active,
.open > .dropdown-toggle.btn-success {
  background-image: none;
}
.btn-success.disabled:hover,
.btn-success[disabled]:hover,
fieldset[disabled] .btn-success:hover,
.btn-success.disabled:focus,
.btn-success[disabled]:focus,
fieldset[disabled] .btn-success:focus,
.btn-success.disabled.focus,
.btn-success[disabled].focus,
fieldset[disabled] .btn-success.focus {
  background-color: #5cb85c;
  border-color: #4cae4c;
}
.btn-success .badge {
  color: #5cb85c;
  background-color: #fff;
}
.btn-info {
  color: #fff;
  background-color: #5bc0de;
  border-color: #46b8da;
}
.btn-info:focus,
.btn-info.focus {
  color: #fff;
  background-color: #31b0d5;
  border-color: #1b6d85;
}
.btn-info:hover {
  color: #fff;
  background-color: #31b0d5;
  border-color: #269abc;
}
.btn-info:active,
.btn-info.active,
.open > .dropdown-toggle.btn-info {
  color: #fff;
  background-color: #31b0d5;
  border-color: #269abc;
}
.btn-info:active:hover,
.btn-info.active:hover,
.open > .dropdown-toggle.btn-info:hover,
.btn-info:active:focus,
.btn-info.active:focus,
.open > .dropdown-toggle.btn-info:focus,
.btn-info:active.focus,
.btn-info.active.focus,
.open > .dropdown-toggle.btn-info.focus {
  color: #fff;
  background-color: #269abc;
  border-color: #1b6d85;
}
.btn-info:active,
.btn-info.active,
.open > .dropdown-toggle.btn-info {
  background-image: none;
}
.btn-info.disabled:hover,
.btn-info[disabled]:hover,
fieldset[disabled] .btn-info:hover,
.btn-info.disabled:focus,
.btn-info[disabled]:focus,
fieldset[disabled] .btn-info:focus,
.btn-info.disabled.focus,
.btn-info[disabled].focus,
fieldset[disabled] .btn-info.focus {
  background-color: #5bc0de;
  border-color: #46b8da;
}
.btn-info .badge {
  color: #5bc0de;
  background-color: #fff;
}
.btn-warning {
  color: #fff;
  background-color: #f0ad4e;
  border-color: #eea236;
}
.btn-warning:focus,
.btn-warning.focus {
  color: #fff;
  background-color: #ec971f;
  border-color: #985f0d;
}
.btn-warning:hover {
  color: #fff;
  background-color: #ec971f;
  border-color: #d58512;
}
.btn-warning:active,
.btn-warning.active,
.open > .dropdown-toggle.btn-warning {
  color: #fff;
  background-color: #ec971f;
  border-color: #d58512;
}
.btn-warning:active:hover,
.btn-warning.active:hover,
.open > .dropdown-toggle.btn-warning:hover,
.btn-warning:active:focus,
.btn-warning.active:focus,
.open > .dropdown-toggle.btn-warning:focus,
.btn-warning:active.focus,
.btn-warning.active.focus,
.open > .dropdown-toggle.btn-warning.focus {
  color: #fff;
  background-color: #d58512;
  border-color: #985f0d;
}
.btn-warning:active,
.btn-warning.active,
.open > .dropdown-toggle.btn-warning {
  background-image: none;
}
.btn-warning.disabled:hover,
.btn-warning[disabled]:hover,
fieldset[disabled] .btn-warning:hover,
.btn-warning.disabled:focus,
.btn-warning[disabled]:focus,
fieldset[disabled] .btn-warning:focus,
.btn-warning.disabled.focus,
.btn-warning[disabled].focus,
fieldset[disabled] .btn-warning.focus {
  background-color: #f0ad4e;
  border-color: #eea236;
}
.btn-warning .badge {
  color: #f0ad4e;
  background-color: #fff;
}
.btn-danger {
  color: #fff;
  background-color: #d9534f;
  border-color: #d43f3a;
}
.btn-danger:focus,
.btn-danger.focus {
  color: #fff;
  background-color: #c9302c;
  border-color: #761c19;
}
.btn-danger:hover {
  color: #fff;
  background-color: #c9302c;
  border-color: #ac2925;
}
.btn-danger:active,
.btn-danger.active,
.open > .dropdown-toggle.btn-danger {
  color: #fff;
  background-color: #c9302c;
  border-color: #ac2925;
}
.btn-danger:active:hover,
.btn-danger.active:hover,
.open > .dropdown-toggle.btn-danger:hover,
.btn-danger:active:focus,
.btn-danger.active:focus,
.open > .dropdown-toggle.btn-danger:focus,
.btn-danger:active.focus,
.btn-danger.active.focus,
.open > .dropdown-toggle.btn-danger.focus {
  color: #fff;
  background-color: #ac2925;
  border-color: #761c19;
}
.btn-danger:active,
.btn-danger.active,
.open > .dropdown-toggle.btn-danger {
  background-image: none;
}
.btn-danger.disabled:hover,
.btn-danger[disabled]:hover,
fieldset[disabled] .btn-danger:hover,
.btn-danger.disabled:focus,
.btn-danger[disabled]:focus,
fieldset[disabled] .btn-danger:focus,
.btn-danger.disabled.focus,
.btn-danger[disabled].focus,
fieldset[disabled] .btn-danger.focus {
  background-color: #d9534f;
  border-color: #d43f3a;
}
.btn-danger .badge {
  color: #d9534f;
  background-color: #fff;
}
.btn-link {
  color: #337ab7;
  font-weight: normal;
  border-radius: 0;
}
.btn-link,
.btn-link:active,
.btn-link.active,
.btn-link[disabled],
fieldset[disabled] .btn-link {
  background-color: transparent;
  -webkit-box-shadow: none;
  box-shadow: none;
}
.btn-link,
.btn-link:hover,
.btn-link:focus,
.btn-link:active {
  border-color: transparent;
}
.btn-link:hover,
.btn-link:focus {
  color: #23527c;
  text-decoration: underline;
  background-color: transparent;
}
.btn-link[disabled]:hover,
fieldset[disabled] .btn-link:hover,
.btn-link[disabled]:focus,
fieldset[disabled] .btn-link:focus {
  color: #777777;
  text-decoration: none;
}
.btn-lg,
.btn-group-lg > .btn {
  padding: 10px 16px;
  font-size: 17px;
  line-height: 1.3333333;
  border-radius: 3px;
}
.btn-sm,
.btn-group-sm > .btn {
  padding: 5px 10px;
  font-size: 12px;
  line-height: 1.5;
  border-radius: 1px;
}
.btn-xs,
.btn-group-xs > .btn {
  padding: 1px 5px;
  font-size: 12px;
  line-height: 1.5;
  border-radius: 1px;
}
.btn-block {
  display: block;
  width: 100%;
}
.btn-block + .btn-block {
  margin-top: 5px;
}
input[type="submit"].btn-block,
input[type="reset"].btn-block,
input[type="button"].btn-block {
  width: 100%;
}
.fade {
  opacity: 0;
  -webkit-transition: opacity 0.15s linear;
  -o-transition: opacity 0.15s linear;
  transition: opacity 0.15s linear;
}
.fade.in {
  opacity: 1;
}
.collapse {
  display: none;
}
.collapse.in {
  display: block;
}
tr.collapse.in {
  display: table-row;
}
tbody.collapse.in {
  display: table-row-group;
}
.collapsing {
  position: relative;
  height: 0;
  overflow: hidden;
  -webkit-transition-property: height, visibility;
  transition-property: height, visibility;
  -webkit-transition-duration: 0.35s;
  transition-duration: 0.35s;
  -webkit-transition-timing-function: ease;
  transition-timing-function: ease;
}
.caret {
  display: inline-block;
  width: 0;
  height: 0;
  margin-left: 2px;
  vertical-align: middle;
  border-top: 4px dashed;
  border-top: 4px solid \9;
  border-right: 4px solid transparent;
  border-left: 4px solid transparent;
}
.dropup,
.dropdown {
  position: relative;
}
.dropdown-toggle:focus {
  outline: 0;
}
.dropdown-menu {
  position: absolute;
  top: 100%;
  left: 0;
  z-index: 1000;
  display: none;
  float: left;
  min-width: 160px;
  padding: 5px 0;
  margin: 2px 0 0;
  list-style: none;
  font-size: 13px;
  text-align: left;
  background-color: #fff;
  border: 1px solid #ccc;
  border: 1px solid rgba(0, 0, 0, 0.15);
  border-radius: 2px;
  -webkit-box-shadow: 0 6px 12px rgba(0, 0, 0, 0.175);
  box-shadow: 0 6px 12px rgba(0, 0, 0, 0.175);
  background-clip: padding-box;
}
.dropdown-menu.pull-right {
  right: 0;
  left: auto;
}
.dropdown-menu .divider {
  height: 1px;
  margin: 8px 0;
  overflow: hidden;
  background-color: #e5e5e5;
}
.dropdown-menu > li > a {
  display: block;
  padding: 3px 20px;
  clear: both;
  font-weight: normal;
  line-height: 1.42857143;
  color: #333333;
  white-space: nowrap;
}
.dropdown-menu > li > a:hover,
.dropdown-menu > li > a:focus {
  text-decoration: none;
  color: #262626;
  background-color: #f5f5f5;
}
.dropdown-menu > .active > a,
.dropdown-menu > .active > a:hover,
.dropdown-menu > .active > a:focus {
  color: #fff;
  text-decoration: none;
  outline: 0;
  background-color: #337ab7;
}
.dropdown-menu > .disabled > a,
.dropdown-menu > .disabled > a:hover,
.dropdown-menu > .disabled > a:focus {
  color: #777777;
}
.dropdown-menu > .disabled > a:hover,
.dropdown-menu > .disabled > a:focus {
  text-decoration: none;
  background-color: transparent;
  background-image: none;
  filter: progid:DXImageTransform.Microsoft.gradient(enabled = false);
  cursor: not-allowed;
}
.open > .dropdown-menu {
  display: block;
}
.open > a {
  outline: 0;
}
.dropdown-menu-right {
  left: auto;
  right: 0;
}
.dropdown-menu-left {
  left: 0;
  right: auto;
}
.dropdown-header {
  display: block;
  padding: 3px 20px;
  font-size: 12px;
  line-height: 1.42857143;
  color: #777777;
  white-space: nowrap;
}
.dropdown-backdrop {
  position: fixed;
  left: 0;
  right: 0;
  bottom: 0;
  top: 0;
  z-index: 990;
}
.pull-right > .dropdown-menu {
  right: 0;
  left: auto;
}
.dropup .caret,
.navbar-fixed-bottom .dropdown .caret {
  border-top: 0;
  border-bottom: 4px dashed;
  border-bottom: 4px solid \9;
  content: "";
}
.dropup .dropdown-menu,
.navbar-fixed-bottom .dropdown .dropdown-menu {
  top: auto;
  bottom: 100%;
  margin-bottom: 2px;
}
@media (min-width: 541px) {
  .navbar-right .dropdown-menu {
    left: auto;
    right: 0;
  }
  .navbar-right .dropdown-menu-left {
    left: 0;
    right: auto;
  }
}
.btn-group,
.btn-group-vertical {
  position: relative;
  display: inline-block;
  vertical-align: middle;
}
.btn-group > .btn,
.btn-group-vertical > .btn {
  position: relative;
  float: left;
}
.btn-group > .btn:hover,
.btn-group-vertical > .btn:hover,
.btn-group > .btn:focus,
.btn-group-vertical > .btn:focus,
.btn-group > .btn:active,
.btn-group-vertical > .btn:active,
.btn-group > .btn.active,
.btn-group-vertical > .btn.active {
  z-index: 2;
}
.btn-group .btn + .btn,
.btn-group .btn + .btn-group,
.btn-group .btn-group + .btn,
.btn-group .btn-group + .btn-group {
  margin-left: -1px;
}
.btn-toolbar {
  margin-left: -5px;
}
.btn-toolbar .btn,
.btn-toolbar .btn-group,
.btn-toolbar .input-group {
  float: left;
}
.btn-toolbar > .btn,
.btn-toolbar > .btn-group,
.btn-toolbar > .input-group {
  margin-left: 5px;
}
.btn-group > .btn:not(:first-child):not(:last-child):not(.dropdown-toggle) {
  border-radius: 0;
}
.btn-group > .btn:first-child {
  margin-left: 0;
}
.btn-group > .btn:first-child:not(:last-child):not(.dropdown-toggle) {
  border-bottom-right-radius: 0;
  border-top-right-radius: 0;
}
.btn-group > .btn:last-child:not(:first-child),
.btn-group > .dropdown-toggle:not(:first-child) {
  border-bottom-left-radius: 0;
  border-top-left-radius: 0;
}
.btn-group > .btn-group {
  float: left;
}
.btn-group > .btn-group:not(:first-child):not(:last-child) > .btn {
  border-radius: 0;
}
.btn-group > .btn-group:first-child:not(:last-child) > .btn:last-child,
.btn-group > .btn-group:first-child:not(:last-child) > .dropdown-toggle {
  border-bottom-right-radius: 0;
  border-top-right-radius: 0;
}
.btn-group > .btn-group:last-child:not(:first-child) > .btn:first-child {
  border-bottom-left-radius: 0;
  border-top-left-radius: 0;
}
.btn-group .dropdown-toggle:active,
.btn-group.open .dropdown-toggle {
  outline: 0;
}
.btn-group > .btn + .dropdown-toggle {
  padding-left: 8px;
  padding-right: 8px;
}
.btn-group > .btn-lg + .dropdown-toggle {
  padding-left: 12px;
  padding-right: 12px;
}
.btn-group.open .dropdown-toggle {
  -webkit-box-shadow: inset 0 3px 5px rgba(0, 0, 0, 0.125);
  box-shadow: inset 0 3px 5px rgba(0, 0, 0, 0.125);
}
.btn-group.open .dropdown-toggle.btn-link {
  -webkit-box-shadow: none;
  box-shadow: none;
}
.btn .caret {
  margin-left: 0;
}
.btn-lg .caret {
  border-width: 5px 5px 0;
  border-bottom-width: 0;
}
.dropup .btn-lg .caret {
  border-width: 0 5px 5px;
}
.btn-group-vertical > .btn,
.btn-group-vertical > .btn-group,
.btn-group-vertical > .btn-group > .btn {
  display: block;
  float: none;
  width: 100%;
  max-width: 100%;
}
.btn-group-vertical > .btn-group > .btn {
  float: none;
}
.btn-group-vertical > .btn + .btn,
.btn-group-vertical > .btn + .btn-group,
.btn-group-vertical > .btn-group + .btn,
.btn-group-vertical > .btn-group + .btn-group {
  margin-top: -1px;
  margin-left: 0;
}
.btn-group-vertical > .btn:not(:first-child):not(:last-child) {
  border-radius: 0;
}
.btn-group-vertical > .btn:first-child:not(:last-child) {
  border-top-right-radius: 2px;
  border-top-left-radius: 2px;
  border-bottom-right-radius: 0;
  border-bottom-left-radius: 0;
}
.btn-group-vertical > .btn:last-child:not(:first-child) {
  border-top-right-radius: 0;
  border-top-left-radius: 0;
  border-bottom-right-radius: 2px;
  border-bottom-left-radius: 2px;
}
.btn-group-vertical > .btn-group:not(:first-child):not(:last-child) > .btn {
  border-radius: 0;
}
.btn-group-vertical > .btn-group:first-child:not(:last-child) > .btn:last-child,
.btn-group-vertical > .btn-group:first-child:not(:last-child) > .dropdown-toggle {
  border-bottom-right-radius: 0;
  border-bottom-left-radius: 0;
}
.btn-group-vertical > .btn-group:last-child:not(:first-child) > .btn:first-child {
  border-top-right-radius: 0;
  border-top-left-radius: 0;
}
.btn-group-justified {
  display: table;
  width: 100%;
  table-layout: fixed;
  border-collapse: separate;
}
.btn-group-justified > .btn,
.btn-group-justified > .btn-group {
  float: none;
  display: table-cell;
  width: 1%;
}
.btn-group-justified > .btn-group .btn {
  width: 100%;
}
.btn-group-justified > .btn-group .dropdown-menu {
  left: auto;
}
[data-toggle="buttons"] > .btn input[type="radio"],
[data-toggle="buttons"] > .btn-group > .btn input[type="radio"],
[data-toggle="buttons"] > .btn input[type="checkbox"],
[data-toggle="buttons"] > .btn-group > .btn input[type="checkbox"] {
  position: absolute;
  clip: rect(0, 0, 0, 0);
  pointer-events: none;
}
.input-group {
  position: relative;
  display: table;
  border-collapse: separate;
}
.input-group[class*="col-"] {
  float: none;
  padding-left: 0;
  padding-right: 0;
}
.input-group .form-control {
  position: relative;
  z-index: 2;
  float: left;
  width: 100%;
  margin-bottom: 0;
}
.input-group .form-control:focus {
  z-index: 3;
}
.input-group-lg > .form-control,
.input-group-lg > .input-group-addon,
.input-group-lg > .input-group-btn > .btn {
  height: 45px;
  padding: 10px 16px;
  font-size: 17px;
  line-height: 1.3333333;
  border-radius: 3px;
}
select.input-group-lg > .form-control,
select.input-group-lg > .input-group-addon,
select.input-group-lg > .input-group-btn > .btn {
  height: 45px;
  line-height: 45px;
}
textarea.input-group-lg > .form-control,
textarea.input-group-lg > .input-group-addon,
textarea.input-group-lg > .input-group-btn > .btn,
select[multiple].input-group-lg > .form-control,
select[multiple].input-group-lg > .input-group-addon,
select[multiple].input-group-lg > .input-group-btn > .btn {
  height: auto;
}
.input-group-sm > .form-control,
.input-group-sm > .input-group-addon,
.input-group-sm > .input-group-btn > .btn {
  height: 30px;
  padding: 5px 10px;
  font-size: 12px;
  line-height: 1.5;
  border-radius: 1px;
}
select.input-group-sm > .form-control,
select.input-group-sm > .input-group-addon,
select.input-group-sm > .input-group-btn > .btn {
  height: 30px;
  line-height: 30px;
}
textarea.input-group-sm > .form-control,
textarea.input-group-sm > .input-group-addon,
textarea.input-group-sm > .input-group-btn > .btn,
select[multiple].input-group-sm > .form-control,
select[multiple].input-group-sm > .input-group-addon,
select[multiple].input-group-sm > .input-group-btn > .btn {
  height: auto;
}
.input-group-addon,
.input-group-btn,
.input-group .form-control {
  display: table-cell;
}
.input-group-addon:not(:first-child):not(:last-child),
.input-group-btn:not(:first-child):not(:last-child),
.input-group .form-control:not(:first-child):not(:last-child) {
  border-radius: 0;
}
.input-group-addon,
.input-group-btn {
  width: 1%;
  white-space: nowrap;
  vertical-align: middle;
}
.input-group-addon {
  padding: 6px 12px;
  font-size: 13px;
  font-weight: normal;
  line-height: 1;
  color: #555555;
  text-align: center;
  background-color: #eeeeee;
  border: 1px solid #ccc;
  border-radius: 2px;
}
.input-group-addon.input-sm {
  padding: 5px 10px;
  font-size: 12px;
  border-radius: 1px;
}
.input-group-addon.input-lg {
  padding: 10px 16px;
  font-size: 17px;
  border-radius: 3px;
}
.input-group-addon input[type="radio"],
.input-group-addon input[type="checkbox"] {
  margin-top: 0;
}
.input-group .form-control:first-child,
.input-group-addon:first-child,
.input-group-btn:first-child > .btn,
.input-group-btn:first-child > .btn-group > .btn,
.input-group-btn:first-child > .dropdown-toggle,
.input-group-btn:last-child > .btn:not(:last-child):not(.dropdown-toggle),
.input-group-btn:last-child > .btn-group:not(:last-child) > .btn {
  border-bottom-right-radius: 0;
  border-top-right-radius: 0;
}
.input-group-addon:first-child {
  border-right: 0;
}
.input-group .form-control:last-child,
.input-group-addon:last-child,
.input-group-btn:last-child > .btn,
.input-group-btn:last-child > .btn-group > .btn,
.input-group-btn:last-child > .dropdown-toggle,
.input-group-btn:first-child > .btn:not(:first-child),
.input-group-btn:first-child > .btn-group:not(:first-child) > .btn {
  border-bottom-left-radius: 0;
  border-top-left-radius: 0;
}
.input-group-addon:last-child {
  border-left: 0;
}
.input-group-btn {
  position: relative;
  font-size: 0;
  white-space: nowrap;
}
.input-group-btn > .btn {
  position: relative;
}
.input-group-btn > .btn + .btn {
  margin-left: -1px;
}
.input-group-btn > .btn:hover,
.input-group-btn > .btn:focus,
.input-group-btn > .btn:active {
  z-index: 2;
}
.input-group-btn:first-child > .btn,
.input-group-btn:first-child > .btn-group {
  margin-right: -1px;
}
.input-group-btn:last-child > .btn,
.input-group-btn:last-child > .btn-group {
  z-index: 2;
  margin-left: -1px;
}
.nav {
  margin-bottom: 0;
  padding-left: 0;
  list-style: none;
}
.nav > li {
  position: relative;
  display: block;
}
.nav > li > a {
  position: relative;
  display: block;
  padding: 10px 15px;
}
.nav > li > a:hover,
.nav > li > a:focus {
  text-decoration: none;
  background-color: #eeeeee;
}
.nav > li.disabled > a {
  color: #777777;
}
.nav > li.disabled > a:hover,
.nav > li.disabled > a:focus {
  color: #777777;
  text-decoration: none;
  background-color: transparent;
  cursor: not-allowed;
}
.nav .open > a,
.nav .open > a:hover,
.nav .open > a:focus {
  background-color: #eeeeee;
  border-color: #337ab7;
}
.nav .nav-divider {
  height: 1px;
  margin: 8px 0;
  overflow: hidden;
  background-color: #e5e5e5;
}
.nav > li > a > img {
  max-width: none;
}
.nav-tabs {
  border-bottom: 1px solid #ddd;
}
.nav-tabs > li {
  float: left;
  margin-bottom: -1px;
}
.nav-tabs > li > a {
  margin-right: 2px;
  line-height: 1.42857143;
  border: 1px solid transparent;
  border-radius: 2px 2px 0 0;
}
.nav-tabs > li > a:hover {
  border-color: #eeeeee #eeeeee #ddd;
}
.nav-tabs > li.active > a,
.nav-tabs > li.active > a:hover,
.nav-tabs > li.active > a:focus {
  color: #555555;
  background-color: #fff;
  border: 1px solid #ddd;
  border-bottom-color: transparent;
  cursor: default;
}
.nav-tabs.nav-justified {
  width: 100%;
  border-bottom: 0;
}
.nav-tabs.nav-justified > li {
  float: none;
}
.nav-tabs.nav-justified > li > a {
  text-align: center;
  margin-bottom: 5px;
}
.nav-tabs.nav-justified > .dropdown .dropdown-menu {
  top: auto;
  left: auto;
}
@media (min-width: 768px) {
  .nav-tabs.nav-justified > li {
    display: table-cell;
    width: 1%;
  }
  .nav-tabs.nav-justified > li > a {
    margin-bottom: 0;
  }
}
.nav-tabs.nav-justified > li > a {
  margin-right: 0;
  border-radius: 2px;
}
.nav-tabs.nav-justified > .active > a,
.nav-tabs.nav-justified > .active > a:hover,
.nav-tabs.nav-justified > .active > a:focus {
  border: 1px solid #ddd;
}
@media (min-width: 768px) {
  .nav-tabs.nav-justified > li > a {
    border-bottom: 1px solid #ddd;
    border-radius: 2px 2px 0 0;
  }
  .nav-tabs.nav-justified > .active > a,
  .nav-tabs.nav-justified > .active > a:hover,
  .nav-tabs.nav-justified > .active > a:focus {
    border-bottom-color: #fff;
  }
}
.nav-pills > li {
  float: left;
}
.nav-pills > li > a {
  border-radius: 2px;
}
.nav-pills > li + li {
  margin-left: 2px;
}
.nav-pills > li.active > a,
.nav-pills > li.active > a:hover,
.nav-pills > li.active > a:focus {
  color: #fff;
  background-color: #337ab7;
}
.nav-stacked > li {
  float: none;
}
.nav-stacked > li + li {
  margin-top: 2px;
  margin-left: 0;
}
.nav-justified {
  width: 100%;
}
.nav-justified > li {
  float: none;
}
.nav-justified > li > a {
  text-align: center;
  margin-bottom: 5px;
}
.nav-justified > .dropdown .dropdown-menu {
  top: auto;
  left: auto;
}
@media (min-width: 768px) {
  .nav-justified > li {
    display: table-cell;
    width: 1%;
  }
  .nav-justified > li > a {
    margin-bottom: 0;
  }
}
.nav-tabs-justified {
  border-bottom: 0;
}
.nav-tabs-justified > li > a {
  margin-right: 0;
  border-radius: 2px;
}
.nav-tabs-justified > .active > a,
.nav-tabs-justified > .active > a:hover,
.nav-tabs-justified > .active > a:focus {
  border: 1px solid #ddd;
}
@media (min-width: 768px) {
  .nav-tabs-justified > li > a {
    border-bottom: 1px solid #ddd;
    border-radius: 2px 2px 0 0;
  }
  .nav-tabs-justified > .active > a,
  .nav-tabs-justified > .active > a:hover,
  .nav-tabs-justified > .active > a:focus {
    border-bottom-color: #fff;
  }
}
.tab-content > .tab-pane {
  display: none;
}
.tab-content > .active {
  display: block;
}
.nav-tabs .dropdown-menu {
  margin-top: -1px;
  border-top-right-radius: 0;
  border-top-left-radius: 0;
}
.navbar {
  position: relative;
  min-height: 30px;
  margin-bottom: 18px;
  border: 1px solid transparent;
}
@media (min-width: 541px) {
  .navbar {
    border-radius: 2px;
  }
}
@media (min-width: 541px) {
  .navbar-header {
    float: left;
  }
}
.navbar-collapse {
  overflow-x: visible;
  padding-right: 0px;
  padding-left: 0px;
  border-top: 1px solid transparent;
  box-shadow: inset 0 1px 0 rgba(255, 255, 255, 0.1);
  -webkit-overflow-scrolling: touch;
}
.navbar-collapse.in {
  overflow-y: auto;
}
@media (min-width: 541px) {
  .navbar-collapse {
    width: auto;
    border-top: 0;
    box-shadow: none;
  }
  .navbar-collapse.collapse {
    display: block !important;
    height: auto !important;
    padding-bottom: 0;
    overflow: visible !important;
  }
  .navbar-collapse.in {
    overflow-y: visible;
  }
  .navbar-fixed-top .navbar-collapse,
  .navbar-static-top .navbar-collapse,
  .navbar-fixed-bottom .navbar-collapse {
    padding-left: 0;
    padding-right: 0;
  }
}
.navbar-fixed-top .navbar-collapse,
.navbar-fixed-bottom .navbar-collapse {
  max-height: 340px;
}
@media (max-device-width: 540px) and (orientation: landscape) {
  .navbar-fixed-top .navbar-collapse,
  .navbar-fixed-bottom .navbar-collapse {
    max-height: 200px;
  }
}
.container > .navbar-header,
.container-fluid > .navbar-header,
.container > .navbar-collapse,
.container-fluid > .navbar-collapse {
  margin-right: 0px;
  margin-left: 0px;
}
@media (min-width: 541px) {
  .container > .navbar-header,
  .container-fluid > .navbar-header,
  .container > .navbar-collapse,
  .container-fluid > .navbar-collapse {
    margin-right: 0;
    margin-left: 0;
  }
}
.navbar-static-top {
  z-index: 1000;
  border-width: 0 0 1px;
}
@media (min-width: 541px) {
  .navbar-static-top {
    border-radius: 0;
  }
}
.navbar-fixed-top,
.navbar-fixed-bottom {
  position: fixed;
  right: 0;
  left: 0;
  z-index: 1030;
}
@media (min-width: 541px) {
  .navbar-fixed-top,
  .navbar-fixed-bottom {
    border-radius: 0;
  }
}
.navbar-fixed-top {
  top: 0;
  border-width: 0 0 1px;
}
.navbar-fixed-bottom {
  bottom: 0;
  margin-bottom: 0;
  border-width: 1px 0 0;
}
.navbar-brand {
  float: left;
  padding: 6px 0px;
  font-size: 17px;
  line-height: 18px;
  height: 30px;
}
.navbar-brand:hover,
.navbar-brand:focus {
  text-decoration: none;
}
.navbar-brand > img {
  display: block;
}
@media (min-width: 541px) {
  .navbar > .container .navbar-brand,
  .navbar > .container-fluid .navbar-brand {
    margin-left: 0px;
  }
}
.navbar-toggle {
  position: relative;
  float: right;
  margin-right: 0px;
  padding: 9px 10px;
  margin-top: -2px;
  margin-bottom: -2px;
  background-color: transparent;
  background-image: none;
  border: 1px solid transparent;
  border-radius: 2px;
}
.navbar-toggle:focus {
  outline: 0;
}
.navbar-toggle .icon-bar {
  display: block;
  width: 22px;
  height: 2px;
  border-radius: 1px;
}
.navbar-toggle .icon-bar + .icon-bar {
  margin-top: 4px;
}
@media (min-width: 541px) {
  .navbar-toggle {
    display: none;
  }
}
.navbar-nav {
  margin: 3px 0px;
}
.navbar-nav > li > a {
  padding-top: 10px;
  padding-bottom: 10px;
  line-height: 18px;
}
@media (max-width: 540px) {
  .navbar-nav .open .dropdown-menu {
    position: static;
    float: none;
    width: auto;
    margin-top: 0;
    background-color: transparent;
    border: 0;
    box-shadow: none;
  }
  .navbar-nav .open .dropdown-menu > li > a,
  .navbar-nav .open .dropdown-menu .dropdown-header {
    padding: 5px 15px 5px 25px;
  }
  .navbar-nav .open .dropdown-menu > li > a {
    line-height: 18px;
  }
  .navbar-nav .open .dropdown-menu > li > a:hover,
  .navbar-nav .open .dropdown-menu > li > a:focus {
    background-image: none;
  }
}
@media (min-width: 541px) {
  .navbar-nav {
    float: left;
    margin: 0;
  }
  .navbar-nav > li {
    float: left;
  }
  .navbar-nav > li > a {
    padding-top: 6px;
    padding-bottom: 6px;
  }
}
.navbar-form {
  margin-left: 0px;
  margin-right: 0px;
  padding: 10px 0px;
  border-top: 1px solid transparent;
  border-bottom: 1px solid transparent;
  -webkit-box-shadow: inset 0 1px 0 rgba(255, 255, 255, 0.1), 0 1px 0 rgba(255, 255, 255, 0.1);
  box-shadow: inset 0 1px 0 rgba(255, 255, 255, 0.1), 0 1px 0 rgba(255, 255, 255, 0.1);
  margin-top: -1px;
  margin-bottom: -1px;
}
@media (min-width: 768px) {
  .navbar-form .form-group {
    display: inline-block;
    margin-bottom: 0;
    vertical-align: middle;
  }
  .navbar-form .form-control {
    display: inline-block;
    width: auto;
    vertical-align: middle;
  }
  .navbar-form .form-control-static {
    display: inline-block;
  }
  .navbar-form .input-group {
    display: inline-table;
    vertical-align: middle;
  }
  .navbar-form .input-group .input-group-addon,
  .navbar-form .input-group .input-group-btn,
  .navbar-form .input-group .form-control {
    width: auto;
  }
  .navbar-form .input-group > .form-control {
    width: 100%;
  }
  .navbar-form .control-label {
    margin-bottom: 0;
    vertical-align: middle;
  }
  .navbar-form .radio,
  .navbar-form .checkbox {
    display: inline-block;
    margin-top: 0;
    margin-bottom: 0;
    vertical-align: middle;
  }
  .navbar-form .radio label,
  .navbar-form .checkbox label {
    padding-left: 0;
  }
  .navbar-form .radio input[type="radio"],
  .navbar-form .checkbox input[type="checkbox"] {
    position: relative;
    margin-left: 0;
  }
  .navbar-form .has-feedback .form-control-feedback {
    top: 0;
  }
}
@media (max-width: 540px) {
  .navbar-form .form-group {
    margin-bottom: 5px;
  }
  .navbar-form .form-group:last-child {
    margin-bottom: 0;
  }
}
@media (min-width: 541px) {
  .navbar-form {
    width: auto;
    border: 0;
    margin-left: 0;
    margin-right: 0;
    padding-top: 0;
    padding-bottom: 0;
    -webkit-box-shadow: none;
    box-shadow: none;
  }
}
.navbar-nav > li > .dropdown-menu {
  margin-top: 0;
  border-top-right-radius: 0;
  border-top-left-radius: 0;
}
.navbar-fixed-bottom .navbar-nav > li > .dropdown-menu {
  margin-bottom: 0;
  border-top-right-radius: 2px;
  border-top-left-radius: 2px;
  border-bottom-right-radius: 0;
  border-bottom-left-radius: 0;
}
.navbar-btn {
  margin-top: -1px;
  margin-bottom: -1px;
}
.navbar-btn.btn-sm {
  margin-top: 0px;
  margin-bottom: 0px;
}
.navbar-btn.btn-xs {
  margin-top: 4px;
  margin-bottom: 4px;
}
.navbar-text {
  margin-top: 6px;
  margin-bottom: 6px;
}
@media (min-width: 541px) {
  .navbar-text {
    float: left;
    margin-left: 0px;
    margin-right: 0px;
  }
}
@media (min-width: 541px) {
  .navbar-left {
    float: left !important;
    float: left;
  }
  .navbar-right {
    float: right !important;
    float: right;
    margin-right: 0px;
  }
  .navbar-right ~ .navbar-right {
    margin-right: 0;
  }
}
.navbar-default {
  background-color: #f8f8f8;
  border-color: #e7e7e7;
}
.navbar-default .navbar-brand {
  color: #777;
}
.navbar-default .navbar-brand:hover,
.navbar-default .navbar-brand:focus {
  color: #5e5e5e;
  background-color: transparent;
}
.navbar-default .navbar-text {
  color: #777;
}
.navbar-default .navbar-nav > li > a {
  color: #777;
}
.navbar-default .navbar-nav > li > a:hover,
.navbar-default .navbar-nav > li > a:focus {
  color: #333;
  background-color: transparent;
}
.navbar-default .navbar-nav > .active > a,
.navbar-default .navbar-nav > .active > a:hover,
.navbar-default .navbar-nav > .active > a:focus {
  color: #555;
  background-color: #e7e7e7;
}
.navbar-default .navbar-nav > .disabled > a,
.navbar-default .navbar-nav > .disabled > a:hover,
.navbar-default .navbar-nav > .disabled > a:focus {
  color: #ccc;
  background-color: transparent;
}
.navbar-default .navbar-toggle {
  border-color: #ddd;
}
.navbar-default .navbar-toggle:hover,
.navbar-default .navbar-toggle:focus {
  background-color: #ddd;
}
.navbar-default .navbar-toggle .icon-bar {
  background-color: #888;
}
.navbar-default .navbar-collapse,
.navbar-default .navbar-form {
  border-color: #e7e7e7;
}
.navbar-default .navbar-nav > .open > a,
.navbar-default .navbar-nav > .open > a:hover,
.navbar-default .navbar-nav > .open > a:focus {
  background-color: #e7e7e7;
  color: #555;
}
@media (max-width: 540px) {
  .navbar-default .navbar-nav .open .dropdown-menu > li > a {
    color: #777;
  }
  .navbar-default .navbar-nav .open .dropdown-menu > li > a:hover,
  .navbar-default .navbar-nav .open .dropdown-menu > li > a:focus {
    color: #333;
    background-color: transparent;
  }
  .navbar-default .navbar-nav .open .dropdown-menu > .active > a,
  .navbar-default .navbar-nav .open .dropdown-menu > .active > a:hover,
  .navbar-default .navbar-nav .open .dropdown-menu > .active > a:focus {
    color: #555;
    background-color: #e7e7e7;
  }
  .navbar-default .navbar-nav .open .dropdown-menu > .disabled > a,
  .navbar-default .navbar-nav .open .dropdown-menu > .disabled > a:hover,
  .navbar-default .navbar-nav .open .dropdown-menu > .disabled > a:focus {
    color: #ccc;
    background-color: transparent;
  }
}
.navbar-default .navbar-link {
  color: #777;
}
.navbar-default .navbar-link:hover {
  color: #333;
}
.navbar-default .btn-link {
  color: #777;
}
.navbar-default .btn-link:hover,
.navbar-default .btn-link:focus {
  color: #333;
}
.navbar-default .btn-link[disabled]:hover,
fieldset[disabled] .navbar-default .btn-link:hover,
.navbar-default .btn-link[disabled]:focus,
fieldset[disabled] .navbar-default .btn-link:focus {
  color: #ccc;
}
.navbar-inverse {
  background-color: #222;
  border-color: #080808;
}
.navbar-inverse .navbar-brand {
  color: #9d9d9d;
}
.navbar-inverse .navbar-brand:hover,
.navbar-inverse .navbar-brand:focus {
  color: #fff;
  background-color: transparent;
}
.navbar-inverse .navbar-text {
  color: #9d9d9d;
}
.navbar-inverse .navbar-nav > li > a {
  color: #9d9d9d;
}
.navbar-inverse .navbar-nav > li > a:hover,
.navbar-inverse .navbar-nav > li > a:focus {
  color: #fff;
  background-color: transparent;
}
.navbar-inverse .navbar-nav > .active > a,
.navbar-inverse .navbar-nav > .active > a:hover,
.navbar-inverse .navbar-nav > .active > a:focus {
  color: #fff;
  background-color: #080808;
}
.navbar-inverse .navbar-nav > .disabled > a,
.navbar-inverse .navbar-nav > .disabled > a:hover,
.navbar-inverse .navbar-nav > .disabled > a:focus {
  color: #444;
  background-color: transparent;
}
.navbar-inverse .navbar-toggle {
  border-color: #333;
}
.navbar-inverse .navbar-toggle:hover,
.navbar-inverse .navbar-toggle:focus {
  background-color: #333;
}
.navbar-inverse .navbar-toggle .icon-bar {
  background-color: #fff;
}
.navbar-inverse .navbar-collapse,
.navbar-inverse .navbar-form {
  border-color: #101010;
}
.navbar-inverse .navbar-nav > .open > a,
.navbar-inverse .navbar-nav > .open > a:hover,
.navbar-inverse .navbar-nav > .open > a:focus {
  background-color: #080808;
  color: #fff;
}
@media (max-width: 540px) {
  .navbar-inverse .navbar-nav .open .dropdown-menu > .dropdown-header {
    border-color: #080808;
  }
  .navbar-inverse .navbar-nav .open .dropdown-menu .divider {
    background-color: #080808;
  }
  .navbar-inverse .navbar-nav .open .dropdown-menu > li > a {
    color: #9d9d9d;
  }
  .navbar-inverse .navbar-nav .open .dropdown-menu > li > a:hover,
  .navbar-inverse .navbar-nav .open .dropdown-menu > li > a:focus {
    color: #fff;
    background-color: transparent;
  }
  .navbar-inverse .navbar-nav .open .dropdown-menu > .active > a,
  .navbar-inverse .navbar-nav .open .dropdown-menu > .active > a:hover,
  .navbar-inverse .navbar-nav .open .dropdown-menu > .active > a:focus {
    color: #fff;
    background-color: #080808;
  }
  .navbar-inverse .navbar-nav .open .dropdown-menu > .disabled > a,
  .navbar-inverse .navbar-nav .open .dropdown-menu > .disabled > a:hover,
  .navbar-inverse .navbar-nav .open .dropdown-menu > .disabled > a:focus {
    color: #444;
    background-color: transparent;
  }
}
.navbar-inverse .navbar-link {
  color: #9d9d9d;
}
.navbar-inverse .navbar-link:hover {
  color: #fff;
}
.navbar-inverse .btn-link {
  color: #9d9d9d;
}
.navbar-inverse .btn-link:hover,
.navbar-inverse .btn-link:focus {
  color: #fff;
}
.navbar-inverse .btn-link[disabled]:hover,
fieldset[disabled] .navbar-inverse .btn-link:hover,
.navbar-inverse .btn-link[disabled]:focus,
fieldset[disabled] .navbar-inverse .btn-link:focus {
  color: #444;
}
.breadcrumb {
  padding: 8px 15px;
  margin-bottom: 18px;
  list-style: none;
  background-color: #f5f5f5;
  border-radius: 2px;
}
.breadcrumb > li {
  display: inline-block;
}
.breadcrumb > li + li:before {
  content: "/\00a0";
  padding: 0 5px;
  color: #5e5e5e;
}
.breadcrumb > .active {
  color: #777777;
}
.pagination {
  display: inline-block;
  padding-left: 0;
  margin: 18px 0;
  border-radius: 2px;
}
.pagination > li {
  display: inline;
}
.pagination > li > a,
.pagination > li > span {
  position: relative;
  float: left;
  padding: 6px 12px;
  line-height: 1.42857143;
  text-decoration: none;
  color: #337ab7;
  background-color: #fff;
  border: 1px solid #ddd;
  margin-left: -1px;
}
.pagination > li:first-child > a,
.pagination > li:first-child > span {
  margin-left: 0;
  border-bottom-left-radius: 2px;
  border-top-left-radius: 2px;
}
.pagination > li:last-child > a,
.pagination > li:last-child > span {
  border-bottom-right-radius: 2px;
  border-top-right-radius: 2px;
}
.pagination > li > a:hover,
.pagination > li > span:hover,
.pagination > li > a:focus,
.pagination > li > span:focus {
  z-index: 2;
  color: #23527c;
  background-color: #eeeeee;
  border-color: #ddd;
}
.pagination > .active > a,
.pagination > .active > span,
.pagination > .active > a:hover,
.pagination > .active > span:hover,
.pagination > .active > a:focus,
.pagination > .active > span:focus {
  z-index: 3;
  color: #fff;
  background-color: #337ab7;
  border-color: #337ab7;
  cursor: default;
}
.pagination > .disabled > span,
.pagination > .disabled > span:hover,
.pagination > .disabled > span:focus,
.pagination > .disabled > a,
.pagination > .disabled > a:hover,
.pagination > .disabled > a:focus {
  color: #777777;
  background-color: #fff;
  border-color: #ddd;
  cursor: not-allowed;
}
.pagination-lg > li > a,
.pagination-lg > li > span {
  padding: 10px 16px;
  font-size: 17px;
  line-height: 1.3333333;
}
.pagination-lg > li:first-child > a,
.pagination-lg > li:first-child > span {
  border-bottom-left-radius: 3px;
  border-top-left-radius: 3px;
}
.pagination-lg > li:last-child > a,
.pagination-lg > li:last-child > span {
  border-bottom-right-radius: 3px;
  border-top-right-radius: 3px;
}
.pagination-sm > li > a,
.pagination-sm > li > span {
  padding: 5px 10px;
  font-size: 12px;
  line-height: 1.5;
}
.pagination-sm > li:first-child > a,
.pagination-sm > li:first-child > span {
  border-bottom-left-radius: 1px;
  border-top-left-radius: 1px;
}
.pagination-sm > li:last-child > a,
.pagination-sm > li:last-child > span {
  border-bottom-right-radius: 1px;
  border-top-right-radius: 1px;
}
.pager {
  padding-left: 0;
  margin: 18px 0;
  list-style: none;
  text-align: center;
}
.pager li {
  display: inline;
}
.pager li > a,
.pager li > span {
  display: inline-block;
  padding: 5px 14px;
  background-color: #fff;
  border: 1px solid #ddd;
  border-radius: 15px;
}
.pager li > a:hover,
.pager li > a:focus {
  text-decoration: none;
  background-color: #eeeeee;
}
.pager .next > a,
.pager .next > span {
  float: right;
}
.pager .previous > a,
.pager .previous > span {
  float: left;
}
.pager .disabled > a,
.pager .disabled > a:hover,
.pager .disabled > a:focus,
.pager .disabled > span {
  color: #777777;
  background-color: #fff;
  cursor: not-allowed;
}
.label {
  display: inline;
  padding: .2em .6em .3em;
  font-size: 75%;
  font-weight: bold;
  line-height: 1;
  color: #fff;
  text-align: center;
  white-space: nowrap;
  vertical-align: baseline;
  border-radius: .25em;
}
a.label:hover,
a.label:focus {
  color: #fff;
  text-decoration: none;
  cursor: pointer;
}
.label:empty {
  display: none;
}
.btn .label {
  position: relative;
  top: -1px;
}
.label-default {
  background-color: #777777;
}
.label-default[href]:hover,
.label-default[href]:focus {
  background-color: #5e5e5e;
}
.label-primary {
  background-color: #337ab7;
}
.label-primary[href]:hover,
.label-primary[href]:focus {
  background-color: #286090;
}
.label-success {
  background-color: #5cb85c;
}
.label-success[href]:hover,
.label-success[href]:focus {
  background-color: #449d44;
}
.label-info {
  background-color: #5bc0de;
}
.label-info[href]:hover,
.label-info[href]:focus {
  background-color: #31b0d5;
}
.label-warning {
  background-color: #f0ad4e;
}
.label-warning[href]:hover,
.label-warning[href]:focus {
  background-color: #ec971f;
}
.label-danger {
  background-color: #d9534f;
}
.label-danger[href]:hover,
.label-danger[href]:focus {
  background-color: #c9302c;
}
.badge {
  display: inline-block;
  min-width: 10px;
  padding: 3px 7px;
  font-size: 12px;
  font-weight: bold;
  color: #fff;
  line-height: 1;
  vertical-align: middle;
  white-space: nowrap;
  text-align: center;
  background-color: #777777;
  border-radius: 10px;
}
.badge:empty {
  display: none;
}
.btn .badge {
  position: relative;
  top: -1px;
}
.btn-xs .badge,
.btn-group-xs > .btn .badge {
  top: 0;
  padding: 1px 5px;
}
a.badge:hover,
a.badge:focus {
  color: #fff;
  text-decoration: none;
  cursor: pointer;
}
.list-group-item.active > .badge,
.nav-pills > .active > a > .badge {
  color: #337ab7;
  background-color: #fff;
}
.list-group-item > .badge {
  float: right;
}
.list-group-item > .badge + .badge {
  margin-right: 5px;
}
.nav-pills > li > a > .badge {
  margin-left: 3px;
}
.jumbotron {
  padding-top: 30px;
  padding-bottom: 30px;
  margin-bottom: 30px;
  color: inherit;
  background-color: #eeeeee;
}
.jumbotron h1,
.jumbotron .h1 {
  color: inherit;
}
.jumbotron p {
  margin-bottom: 15px;
  font-size: 20px;
  font-weight: 200;
}
.jumbotron > hr {
  border-top-color: #d5d5d5;
}
.container .jumbotron,
.container-fluid .jumbotron {
  border-radius: 3px;
  padding-left: 0px;
  padding-right: 0px;
}
.jumbotron .container {
  max-width: 100%;
}
@media screen and (min-width: 768px) {
  .jumbotron {
    padding-top: 48px;
    padding-bottom: 48px;
  }
  .container .jumbotron,
  .container-fluid .jumbotron {
    padding-left: 60px;
    padding-right: 60px;
  }
  .jumbotron h1,
  .jumbotron .h1 {
    font-size: 59px;
  }
}
.thumbnail {
  display: block;
  padding: 4px;
  margin-bottom: 18px;
  line-height: 1.42857143;
  background-color: #fff;
  border: 1px solid #ddd;
  border-radius: 2px;
  -webkit-transition: border 0.2s ease-in-out;
  -o-transition: border 0.2s ease-in-out;
  transition: border 0.2s ease-in-out;
}
.thumbnail > img,
.thumbnail a > img {
  margin-left: auto;
  margin-right: auto;
}
a.thumbnail:hover,
a.thumbnail:focus,
a.thumbnail.active {
  border-color: #337ab7;
}
.thumbnail .caption {
  padding: 9px;
  color: #000;
}
.alert {
  padding: 15px;
  margin-bottom: 18px;
  border: 1px solid transparent;
  border-radius: 2px;
}
.alert h4 {
  margin-top: 0;
  color: inherit;
}
.alert .alert-link {
  font-weight: bold;
}
.alert > p,
.alert > ul {
  margin-bottom: 0;
}
.alert > p + p {
  margin-top: 5px;
}
.alert-dismissable,
.alert-dismissible {
  padding-right: 35px;
}
.alert-dismissable .close,
.alert-dismissible .close {
  position: relative;
  top: -2px;
  right: -21px;
  color: inherit;
}
.alert-success {
  background-color: #dff0d8;
  border-color: #d6e9c6;
  color: #3c763d;
}
.alert-success hr {
  border-top-color: #c9e2b3;
}
.alert-success .alert-link {
  color: #2b542c;
}
.alert-info {
  background-color: #d9edf7;
  border-color: #bce8f1;
  color: #31708f;
}
.alert-info hr {
  border-top-color: #a6e1ec;
}
.alert-info .alert-link {
  color: #245269;
}
.alert-warning {
  background-color: #fcf8e3;
  border-color: #faebcc;
  color: #8a6d3b;
}
.alert-warning hr {
  border-top-color: #f7e1b5;
}
.alert-warning .alert-link {
  color: #66512c;
}
.alert-danger {
  background-color: #f2dede;
  border-color: #ebccd1;
  color: #a94442;
}
.alert-danger hr {
  border-top-color: #e4b9c0;
}
.alert-danger .alert-link {
  color: #843534;
}
@-webkit-keyframes progress-bar-stripes {
  from {
    background-position: 40px 0;
  }
  to {
    background-position: 0 0;
  }
}
@keyframes progress-bar-stripes {
  from {
    background-position: 40px 0;
  }
  to {
    background-position: 0 0;
  }
}
.progress {
  overflow: hidden;
  height: 18px;
  margin-bottom: 18px;
  background-color: #f5f5f5;
  border-radius: 2px;
  -webkit-box-shadow: inset 0 1px 2px rgba(0, 0, 0, 0.1);
  box-shadow: inset 0 1px 2px rgba(0, 0, 0, 0.1);
}
.progress-bar {
  float: left;
  width: 0%;
  height: 100%;
  font-size: 12px;
  line-height: 18px;
  color: #fff;
  text-align: center;
  background-color: #337ab7;
  -webkit-box-shadow: inset 0 -1px 0 rgba(0, 0, 0, 0.15);
  box-shadow: inset 0 -1px 0 rgba(0, 0, 0, 0.15);
  -webkit-transition: width 0.6s ease;
  -o-transition: width 0.6s ease;
  transition: width 0.6s ease;
}
.progress-striped .progress-bar,
.progress-bar-striped {
  background-image: -webkit-linear-gradient(45deg, rgba(255, 255, 255, 0.15) 25%, transparent 25%, transparent 50%, rgba(255, 255, 255, 0.15) 50%, rgba(255, 255, 255, 0.15) 75%, transparent 75%, transparent);
  background-image: -o-linear-gradient(45deg, rgba(255, 255, 255, 0.15) 25%, transparent 25%, transparent 50%, rgba(255, 255, 255, 0.15) 50%, rgba(255, 255, 255, 0.15) 75%, transparent 75%, transparent);
  background-image: linear-gradient(45deg, rgba(255, 255, 255, 0.15) 25%, transparent 25%, transparent 50%, rgba(255, 255, 255, 0.15) 50%, rgba(255, 255, 255, 0.15) 75%, transparent 75%, transparent);
  background-size: 40px 40px;
}
.progress.active .progress-bar,
.progress-bar.active {
  -webkit-animation: progress-bar-stripes 2s linear infinite;
  -o-animation: progress-bar-stripes 2s linear infinite;
  animation: progress-bar-stripes 2s linear infinite;
}
.progress-bar-success {
  background-color: #5cb85c;
}
.progress-striped .progress-bar-success {
  background-image: -webkit-linear-gradient(45deg, rgba(255, 255, 255, 0.15) 25%, transparent 25%, transparent 50%, rgba(255, 255, 255, 0.15) 50%, rgba(255, 255, 255, 0.15) 75%, transparent 75%, transparent);
  background-image: -o-linear-gradient(45deg, rgba(255, 255, 255, 0.15) 25%, transparent 25%, transparent 50%, rgba(255, 255, 255, 0.15) 50%, rgba(255, 255, 255, 0.15) 75%, transparent 75%, transparent);
  background-image: linear-gradient(45deg, rgba(255, 255, 255, 0.15) 25%, transparent 25%, transparent 50%, rgba(255, 255, 255, 0.15) 50%, rgba(255, 255, 255, 0.15) 75%, transparent 75%, transparent);
}
.progress-bar-info {
  background-color: #5bc0de;
}
.progress-striped .progress-bar-info {
  background-image: -webkit-linear-gradient(45deg, rgba(255, 255, 255, 0.15) 25%, transparent 25%, transparent 50%, rgba(255, 255, 255, 0.15) 50%, rgba(255, 255, 255, 0.15) 75%, transparent 75%, transparent);
  background-image: -o-linear-gradient(45deg, rgba(255, 255, 255, 0.15) 25%, transparent 25%, transparent 50%, rgba(255, 255, 255, 0.15) 50%, rgba(255, 255, 255, 0.15) 75%, transparent 75%, transparent);
  background-image: linear-gradient(45deg, rgba(255, 255, 255, 0.15) 25%, transparent 25%, transparent 50%, rgba(255, 255, 255, 0.15) 50%, rgba(255, 255, 255, 0.15) 75%, transparent 75%, transparent);
}
.progress-bar-warning {
  background-color: #f0ad4e;
}
.progress-striped .progress-bar-warning {
  background-image: -webkit-linear-gradient(45deg, rgba(255, 255, 255, 0.15) 25%, transparent 25%, transparent 50%, rgba(255, 255, 255, 0.15) 50%, rgba(255, 255, 255, 0.15) 75%, transparent 75%, transparent);
  background-image: -o-linear-gradient(45deg, rgba(255, 255, 255, 0.15) 25%, transparent 25%, transparent 50%, rgba(255, 255, 255, 0.15) 50%, rgba(255, 255, 255, 0.15) 75%, transparent 75%, transparent);
  background-image: linear-gradient(45deg, rgba(255, 255, 255, 0.15) 25%, transparent 25%, transparent 50%, rgba(255, 255, 255, 0.15) 50%, rgba(255, 255, 255, 0.15) 75%, transparent 75%, transparent);
}
.progress-bar-danger {
  background-color: #d9534f;
}
.progress-striped .progress-bar-danger {
  background-image: -webkit-linear-gradient(45deg, rgba(255, 255, 255, 0.15) 25%, transparent 25%, transparent 50%, rgba(255, 255, 255, 0.15) 50%, rgba(255, 255, 255, 0.15) 75%, transparent 75%, transparent);
  background-image: -o-linear-gradient(45deg, rgba(255, 255, 255, 0.15) 25%, transparent 25%, transparent 50%, rgba(255, 255, 255, 0.15) 50%, rgba(255, 255, 255, 0.15) 75%, transparent 75%, transparent);
  background-image: linear-gradient(45deg, rgba(255, 255, 255, 0.15) 25%, transparent 25%, transparent 50%, rgba(255, 255, 255, 0.15) 50%, rgba(255, 255, 255, 0.15) 75%, transparent 75%, transparent);
}
.media {
  margin-top: 15px;
}
.media:first-child {
  margin-top: 0;
}
.media,
.media-body {
  zoom: 1;
  overflow: hidden;
}
.media-body {
  width: 10000px;
}
.media-object {
  display: block;
}
.media-object.img-thumbnail {
  max-width: none;
}
.media-right,
.media > .pull-right {
  padding-left: 10px;
}
.media-left,
.media > .pull-left {
  padding-right: 10px;
}
.media-left,
.media-right,
.media-body {
  display: table-cell;
  vertical-align: top;
}
.media-middle {
  vertical-align: middle;
}
.media-bottom {
  vertical-align: bottom;
}
.media-heading {
  margin-top: 0;
  margin-bottom: 5px;
}
.media-list {
  padding-left: 0;
  list-style: none;
}
.list-group {
  margin-bottom: 20px;
  padding-left: 0;
}
.list-group-item {
  position: relative;
  display: block;
  padding: 10px 15px;
  margin-bottom: -1px;
  background-color: #fff;
  border: 1px solid #ddd;
}
.list-group-item:first-child {
  border-top-right-radius: 2px;
  border-top-left-radius: 2px;
}
.list-group-item:last-child {
  margin-bottom: 0;
  border-bottom-right-radius: 2px;
  border-bottom-left-radius: 2px;
}
a.list-group-item,
button.list-group-item {
  color: #555;
}
a.list-group-item .list-group-item-heading,
button.list-group-item .list-group-item-heading {
  color: #333;
}
a.list-group-item:hover,
button.list-group-item:hover,
a.list-group-item:focus,
button.list-group-item:focus {
  text-decoration: none;
  color: #555;
  background-color: #f5f5f5;
}
button.list-group-item {
  width: 100%;
  text-align: left;
}
.list-group-item.disabled,
.list-group-item.disabled:hover,
.list-group-item.disabled:focus {
  background-color: #eeeeee;
  color: #777777;
  cursor: not-allowed;
}
.list-group-item.disabled .list-group-item-heading,
.list-group-item.disabled:hover .list-group-item-heading,
.list-group-item.disabled:focus .list-group-item-heading {
  color: inherit;
}
.list-group-item.disabled .list-group-item-text,
.list-group-item.disabled:hover .list-group-item-text,
.list-group-item.disabled:focus .list-group-item-text {
  color: #777777;
}
.list-group-item.active,
.list-group-item.active:hover,
.list-group-item.active:focus {
  z-index: 2;
  color: #fff;
  background-color: #337ab7;
  border-color: #337ab7;
}
.list-group-item.active .list-group-item-heading,
.list-group-item.active:hover .list-group-item-heading,
.list-group-item.active:focus .list-group-item-heading,
.list-group-item.active .list-group-item-heading > small,
.list-group-item.active:hover .list-group-item-heading > small,
.list-group-item.active:focus .list-group-item-heading > small,
.list-group-item.active .list-group-item-heading > .small,
.list-group-item.active:hover .list-group-item-heading > .small,
.list-group-item.active:focus .list-group-item-heading > .small {
  color: inherit;
}
.list-group-item.active .list-group-item-text,
.list-group-item.active:hover .list-group-item-text,
.list-group-item.active:focus .list-group-item-text {
  color: #c7ddef;
}
.list-group-item-success {
  color: #3c763d;
  background-color: #dff0d8;
}
a.list-group-item-success,
button.list-group-item-success {
  color: #3c763d;
}
a.list-group-item-success .list-group-item-heading,
button.list-group-item-success .list-group-item-heading {
  color: inherit;
}
a.list-group-item-success:hover,
button.list-group-item-success:hover,
a.list-group-item-success:focus,
button.list-group-item-success:focus {
  color: #3c763d;
  background-color: #d0e9c6;
}
a.list-group-item-success.active,
button.list-group-item-success.active,
a.list-group-item-success.active:hover,
button.list-group-item-success.active:hover,
a.list-group-item-success.active:focus,
button.list-group-item-success.active:focus {
  color: #fff;
  background-color: #3c763d;
  border-color: #3c763d;
}
.list-group-item-info {
  color: #31708f;
  background-color: #d9edf7;
}
a.list-group-item-info,
button.list-group-item-info {
  color: #31708f;
}
a.list-group-item-info .list-group-item-heading,
button.list-group-item-info .list-group-item-heading {
  color: inherit;
}
a.list-group-item-info:hover,
button.list-group-item-info:hover,
a.list-group-item-info:focus,
button.list-group-item-info:focus {
  color: #31708f;
  background-color: #c4e3f3;
}
a.list-group-item-info.active,
button.list-group-item-info.active,
a.list-group-item-info.active:hover,
button.list-group-item-info.active:hover,
a.list-group-item-info.active:focus,
button.list-group-item-info.active:focus {
  color: #fff;
  background-color: #31708f;
  border-color: #31708f;
}
.list-group-item-warning {
  color: #8a6d3b;
  background-color: #fcf8e3;
}
a.list-group-item-warning,
button.list-group-item-warning {
  color: #8a6d3b;
}
a.list-group-item-warning .list-group-item-heading,
button.list-group-item-warning .list-group-item-heading {
  color: inherit;
}
a.list-group-item-warning:hover,
button.list-group-item-warning:hover,
a.list-group-item-warning:focus,
button.list-group-item-warning:focus {
  color: #8a6d3b;
  background-color: #faf2cc;
}
a.list-group-item-warning.active,
button.list-group-item-warning.active,
a.list-group-item-warning.active:hover,
button.list-group-item-warning.active:hover,
a.list-group-item-warning.active:focus,
button.list-group-item-warning.active:focus {
  color: #fff;
  background-color: #8a6d3b;
  border-color: #8a6d3b;
}
.list-group-item-danger {
  color: #a94442;
  background-color: #f2dede;
}
a.list-group-item-danger,
button.list-group-item-danger {
  color: #a94442;
}
a.list-group-item-danger .list-group-item-heading,
button.list-group-item-danger .list-group-item-heading {
  color: inherit;
}
a.list-group-item-danger:hover,
button.list-group-item-danger:hover,
a.list-group-item-danger:focus,
button.list-group-item-danger:focus {
  color: #a94442;
  background-color: #ebcccc;
}
a.list-group-item-danger.active,
button.list-group-item-danger.active,
a.list-group-item-danger.active:hover,
button.list-group-item-danger.active:hover,
a.list-group-item-danger.active:focus,
button.list-group-item-danger.active:focus {
  color: #fff;
  background-color: #a94442;
  border-color: #a94442;
}
.list-group-item-heading {
  margin-top: 0;
  margin-bottom: 5px;
}
.list-group-item-text {
  margin-bottom: 0;
  line-height: 1.3;
}
.panel {
  margin-bottom: 18px;
  background-color: #fff;
  border: 1px solid transparent;
  border-radius: 2px;
  -webkit-box-shadow: 0 1px 1px rgba(0, 0, 0, 0.05);
  box-shadow: 0 1px 1px rgba(0, 0, 0, 0.05);
}
.panel-body {
  padding: 15px;
}
.panel-heading {
  padding: 10px 15px;
  border-bottom: 1px solid transparent;
  border-top-right-radius: 1px;
  border-top-left-radius: 1px;
}
.panel-heading > .dropdown .dropdown-toggle {
  color: inherit;
}
.panel-title {
  margin-top: 0;
  margin-bottom: 0;
  font-size: 15px;
  color: inherit;
}
.panel-title > a,
.panel-title > small,
.panel-title > .small,
.panel-title > small > a,
.panel-title > .small > a {
  color: inherit;
}
.panel-footer {
  padding: 10px 15px;
  background-color: #f5f5f5;
  border-top: 1px solid #ddd;
  border-bottom-right-radius: 1px;
  border-bottom-left-radius: 1px;
}
.panel > .list-group,
.panel > .panel-collapse > .list-group {
  margin-bottom: 0;
}
.panel > .list-group .list-group-item,
.panel > .panel-collapse > .list-group .list-group-item {
  border-width: 1px 0;
  border-radius: 0;
}
.panel > .list-group:first-child .list-group-item:first-child,
.panel > .panel-collapse > .list-group:first-child .list-group-item:first-child {
  border-top: 0;
  border-top-right-radius: 1px;
  border-top-left-radius: 1px;
}
.panel > .list-group:last-child .list-group-item:last-child,
.panel > .panel-collapse > .list-group:last-child .list-group-item:last-child {
  border-bottom: 0;
  border-bottom-right-radius: 1px;
  border-bottom-left-radius: 1px;
}
.panel > .panel-heading + .panel-collapse > .list-group .list-group-item:first-child {
  border-top-right-radius: 0;
  border-top-left-radius: 0;
}
.panel-heading + .list-group .list-group-item:first-child {
  border-top-width: 0;
}
.list-group + .panel-footer {
  border-top-width: 0;
}
.panel > .table,
.panel > .table-responsive > .table,
.panel > .panel-collapse > .table {
  margin-bottom: 0;
}
.panel > .table caption,
.panel > .table-responsive > .table caption,
.panel > .panel-collapse > .table caption {
  padding-left: 15px;
  padding-right: 15px;
}
.panel > .table:first-child,
.panel > .table-responsive:first-child > .table:first-child {
  border-top-right-radius: 1px;
  border-top-left-radius: 1px;
}
.panel > .table:first-child > thead:first-child > tr:first-child,
.panel > .table-responsive:first-child > .table:first-child > thead:first-child > tr:first-child,
.panel > .table:first-child > tbody:first-child > tr:first-child,
.panel > .table-responsive:first-child > .table:first-child > tbody:first-child > tr:first-child {
  border-top-left-radius: 1px;
  border-top-right-radius: 1px;
}
.panel > .table:first-child > thead:first-child > tr:first-child td:first-child,
.panel > .table-responsive:first-child > .table:first-child > thead:first-child > tr:first-child td:first-child,
.panel > .table:first-child > tbody:first-child > tr:first-child td:first-child,
.panel > .table-responsive:first-child > .table:first-child > tbody:first-child > tr:first-child td:first-child,
.panel > .table:first-child > thead:first-child > tr:first-child th:first-child,
.panel > .table-responsive:first-child > .table:first-child > thead:first-child > tr:first-child th:first-child,
.panel > .table:first-child > tbody:first-child > tr:first-child th:first-child,
.panel > .table-responsive:first-child > .table:first-child > tbody:first-child > tr:first-child th:first-child {
  border-top-left-radius: 1px;
}
.panel > .table:first-child > thead:first-child > tr:first-child td:last-child,
.panel > .table-responsive:first-child > .table:first-child > thead:first-child > tr:first-child td:last-child,
.panel > .table:first-child > tbody:first-child > tr:first-child td:last-child,
.panel > .table-responsive:first-child > .table:first-child > tbody:first-child > tr:first-child td:last-child,
.panel > .table:first-child > thead:first-child > tr:first-child th:last-child,
.panel > .table-responsive:first-child > .table:first-child > thead:first-child > tr:first-child th:last-child,
.panel > .table:first-child > tbody:first-child > tr:first-child th:last-child,
.panel > .table-responsive:first-child > .table:first-child > tbody:first-child > tr:first-child th:last-child {
  border-top-right-radius: 1px;
}
.panel > .table:last-child,
.panel > .table-responsive:last-child > .table:last-child {
  border-bottom-right-radius: 1px;
  border-bottom-left-radius: 1px;
}
.panel > .table:last-child > tbody:last-child > tr:last-child,
.panel > .table-responsive:last-child > .table:last-child > tbody:last-child > tr:last-child,
.panel > .table:last-child > tfoot:last-child > tr:last-child,
.panel > .table-responsive:last-child > .table:last-child > tfoot:last-child > tr:last-child {
  border-bottom-left-radius: 1px;
  border-bottom-right-radius: 1px;
}
.panel > .table:last-child > tbody:last-child > tr:last-child td:first-child,
.panel > .table-responsive:last-child > .table:last-child > tbody:last-child > tr:last-child td:first-child,
.panel > .table:last-child > tfoot:last-child > tr:last-child td:first-child,
.panel > .table-responsive:last-child > .table:last-child > tfoot:last-child > tr:last-child td:first-child,
.panel > .table:last-child > tbody:last-child > tr:last-child th:first-child,
.panel > .table-responsive:last-child > .table:last-child > tbody:last-child > tr:last-child th:first-child,
.panel > .table:last-child > tfoot:last-child > tr:last-child th:first-child,
.panel > .table-responsive:last-child > .table:last-child > tfoot:last-child > tr:last-child th:first-child {
  border-bottom-left-radius: 1px;
}
.panel > .table:last-child > tbody:last-child > tr:last-child td:last-child,
.panel > .table-responsive:last-child > .table:last-child > tbody:last-child > tr:last-child td:last-child,
.panel > .table:last-child > tfoot:last-child > tr:last-child td:last-child,
.panel > .table-responsive:last-child > .table:last-child > tfoot:last-child > tr:last-child td:last-child,
.panel > .table:last-child > tbody:last-child > tr:last-child th:last-child,
.panel > .table-responsive:last-child > .table:last-child > tbody:last-child > tr:last-child th:last-child,
.panel > .table:last-child > tfoot:last-child > tr:last-child th:last-child,
.panel > .table-responsive:last-child > .table:last-child > tfoot:last-child > tr:last-child th:last-child {
  border-bottom-right-radius: 1px;
}
.panel > .panel-body + .table,
.panel > .panel-body + .table-responsive,
.panel > .table + .panel-body,
.panel > .table-responsive + .panel-body {
  border-top: 1px solid #ddd;
}
.panel > .table > tbody:first-child > tr:first-child th,
.panel > .table > tbody:first-child > tr:first-child td {
  border-top: 0;
}
.panel > .table-bordered,
.panel > .table-responsive > .table-bordered {
  border: 0;
}
.panel > .table-bordered > thead > tr > th:first-child,
.panel > .table-responsive > .table-bordered > thead > tr > th:first-child,
.panel > .table-bordered > tbody > tr > th:first-child,
.panel > .table-responsive > .table-bordered > tbody > tr > th:first-child,
.panel > .table-bordered > tfoot > tr > th:first-child,
.panel > .table-responsive > .table-bordered > tfoot > tr > th:first-child,
.panel > .table-bordered > thead > tr > td:first-child,
.panel > .table-responsive > .table-bordered > thead > tr > td:first-child,
.panel > .table-bordered > tbody > tr > td:first-child,
.panel > .table-responsive > .table-bordered > tbody > tr > td:first-child,
.panel > .table-bordered > tfoot > tr > td:first-child,
.panel > .table-responsive > .table-bordered > tfoot > tr > td:first-child {
  border-left: 0;
}
.panel > .table-bordered > thead > tr > th:last-child,
.panel > .table-responsive > .table-bordered > thead > tr > th:last-child,
.panel > .table-bordered > tbody > tr > th:last-child,
.panel > .table-responsive > .table-bordered > tbody > tr > th:last-child,
.panel > .table-bordered > tfoot > tr > th:last-child,
.panel > .table-responsive > .table-bordered > tfoot > tr > th:last-child,
.panel > .table-bordered > thead > tr > td:last-child,
.panel > .table-responsive > .table-bordered > thead > tr > td:last-child,
.panel > .table-bordered > tbody > tr > td:last-child,
.panel > .table-responsive > .table-bordered > tbody > tr > td:last-child,
.panel > .table-bordered > tfoot > tr > td:last-child,
.panel > .table-responsive > .table-bordered > tfoot > tr > td:last-child {
  border-right: 0;
}
.panel > .table-bordered > thead > tr:first-child > td,
.panel > .table-responsive > .table-bordered > thead > tr:first-child > td,
.panel > .table-bordered > tbody > tr:first-child > td,
.panel > .table-responsive > .table-bordered > tbody > tr:first-child > td,
.panel > .table-bordered > thead > tr:first-child > th,
.panel > .table-responsive > .table-bordered > thead > tr:first-child > th,
.panel > .table-bordered > tbody > tr:first-child > th,
.panel > .table-responsive > .table-bordered > tbody > tr:first-child > th {
  border-bottom: 0;
}
.panel > .table-bordered > tbody > tr:last-child > td,
.panel > .table-responsive > .table-bordered > tbody > tr:last-child > td,
.panel > .table-bordered > tfoot > tr:last-child > td,
.panel > .table-responsive > .table-bordered > tfoot > tr:last-child > td,
.panel > .table-bordered > tbody > tr:last-child > th,
.panel > .table-responsive > .table-bordered > tbody > tr:last-child > th,
.panel > .table-bordered > tfoot > tr:last-child > th,
.panel > .table-responsive > .table-bordered > tfoot > tr:last-child > th {
  border-bottom: 0;
}
.panel > .table-responsive {
  border: 0;
  margin-bottom: 0;
}
.panel-group {
  margin-bottom: 18px;
}
.panel-group .panel {
  margin-bottom: 0;
  border-radius: 2px;
}
.panel-group .panel + .panel {
  margin-top: 5px;
}
.panel-group .panel-heading {
  border-bottom: 0;
}
.panel-group .panel-heading + .panel-collapse > .panel-body,
.panel-group .panel-heading + .panel-collapse > .list-group {
  border-top: 1px solid #ddd;
}
.panel-group .panel-footer {
  border-top: 0;
}
.panel-group .panel-footer + .panel-collapse .panel-body {
  border-bottom: 1px solid #ddd;
}
.panel-default {
  border-color: #ddd;
}
.panel-default > .panel-heading {
  color: #333333;
  background-color: #f5f5f5;
  border-color: #ddd;
}
.panel-default > .panel-heading + .panel-collapse > .panel-body {
  border-top-color: #ddd;
}
.panel-default > .panel-heading .badge {
  color: #f5f5f5;
  background-color: #333333;
}
.panel-default > .panel-footer + .panel-collapse > .panel-body {
  border-bottom-color: #ddd;
}
.panel-primary {
  border-color: #337ab7;
}
.panel-primary > .panel-heading {
  color: #fff;
  background-color: #337ab7;
  border-color: #337ab7;
}
.panel-primary > .panel-heading + .panel-collapse > .panel-body {
  border-top-color: #337ab7;
}
.panel-primary > .panel-heading .badge {
  color: #337ab7;
  background-color: #fff;
}
.panel-primary > .panel-footer + .panel-collapse > .panel-body {
  border-bottom-color: #337ab7;
}
.panel-success {
  border-color: #d6e9c6;
}
.panel-success > .panel-heading {
  color: #3c763d;
  background-color: #dff0d8;
  border-color: #d6e9c6;
}
.panel-success > .panel-heading + .panel-collapse > .panel-body {
  border-top-color: #d6e9c6;
}
.panel-success > .panel-heading .badge {
  color: #dff0d8;
  background-color: #3c763d;
}
.panel-success > .panel-footer + .panel-collapse > .panel-body {
  border-bottom-color: #d6e9c6;
}
.panel-info {
  border-color: #bce8f1;
}
.panel-info > .panel-heading {
  color: #31708f;
  background-color: #d9edf7;
  border-color: #bce8f1;
}
.panel-info > .panel-heading + .panel-collapse > .panel-body {
  border-top-color: #bce8f1;
}
.panel-info > .panel-heading .badge {
  color: #d9edf7;
  background-color: #31708f;
}
.panel-info > .panel-footer + .panel-collapse > .panel-body {
  border-bottom-color: #bce8f1;
}
.panel-warning {
  border-color: #faebcc;
}
.panel-warning > .panel-heading {
  color: #8a6d3b;
  background-color: #fcf8e3;
  border-color: #faebcc;
}
.panel-warning > .panel-heading + .panel-collapse > .panel-body {
  border-top-color: #faebcc;
}
.panel-warning > .panel-heading .badge {
  color: #fcf8e3;
  background-color: #8a6d3b;
}
.panel-warning > .panel-footer + .panel-collapse > .panel-body {
  border-bottom-color: #faebcc;
}
.panel-danger {
  border-color: #ebccd1;
}
.panel-danger > .panel-heading {
  color: #a94442;
  background-color: #f2dede;
  border-color: #ebccd1;
}
.panel-danger > .panel-heading + .panel-collapse > .panel-body {
  border-top-color: #ebccd1;
}
.panel-danger > .panel-heading .badge {
  color: #f2dede;
  background-color: #a94442;
}
.panel-danger > .panel-footer + .panel-collapse > .panel-body {
  border-bottom-color: #ebccd1;
}
.embed-responsive {
  position: relative;
  display: block;
  height: 0;
  padding: 0;
  overflow: hidden;
}
.embed-responsive .embed-responsive-item,
.embed-responsive iframe,
.embed-responsive embed,
.embed-responsive object,
.embed-responsive video {
  position: absolute;
  top: 0;
  left: 0;
  bottom: 0;
  height: 100%;
  width: 100%;
  border: 0;
}
.embed-responsive-16by9 {
  padding-bottom: 56.25%;
}
.embed-responsive-4by3 {
  padding-bottom: 75%;
}
.well {
  min-height: 20px;
  padding: 19px;
  margin-bottom: 20px;
  background-color: #f5f5f5;
  border: 1px solid #e3e3e3;
  border-radius: 2px;
  -webkit-box-shadow: inset 0 1px 1px rgba(0, 0, 0, 0.05);
  box-shadow: inset 0 1px 1px rgba(0, 0, 0, 0.05);
}
.well blockquote {
  border-color: #ddd;
  border-color: rgba(0, 0, 0, 0.15);
}
.well-lg {
  padding: 24px;
  border-radius: 3px;
}
.well-sm {
  padding: 9px;
  border-radius: 1px;
}
.close {
  float: right;
  font-size: 19.5px;
  font-weight: bold;
  line-height: 1;
  color: #000;
  text-shadow: 0 1px 0 #fff;
  opacity: 0.2;
  filter: alpha(opacity=20);
}
.close:hover,
.close:focus {
  color: #000;
  text-decoration: none;
  cursor: pointer;
  opacity: 0.5;
  filter: alpha(opacity=50);
}
button.close {
  padding: 0;
  cursor: pointer;
  background: transparent;
  border: 0;
  -webkit-appearance: none;
}
.modal-open {
  overflow: hidden;
}
.modal {
  display: none;
  overflow: hidden;
  position: fixed;
  top: 0;
  right: 0;
  bottom: 0;
  left: 0;
  z-index: 1050;
  -webkit-overflow-scrolling: touch;
  outline: 0;
}
.modal.fade .modal-dialog {
  -webkit-transform: translate(0, -25%);
  -ms-transform: translate(0, -25%);
  -o-transform: translate(0, -25%);
  transform: translate(0, -25%);
  -webkit-transition: -webkit-transform 0.3s ease-out;
  -moz-transition: -moz-transform 0.3s ease-out;
  -o-transition: -o-transform 0.3s ease-out;
  transition: transform 0.3s ease-out;
}
.modal.in .modal-dialog {
  -webkit-transform: translate(0, 0);
  -ms-transform: translate(0, 0);
  -o-transform: translate(0, 0);
  transform: translate(0, 0);
}
.modal-open .modal {
  overflow-x: hidden;
  overflow-y: auto;
}
.modal-dialog {
  position: relative;
  width: auto;
  margin: 10px;
}
.modal-content {
  position: relative;
  background-color: #fff;
  border: 1px solid #999;
  border: 1px solid rgba(0, 0, 0, 0.2);
  border-radius: 3px;
  -webkit-box-shadow: 0 3px 9px rgba(0, 0, 0, 0.5);
  box-shadow: 0 3px 9px rgba(0, 0, 0, 0.5);
  background-clip: padding-box;
  outline: 0;
}
.modal-backdrop {
  position: fixed;
  top: 0;
  right: 0;
  bottom: 0;
  left: 0;
  z-index: 1040;
  background-color: #000;
}
.modal-backdrop.fade {
  opacity: 0;
  filter: alpha(opacity=0);
}
.modal-backdrop.in {
  opacity: 0.5;
  filter: alpha(opacity=50);
}
.modal-header {
  padding: 15px;
  border-bottom: 1px solid #e5e5e5;
}
.modal-header .close {
  margin-top: -2px;
}
.modal-title {
  margin: 0;
  line-height: 1.42857143;
}
.modal-body {
  position: relative;
  padding: 15px;
}
.modal-footer {
  padding: 15px;
  text-align: right;
  border-top: 1px solid #e5e5e5;
}
.modal-footer .btn + .btn {
  margin-left: 5px;
  margin-bottom: 0;
}
.modal-footer .btn-group .btn + .btn {
  margin-left: -1px;
}
.modal-footer .btn-block + .btn-block {
  margin-left: 0;
}
.modal-scrollbar-measure {
  position: absolute;
  top: -9999px;
  width: 50px;
  height: 50px;
  overflow: scroll;
}
@media (min-width: 768px) {
  .modal-dialog {
    width: 600px;
    margin: 30px auto;
  }
  .modal-content {
    -webkit-box-shadow: 0 5px 15px rgba(0, 0, 0, 0.5);
    box-shadow: 0 5px 15px rgba(0, 0, 0, 0.5);
  }
  .modal-sm {
    width: 300px;
  }
}
@media (min-width: 992px) {
  .modal-lg {
    width: 900px;
  }
}
.tooltip {
  position: absolute;
  z-index: 1070;
  display: block;
  font-family: "Helvetica Neue", Helvetica, Arial, sans-serif;
  font-style: normal;
  font-weight: normal;
  letter-spacing: normal;
  line-break: auto;
  line-height: 1.42857143;
  text-align: left;
  text-align: start;
  text-decoration: none;
  text-shadow: none;
  text-transform: none;
  white-space: normal;
  word-break: normal;
  word-spacing: normal;
  word-wrap: normal;
  font-size: 12px;
  opacity: 0;
  filter: alpha(opacity=0);
}
.tooltip.in {
  opacity: 0.9;
  filter: alpha(opacity=90);
}
.tooltip.top {
  margin-top: -3px;
  padding: 5px 0;
}
.tooltip.right {
  margin-left: 3px;
  padding: 0 5px;
}
.tooltip.bottom {
  margin-top: 3px;
  padding: 5px 0;
}
.tooltip.left {
  margin-left: -3px;
  padding: 0 5px;
}
.tooltip-inner {
  max-width: 200px;
  padding: 3px 8px;
  color: #fff;
  text-align: center;
  background-color: #000;
  border-radius: 2px;
}
.tooltip-arrow {
  position: absolute;
  width: 0;
  height: 0;
  border-color: transparent;
  border-style: solid;
}
.tooltip.top .tooltip-arrow {
  bottom: 0;
  left: 50%;
  margin-left: -5px;
  border-width: 5px 5px 0;
  border-top-color: #000;
}
.tooltip.top-left .tooltip-arrow {
  bottom: 0;
  right: 5px;
  margin-bottom: -5px;
  border-width: 5px 5px 0;
  border-top-color: #000;
}
.tooltip.top-right .tooltip-arrow {
  bottom: 0;
  left: 5px;
  margin-bottom: -5px;
  border-width: 5px 5px 0;
  border-top-color: #000;
}
.tooltip.right .tooltip-arrow {
  top: 50%;
  left: 0;
  margin-top: -5px;
  border-width: 5px 5px 5px 0;
  border-right-color: #000;
}
.tooltip.left .tooltip-arrow {
  top: 50%;
  right: 0;
  margin-top: -5px;
  border-width: 5px 0 5px 5px;
  border-left-color: #000;
}
.tooltip.bottom .tooltip-arrow {
  top: 0;
  left: 50%;
  margin-left: -5px;
  border-width: 0 5px 5px;
  border-bottom-color: #000;
}
.tooltip.bottom-left .tooltip-arrow {
  top: 0;
  right: 5px;
  margin-top: -5px;
  border-width: 0 5px 5px;
  border-bottom-color: #000;
}
.tooltip.bottom-right .tooltip-arrow {
  top: 0;
  left: 5px;
  margin-top: -5px;
  border-width: 0 5px 5px;
  border-bottom-color: #000;
}
.popover {
  position: absolute;
  top: 0;
  left: 0;
  z-index: 1060;
  display: none;
  max-width: 276px;
  padding: 1px;
  font-family: "Helvetica Neue", Helvetica, Arial, sans-serif;
  font-style: normal;
  font-weight: normal;
  letter-spacing: normal;
  line-break: auto;
  line-height: 1.42857143;
  text-align: left;
  text-align: start;
  text-decoration: none;
  text-shadow: none;
  text-transform: none;
  white-space: normal;
  word-break: normal;
  word-spacing: normal;
  word-wrap: normal;
  font-size: 13px;
  background-color: #fff;
  background-clip: padding-box;
  border: 1px solid #ccc;
  border: 1px solid rgba(0, 0, 0, 0.2);
  border-radius: 3px;
  -webkit-box-shadow: 0 5px 10px rgba(0, 0, 0, 0.2);
  box-shadow: 0 5px 10px rgba(0, 0, 0, 0.2);
}
.popover.top {
  margin-top: -10px;
}
.popover.right {
  margin-left: 10px;
}
.popover.bottom {
  margin-top: 10px;
}
.popover.left {
  margin-left: -10px;
}
.popover-title {
  margin: 0;
  padding: 8px 14px;
  font-size: 13px;
  background-color: #f7f7f7;
  border-bottom: 1px solid #ebebeb;
  border-radius: 2px 2px 0 0;
}
.popover-content {
  padding: 9px 14px;
}
.popover > .arrow,
.popover > .arrow:after {
  position: absolute;
  display: block;
  width: 0;
  height: 0;
  border-color: transparent;
  border-style: solid;
}
.popover > .arrow {
  border-width: 11px;
}
.popover > .arrow:after {
  border-width: 10px;
  content: "";
}
.popover.top > .arrow {
  left: 50%;
  margin-left: -11px;
  border-bottom-width: 0;
  border-top-color: #999999;
  border-top-color: rgba(0, 0, 0, 0.25);
  bottom: -11px;
}
.popover.top > .arrow:after {
  content: " ";
  bottom: 1px;
  margin-left: -10px;
  border-bottom-width: 0;
  border-top-color: #fff;
}
.popover.right > .arrow {
  top: 50%;
  left: -11px;
  margin-top: -11px;
  border-left-width: 0;
  border-right-color: #999999;
  border-right-color: rgba(0, 0, 0, 0.25);
}
.popover.right > .arrow:after {
  content: " ";
  left: 1px;
  bottom: -10px;
  border-left-width: 0;
  border-right-color: #fff;
}
.popover.bottom > .arrow {
  left: 50%;
  margin-left: -11px;
  border-top-width: 0;
  border-bottom-color: #999999;
  border-bottom-color: rgba(0, 0, 0, 0.25);
  top: -11px;
}
.popover.bottom > .arrow:after {
  content: " ";
  top: 1px;
  margin-left: -10px;
  border-top-width: 0;
  border-bottom-color: #fff;
}
.popover.left > .arrow {
  top: 50%;
  right: -11px;
  margin-top: -11px;
  border-right-width: 0;
  border-left-color: #999999;
  border-left-color: rgba(0, 0, 0, 0.25);
}
.popover.left > .arrow:after {
  content: " ";
  right: 1px;
  border-right-width: 0;
  border-left-color: #fff;
  bottom: -10px;
}
.carousel {
  position: relative;
}
.carousel-inner {
  position: relative;
  overflow: hidden;
  width: 100%;
}
.carousel-inner > .item {
  display: none;
  position: relative;
  -webkit-transition: 0.6s ease-in-out left;
  -o-transition: 0.6s ease-in-out left;
  transition: 0.6s ease-in-out left;
}
.carousel-inner > .item > img,
.carousel-inner > .item > a > img {
  line-height: 1;
}
@media all and (transform-3d), (-webkit-transform-3d) {
  .carousel-inner > .item {
    -webkit-transition: -webkit-transform 0.6s ease-in-out;
    -moz-transition: -moz-transform 0.6s ease-in-out;
    -o-transition: -o-transform 0.6s ease-in-out;
    transition: transform 0.6s ease-in-out;
    -webkit-backface-visibility: hidden;
    -moz-backface-visibility: hidden;
    backface-visibility: hidden;
    -webkit-perspective: 1000px;
    -moz-perspective: 1000px;
    perspective: 1000px;
  }
  .carousel-inner > .item.next,
  .carousel-inner > .item.active.right {
    -webkit-transform: translate3d(100%, 0, 0);
    transform: translate3d(100%, 0, 0);
    left: 0;
  }
  .carousel-inner > .item.prev,
  .carousel-inner > .item.active.left {
    -webkit-transform: translate3d(-100%, 0, 0);
    transform: translate3d(-100%, 0, 0);
    left: 0;
  }
  .carousel-inner > .item.next.left,
  .carousel-inner > .item.prev.right,
  .carousel-inner > .item.active {
    -webkit-transform: translate3d(0, 0, 0);
    transform: translate3d(0, 0, 0);
    left: 0;
  }
}
.carousel-inner > .active,
.carousel-inner > .next,
.carousel-inner > .prev {
  display: block;
}
.carousel-inner > .active {
  left: 0;
}
.carousel-inner > .next,
.carousel-inner > .prev {
  position: absolute;
  top: 0;
  width: 100%;
}
.carousel-inner > .next {
  left: 100%;
}
.carousel-inner > .prev {
  left: -100%;
}
.carousel-inner > .next.left,
.carousel-inner > .prev.right {
  left: 0;
}
.carousel-inner > .active.left {
  left: -100%;
}
.carousel-inner > .active.right {
  left: 100%;
}
.carousel-control {
  position: absolute;
  top: 0;
  left: 0;
  bottom: 0;
  width: 15%;
  opacity: 0.5;
  filter: alpha(opacity=50);
  font-size: 20px;
  color: #fff;
  text-align: center;
  text-shadow: 0 1px 2px rgba(0, 0, 0, 0.6);
  background-color: rgba(0, 0, 0, 0);
}
.carousel-control.left {
  background-image: -webkit-linear-gradient(left, rgba(0, 0, 0, 0.5) 0%, rgba(0, 0, 0, 0.0001) 100%);
  background-image: -o-linear-gradient(left, rgba(0, 0, 0, 0.5) 0%, rgba(0, 0, 0, 0.0001) 100%);
  background-image: linear-gradient(to right, rgba(0, 0, 0, 0.5) 0%, rgba(0, 0, 0, 0.0001) 100%);
  background-repeat: repeat-x;
  filter: progid:DXImageTransform.Microsoft.gradient(startColorstr='#80000000', endColorstr='#00000000', GradientType=1);
}
.carousel-control.right {
  left: auto;
  right: 0;
  background-image: -webkit-linear-gradient(left, rgba(0, 0, 0, 0.0001) 0%, rgba(0, 0, 0, 0.5) 100%);
  background-image: -o-linear-gradient(left, rgba(0, 0, 0, 0.0001) 0%, rgba(0, 0, 0, 0.5) 100%);
  background-image: linear-gradient(to right, rgba(0, 0, 0, 0.0001) 0%, rgba(0, 0, 0, 0.5) 100%);
  background-repeat: repeat-x;
  filter: progid:DXImageTransform.Microsoft.gradient(startColorstr='#00000000', endColorstr='#80000000', GradientType=1);
}
.carousel-control:hover,
.carousel-control:focus {
  outline: 0;
  color: #fff;
  text-decoration: none;
  opacity: 0.9;
  filter: alpha(opacity=90);
}
.carousel-control .icon-prev,
.carousel-control .icon-next,
.carousel-control .glyphicon-chevron-left,
.carousel-control .glyphicon-chevron-right {
  position: absolute;
  top: 50%;
  margin-top: -10px;
  z-index: 5;
  display: inline-block;
}
.carousel-control .icon-prev,
.carousel-control .glyphicon-chevron-left {
  left: 50%;
  margin-left: -10px;
}
.carousel-control .icon-next,
.carousel-control .glyphicon-chevron-right {
  right: 50%;
  margin-right: -10px;
}
.carousel-control .icon-prev,
.carousel-control .icon-next {
  width: 20px;
  height: 20px;
  line-height: 1;
  font-family: serif;
}
.carousel-control .icon-prev:before {
  content: '\2039';
}
.carousel-control .icon-next:before {
  content: '\203a';
}
.carousel-indicators {
  position: absolute;
  bottom: 10px;
  left: 50%;
  z-index: 15;
  width: 60%;
  margin-left: -30%;
  padding-left: 0;
  list-style: none;
  text-align: center;
}
.carousel-indicators li {
  display: inline-block;
  width: 10px;
  height: 10px;
  margin: 1px;
  text-indent: -999px;
  border: 1px solid #fff;
  border-radius: 10px;
  cursor: pointer;
  background-color: #000 \9;
  background-color: rgba(0, 0, 0, 0);
}
.carousel-indicators .active {
  margin: 0;
  width: 12px;
  height: 12px;
  background-color: #fff;
}
.carousel-caption {
  position: absolute;
  left: 15%;
  right: 15%;
  bottom: 20px;
  z-index: 10;
  padding-top: 20px;
  padding-bottom: 20px;
  color: #fff;
  text-align: center;
  text-shadow: 0 1px 2px rgba(0, 0, 0, 0.6);
}
.carousel-caption .btn {
  text-shadow: none;
}
@media screen and (min-width: 768px) {
  .carousel-control .glyphicon-chevron-left,
  .carousel-control .glyphicon-chevron-right,
  .carousel-control .icon-prev,
  .carousel-control .icon-next {
    width: 30px;
    height: 30px;
    margin-top: -10px;
    font-size: 30px;
  }
  .carousel-control .glyphicon-chevron-left,
  .carousel-control .icon-prev {
    margin-left: -10px;
  }
  .carousel-control .glyphicon-chevron-right,
  .carousel-control .icon-next {
    margin-right: -10px;
  }
  .carousel-caption {
    left: 20%;
    right: 20%;
    padding-bottom: 30px;
  }
  .carousel-indicators {
    bottom: 20px;
  }
}
.clearfix:before,
.clearfix:after,
.dl-horizontal dd:before,
.dl-horizontal dd:after,
.container:before,
.container:after,
.container-fluid:before,
.container-fluid:after,
.row:before,
.row:after,
.form-horizontal .form-group:before,
.form-horizontal .form-group:after,
.btn-toolbar:before,
.btn-toolbar:after,
.btn-group-vertical > .btn-group:before,
.btn-group-vertical > .btn-group:after,
.nav:before,
.nav:after,
.navbar:before,
.navbar:after,
.navbar-header:before,
.navbar-header:after,
.navbar-collapse:before,
.navbar-collapse:after,
.pager:before,
.pager:after,
.panel-body:before,
.panel-body:after,
.modal-header:before,
.modal-header:after,
.modal-footer:before,
.modal-footer:after,
.item_buttons:before,
.item_buttons:after {
  content: " ";
  display: table;
}
.clearfix:after,
.dl-horizontal dd:after,
.container:after,
.container-fluid:after,
.row:after,
.form-horizontal .form-group:after,
.btn-toolbar:after,
.btn-group-vertical > .btn-group:after,
.nav:after,
.navbar:after,
.navbar-header:after,
.navbar-collapse:after,
.pager:after,
.panel-body:after,
.modal-header:after,
.modal-footer:after,
.item_buttons:after {
  clear: both;
}
.center-block {
  display: block;
  margin-left: auto;
  margin-right: auto;
}
.pull-right {
  float: right !important;
}
.pull-left {
  float: left !important;
}
.hide {
  display: none !important;
}
.show {
  display: block !important;
}
.invisible {
  visibility: hidden;
}
.text-hide {
  font: 0/0 a;
  color: transparent;
  text-shadow: none;
  background-color: transparent;
  border: 0;
}
.hidden {
  display: none !important;
}
.affix {
  position: fixed;
}
@-ms-viewport {
  width: device-width;
}
.visible-xs,
.visible-sm,
.visible-md,
.visible-lg {
  display: none !important;
}
.visible-xs-block,
.visible-xs-inline,
.visible-xs-inline-block,
.visible-sm-block,
.visible-sm-inline,
.visible-sm-inline-block,
.visible-md-block,
.visible-md-inline,
.visible-md-inline-block,
.visible-lg-block,
.visible-lg-inline,
.visible-lg-inline-block {
  display: none !important;
}
@media (max-width: 767px) {
  .visible-xs {
    display: block !important;
  }
  table.visible-xs {
    display: table !important;
  }
  tr.visible-xs {
    display: table-row !important;
  }
  th.visible-xs,
  td.visible-xs {
    display: table-cell !important;
  }
}
@media (max-width: 767px) {
  .visible-xs-block {
    display: block !important;
  }
}
@media (max-width: 767px) {
  .visible-xs-inline {
    display: inline !important;
  }
}
@media (max-width: 767px) {
  .visible-xs-inline-block {
    display: inline-block !important;
  }
}
@media (min-width: 768px) and (max-width: 991px) {
  .visible-sm {
    display: block !important;
  }
  table.visible-sm {
    display: table !important;
  }
  tr.visible-sm {
    display: table-row !important;
  }
  th.visible-sm,
  td.visible-sm {
    display: table-cell !important;
  }
}
@media (min-width: 768px) and (max-width: 991px) {
  .visible-sm-block {
    display: block !important;
  }
}
@media (min-width: 768px) and (max-width: 991px) {
  .visible-sm-inline {
    display: inline !important;
  }
}
@media (min-width: 768px) and (max-width: 991px) {
  .visible-sm-inline-block {
    display: inline-block !important;
  }
}
@media (min-width: 992px) and (max-width: 1199px) {
  .visible-md {
    display: block !important;
  }
  table.visible-md {
    display: table !important;
  }
  tr.visible-md {
    display: table-row !important;
  }
  th.visible-md,
  td.visible-md {
    display: table-cell !important;
  }
}
@media (min-width: 992px) and (max-width: 1199px) {
  .visible-md-block {
    display: block !important;
  }
}
@media (min-width: 992px) and (max-width: 1199px) {
  .visible-md-inline {
    display: inline !important;
  }
}
@media (min-width: 992px) and (max-width: 1199px) {
  .visible-md-inline-block {
    display: inline-block !important;
  }
}
@media (min-width: 1200px) {
  .visible-lg {
    display: block !important;
  }
  table.visible-lg {
    display: table !important;
  }
  tr.visible-lg {
    display: table-row !important;
  }
  th.visible-lg,
  td.visible-lg {
    display: table-cell !important;
  }
}
@media (min-width: 1200px) {
  .visible-lg-block {
    display: block !important;
  }
}
@media (min-width: 1200px) {
  .visible-lg-inline {
    display: inline !important;
  }
}
@media (min-width: 1200px) {
  .visible-lg-inline-block {
    display: inline-block !important;
  }
}
@media (max-width: 767px) {
  .hidden-xs {
    display: none !important;
  }
}
@media (min-width: 768px) and (max-width: 991px) {
  .hidden-sm {
    display: none !important;
  }
}
@media (min-width: 992px) and (max-width: 1199px) {
  .hidden-md {
    display: none !important;
  }
}
@media (min-width: 1200px) {
  .hidden-lg {
    display: none !important;
  }
}
.visible-print {
  display: none !important;
}
@media print {
  .visible-print {
    display: block !important;
  }
  table.visible-print {
    display: table !important;
  }
  tr.visible-print {
    display: table-row !important;
  }
  th.visible-print,
  td.visible-print {
    display: table-cell !important;
  }
}
.visible-print-block {
  display: none !important;
}
@media print {
  .visible-print-block {
    display: block !important;
  }
}
.visible-print-inline {
  display: none !important;
}
@media print {
  .visible-print-inline {
    display: inline !important;
  }
}
.visible-print-inline-block {
  display: none !important;
}
@media print {
  .visible-print-inline-block {
    display: inline-block !important;
  }
}
@media print {
  .hidden-print {
    display: none !important;
  }
}
/*!
*
* Font Awesome
*
*/
/*!
 *  Font Awesome 4.7.0 by @davegandy - http://fontawesome.io - @fontawesome
 *  License - http://fontawesome.io/license (Font: SIL OFL 1.1, CSS: MIT License)
 */
/* FONT PATH
 * -------------------------- */
@font-face {
  font-family: 'FontAwesome';
  src: url('../components/font-awesome/fonts/fontawesome-webfont.eot?v=4.7.0');
  src: url('../components/font-awesome/fonts/fontawesome-webfont.eot?#iefix&v=4.7.0') format('embedded-opentype'), url('../components/font-awesome/fonts/fontawesome-webfont.woff2?v=4.7.0') format('woff2'), url('../components/font-awesome/fonts/fontawesome-webfont.woff?v=4.7.0') format('woff'), url('../components/font-awesome/fonts/fontawesome-webfont.ttf?v=4.7.0') format('truetype'), url('../components/font-awesome/fonts/fontawesome-webfont.svg?v=4.7.0#fontawesomeregular') format('svg');
  font-weight: normal;
  font-style: normal;
}
.fa {
  display: inline-block;
  font: normal normal normal 14px/1 FontAwesome;
  font-size: inherit;
  text-rendering: auto;
  -webkit-font-smoothing: antialiased;
  -moz-osx-font-smoothing: grayscale;
}
/* makes the font 33% larger relative to the icon container */
.fa-lg {
  font-size: 1.33333333em;
  line-height: 0.75em;
  vertical-align: -15%;
}
.fa-2x {
  font-size: 2em;
}
.fa-3x {
  font-size: 3em;
}
.fa-4x {
  font-size: 4em;
}
.fa-5x {
  font-size: 5em;
}
.fa-fw {
  width: 1.28571429em;
  text-align: center;
}
.fa-ul {
  padding-left: 0;
  margin-left: 2.14285714em;
  list-style-type: none;
}
.fa-ul > li {
  position: relative;
}
.fa-li {
  position: absolute;
  left: -2.14285714em;
  width: 2.14285714em;
  top: 0.14285714em;
  text-align: center;
}
.fa-li.fa-lg {
  left: -1.85714286em;
}
.fa-border {
  padding: .2em .25em .15em;
  border: solid 0.08em #eee;
  border-radius: .1em;
}
.fa-pull-left {
  float: left;
}
.fa-pull-right {
  float: right;
}
.fa.fa-pull-left {
  margin-right: .3em;
}
.fa.fa-pull-right {
  margin-left: .3em;
}
/* Deprecated as of 4.4.0 */
.pull-right {
  float: right;
}
.pull-left {
  float: left;
}
.fa.pull-left {
  margin-right: .3em;
}
.fa.pull-right {
  margin-left: .3em;
}
.fa-spin {
  -webkit-animation: fa-spin 2s infinite linear;
  animation: fa-spin 2s infinite linear;
}
.fa-pulse {
  -webkit-animation: fa-spin 1s infinite steps(8);
  animation: fa-spin 1s infinite steps(8);
}
@-webkit-keyframes fa-spin {
  0% {
    -webkit-transform: rotate(0deg);
    transform: rotate(0deg);
  }
  100% {
    -webkit-transform: rotate(359deg);
    transform: rotate(359deg);
  }
}
@keyframes fa-spin {
  0% {
    -webkit-transform: rotate(0deg);
    transform: rotate(0deg);
  }
  100% {
    -webkit-transform: rotate(359deg);
    transform: rotate(359deg);
  }
}
.fa-rotate-90 {
  -ms-filter: "progid:DXImageTransform.Microsoft.BasicImage(rotation=1)";
  -webkit-transform: rotate(90deg);
  -ms-transform: rotate(90deg);
  transform: rotate(90deg);
}
.fa-rotate-180 {
  -ms-filter: "progid:DXImageTransform.Microsoft.BasicImage(rotation=2)";
  -webkit-transform: rotate(180deg);
  -ms-transform: rotate(180deg);
  transform: rotate(180deg);
}
.fa-rotate-270 {
  -ms-filter: "progid:DXImageTransform.Microsoft.BasicImage(rotation=3)";
  -webkit-transform: rotate(270deg);
  -ms-transform: rotate(270deg);
  transform: rotate(270deg);
}
.fa-flip-horizontal {
  -ms-filter: "progid:DXImageTransform.Microsoft.BasicImage(rotation=0, mirror=1)";
  -webkit-transform: scale(-1, 1);
  -ms-transform: scale(-1, 1);
  transform: scale(-1, 1);
}
.fa-flip-vertical {
  -ms-filter: "progid:DXImageTransform.Microsoft.BasicImage(rotation=2, mirror=1)";
  -webkit-transform: scale(1, -1);
  -ms-transform: scale(1, -1);
  transform: scale(1, -1);
}
:root .fa-rotate-90,
:root .fa-rotate-180,
:root .fa-rotate-270,
:root .fa-flip-horizontal,
:root .fa-flip-vertical {
  filter: none;
}
.fa-stack {
  position: relative;
  display: inline-block;
  width: 2em;
  height: 2em;
  line-height: 2em;
  vertical-align: middle;
}
.fa-stack-1x,
.fa-stack-2x {
  position: absolute;
  left: 0;
  width: 100%;
  text-align: center;
}
.fa-stack-1x {
  line-height: inherit;
}
.fa-stack-2x {
  font-size: 2em;
}
.fa-inverse {
  color: #fff;
}
/* Font Awesome uses the Unicode Private Use Area (PUA) to ensure screen
   readers do not read off random characters that represent icons */
.fa-glass:before {
  content: "\f000";
}
.fa-music:before {
  content: "\f001";
}
.fa-search:before {
  content: "\f002";
}
.fa-envelope-o:before {
  content: "\f003";
}
.fa-heart:before {
  content: "\f004";
}
.fa-star:before {
  content: "\f005";
}
.fa-star-o:before {
  content: "\f006";
}
.fa-user:before {
  content: "\f007";
}
.fa-film:before {
  content: "\f008";
}
.fa-th-large:before {
  content: "\f009";
}
.fa-th:before {
  content: "\f00a";
}
.fa-th-list:before {
  content: "\f00b";
}
.fa-check:before {
  content: "\f00c";
}
.fa-remove:before,
.fa-close:before,
.fa-times:before {
  content: "\f00d";
}
.fa-search-plus:before {
  content: "\f00e";
}
.fa-search-minus:before {
  content: "\f010";
}
.fa-power-off:before {
  content: "\f011";
}
.fa-signal:before {
  content: "\f012";
}
.fa-gear:before,
.fa-cog:before {
  content: "\f013";
}
.fa-trash-o:before {
  content: "\f014";
}
.fa-home:before {
  content: "\f015";
}
.fa-file-o:before {
  content: "\f016";
}
.fa-clock-o:before {
  content: "\f017";
}
.fa-road:before {
  content: "\f018";
}
.fa-download:before {
  content: "\f019";
}
.fa-arrow-circle-o-down:before {
  content: "\f01a";
}
.fa-arrow-circle-o-up:before {
  content: "\f01b";
}
.fa-inbox:before {
  content: "\f01c";
}
.fa-play-circle-o:before {
  content: "\f01d";
}
.fa-rotate-right:before,
.fa-repeat:before {
  content: "\f01e";
}
.fa-refresh:before {
  content: "\f021";
}
.fa-list-alt:before {
  content: "\f022";
}
.fa-lock:before {
  content: "\f023";
}
.fa-flag:before {
  content: "\f024";
}
.fa-headphones:before {
  content: "\f025";
}
.fa-volume-off:before {
  content: "\f026";
}
.fa-volume-down:before {
  content: "\f027";
}
.fa-volume-up:before {
  content: "\f028";
}
.fa-qrcode:before {
  content: "\f029";
}
.fa-barcode:before {
  content: "\f02a";
}
.fa-tag:before {
  content: "\f02b";
}
.fa-tags:before {
  content: "\f02c";
}
.fa-book:before {
  content: "\f02d";
}
.fa-bookmark:before {
  content: "\f02e";
}
.fa-print:before {
  content: "\f02f";
}
.fa-camera:before {
  content: "\f030";
}
.fa-font:before {
  content: "\f031";
}
.fa-bold:before {
  content: "\f032";
}
.fa-italic:before {
  content: "\f033";
}
.fa-text-height:before {
  content: "\f034";
}
.fa-text-width:before {
  content: "\f035";
}
.fa-align-left:before {
  content: "\f036";
}
.fa-align-center:before {
  content: "\f037";
}
.fa-align-right:before {
  content: "\f038";
}
.fa-align-justify:before {
  content: "\f039";
}
.fa-list:before {
  content: "\f03a";
}
.fa-dedent:before,
.fa-outdent:before {
  content: "\f03b";
}
.fa-indent:before {
  content: "\f03c";
}
.fa-video-camera:before {
  content: "\f03d";
}
.fa-photo:before,
.fa-image:before,
.fa-picture-o:before {
  content: "\f03e";
}
.fa-pencil:before {
  content: "\f040";
}
.fa-map-marker:before {
  content: "\f041";
}
.fa-adjust:before {
  content: "\f042";
}
.fa-tint:before {
  content: "\f043";
}
.fa-edit:before,
.fa-pencil-square-o:before {
  content: "\f044";
}
.fa-share-square-o:before {
  content: "\f045";
}
.fa-check-square-o:before {
  content: "\f046";
}
.fa-arrows:before {
  content: "\f047";
}
.fa-step-backward:before {
  content: "\f048";
}
.fa-fast-backward:before {
  content: "\f049";
}
.fa-backward:before {
  content: "\f04a";
}
.fa-play:before {
  content: "\f04b";
}
.fa-pause:before {
  content: "\f04c";
}
.fa-stop:before {
  content: "\f04d";
}
.fa-forward:before {
  content: "\f04e";
}
.fa-fast-forward:before {
  content: "\f050";
}
.fa-step-forward:before {
  content: "\f051";
}
.fa-eject:before {
  content: "\f052";
}
.fa-chevron-left:before {
  content: "\f053";
}
.fa-chevron-right:before {
  content: "\f054";
}
.fa-plus-circle:before {
  content: "\f055";
}
.fa-minus-circle:before {
  content: "\f056";
}
.fa-times-circle:before {
  content: "\f057";
}
.fa-check-circle:before {
  content: "\f058";
}
.fa-question-circle:before {
  content: "\f059";
}
.fa-info-circle:before {
  content: "\f05a";
}
.fa-crosshairs:before {
  content: "\f05b";
}
.fa-times-circle-o:before {
  content: "\f05c";
}
.fa-check-circle-o:before {
  content: "\f05d";
}
.fa-ban:before {
  content: "\f05e";
}
.fa-arrow-left:before {
  content: "\f060";
}
.fa-arrow-right:before {
  content: "\f061";
}
.fa-arrow-up:before {
  content: "\f062";
}
.fa-arrow-down:before {
  content: "\f063";
}
.fa-mail-forward:before,
.fa-share:before {
  content: "\f064";
}
.fa-expand:before {
  content: "\f065";
}
.fa-compress:before {
  content: "\f066";
}
.fa-plus:before {
  content: "\f067";
}
.fa-minus:before {
  content: "\f068";
}
.fa-asterisk:before {
  content: "\f069";
}
.fa-exclamation-circle:before {
  content: "\f06a";
}
.fa-gift:before {
  content: "\f06b";
}
.fa-leaf:before {
  content: "\f06c";
}
.fa-fire:before {
  content: "\f06d";
}
.fa-eye:before {
  content: "\f06e";
}
.fa-eye-slash:before {
  content: "\f070";
}
.fa-warning:before,
.fa-exclamation-triangle:before {
  content: "\f071";
}
.fa-plane:before {
  content: "\f072";
}
.fa-calendar:before {
  content: "\f073";
}
.fa-random:before {
  content: "\f074";
}
.fa-comment:before {
  content: "\f075";
}
.fa-magnet:before {
  content: "\f076";
}
.fa-chevron-up:before {
  content: "\f077";
}
.fa-chevron-down:before {
  content: "\f078";
}
.fa-retweet:before {
  content: "\f079";
}
.fa-shopping-cart:before {
  content: "\f07a";
}
.fa-folder:before {
  content: "\f07b";
}
.fa-folder-open:before {
  content: "\f07c";
}
.fa-arrows-v:before {
  content: "\f07d";
}
.fa-arrows-h:before {
  content: "\f07e";
}
.fa-bar-chart-o:before,
.fa-bar-chart:before {
  content: "\f080";
}
.fa-twitter-square:before {
  content: "\f081";
}
.fa-facebook-square:before {
  content: "\f082";
}
.fa-camera-retro:before {
  content: "\f083";
}
.fa-key:before {
  content: "\f084";
}
.fa-gears:before,
.fa-cogs:before {
  content: "\f085";
}
.fa-comments:before {
  content: "\f086";
}
.fa-thumbs-o-up:before {
  content: "\f087";
}
.fa-thumbs-o-down:before {
  content: "\f088";
}
.fa-star-half:before {
  content: "\f089";
}
.fa-heart-o:before {
  content: "\f08a";
}
.fa-sign-out:before {
  content: "\f08b";
}
.fa-linkedin-square:before {
  content: "\f08c";
}
.fa-thumb-tack:before {
  content: "\f08d";
}
.fa-external-link:before {
  content: "\f08e";
}
.fa-sign-in:before {
  content: "\f090";
}
.fa-trophy:before {
  content: "\f091";
}
.fa-github-square:before {
  content: "\f092";
}
.fa-upload:before {
  content: "\f093";
}
.fa-lemon-o:before {
  content: "\f094";
}
.fa-phone:before {
  content: "\f095";
}
.fa-square-o:before {
  content: "\f096";
}
.fa-bookmark-o:before {
  content: "\f097";
}
.fa-phone-square:before {
  content: "\f098";
}
.fa-twitter:before {
  content: "\f099";
}
.fa-facebook-f:before,
.fa-facebook:before {
  content: "\f09a";
}
.fa-github:before {
  content: "\f09b";
}
.fa-unlock:before {
  content: "\f09c";
}
.fa-credit-card:before {
  content: "\f09d";
}
.fa-feed:before,
.fa-rss:before {
  content: "\f09e";
}
.fa-hdd-o:before {
  content: "\f0a0";
}
.fa-bullhorn:before {
  content: "\f0a1";
}
.fa-bell:before {
  content: "\f0f3";
}
.fa-certificate:before {
  content: "\f0a3";
}
.fa-hand-o-right:before {
  content: "\f0a4";
}
.fa-hand-o-left:before {
  content: "\f0a5";
}
.fa-hand-o-up:before {
  content: "\f0a6";
}
.fa-hand-o-down:before {
  content: "\f0a7";
}
.fa-arrow-circle-left:before {
  content: "\f0a8";
}
.fa-arrow-circle-right:before {
  content: "\f0a9";
}
.fa-arrow-circle-up:before {
  content: "\f0aa";
}
.fa-arrow-circle-down:before {
  content: "\f0ab";
}
.fa-globe:before {
  content: "\f0ac";
}
.fa-wrench:before {
  content: "\f0ad";
}
.fa-tasks:before {
  content: "\f0ae";
}
.fa-filter:before {
  content: "\f0b0";
}
.fa-briefcase:before {
  content: "\f0b1";
}
.fa-arrows-alt:before {
  content: "\f0b2";
}
.fa-group:before,
.fa-users:before {
  content: "\f0c0";
}
.fa-chain:before,
.fa-link:before {
  content: "\f0c1";
}
.fa-cloud:before {
  content: "\f0c2";
}
.fa-flask:before {
  content: "\f0c3";
}
.fa-cut:before,
.fa-scissors:before {
  content: "\f0c4";
}
.fa-copy:before,
.fa-files-o:before {
  content: "\f0c5";
}
.fa-paperclip:before {
  content: "\f0c6";
}
.fa-save:before,
.fa-floppy-o:before {
  content: "\f0c7";
}
.fa-square:before {
  content: "\f0c8";
}
.fa-navicon:before,
.fa-reorder:before,
.fa-bars:before {
  content: "\f0c9";
}
.fa-list-ul:before {
  content: "\f0ca";
}
.fa-list-ol:before {
  content: "\f0cb";
}
.fa-strikethrough:before {
  content: "\f0cc";
}
.fa-underline:before {
  content: "\f0cd";
}
.fa-table:before {
  content: "\f0ce";
}
.fa-magic:before {
  content: "\f0d0";
}
.fa-truck:before {
  content: "\f0d1";
}
.fa-pinterest:before {
  content: "\f0d2";
}
.fa-pinterest-square:before {
  content: "\f0d3";
}
.fa-google-plus-square:before {
  content: "\f0d4";
}
.fa-google-plus:before {
  content: "\f0d5";
}
.fa-money:before {
  content: "\f0d6";
}
.fa-caret-down:before {
  content: "\f0d7";
}
.fa-caret-up:before {
  content: "\f0d8";
}
.fa-caret-left:before {
  content: "\f0d9";
}
.fa-caret-right:before {
  content: "\f0da";
}
.fa-columns:before {
  content: "\f0db";
}
.fa-unsorted:before,
.fa-sort:before {
  content: "\f0dc";
}
.fa-sort-down:before,
.fa-sort-desc:before {
  content: "\f0dd";
}
.fa-sort-up:before,
.fa-sort-asc:before {
  content: "\f0de";
}
.fa-envelope:before {
  content: "\f0e0";
}
.fa-linkedin:before {
  content: "\f0e1";
}
.fa-rotate-left:before,
.fa-undo:before {
  content: "\f0e2";
}
.fa-legal:before,
.fa-gavel:before {
  content: "\f0e3";
}
.fa-dashboard:before,
.fa-tachometer:before {
  content: "\f0e4";
}
.fa-comment-o:before {
  content: "\f0e5";
}
.fa-comments-o:before {
  content: "\f0e6";
}
.fa-flash:before,
.fa-bolt:before {
  content: "\f0e7";
}
.fa-sitemap:before {
  content: "\f0e8";
}
.fa-umbrella:before {
  content: "\f0e9";
}
.fa-paste:before,
.fa-clipboard:before {
  content: "\f0ea";
}
.fa-lightbulb-o:before {
  content: "\f0eb";
}
.fa-exchange:before {
  content: "\f0ec";
}
.fa-cloud-download:before {
  content: "\f0ed";
}
.fa-cloud-upload:before {
  content: "\f0ee";
}
.fa-user-md:before {
  content: "\f0f0";
}
.fa-stethoscope:before {
  content: "\f0f1";
}
.fa-suitcase:before {
  content: "\f0f2";
}
.fa-bell-o:before {
  content: "\f0a2";
}
.fa-coffee:before {
  content: "\f0f4";
}
.fa-cutlery:before {
  content: "\f0f5";
}
.fa-file-text-o:before {
  content: "\f0f6";
}
.fa-building-o:before {
  content: "\f0f7";
}
.fa-hospital-o:before {
  content: "\f0f8";
}
.fa-ambulance:before {
  content: "\f0f9";
}
.fa-medkit:before {
  content: "\f0fa";
}
.fa-fighter-jet:before {
  content: "\f0fb";
}
.fa-beer:before {
  content: "\f0fc";
}
.fa-h-square:before {
  content: "\f0fd";
}
.fa-plus-square:before {
  content: "\f0fe";
}
.fa-angle-double-left:before {
  content: "\f100";
}
.fa-angle-double-right:before {
  content: "\f101";
}
.fa-angle-double-up:before {
  content: "\f102";
}
.fa-angle-double-down:before {
  content: "\f103";
}
.fa-angle-left:before {
  content: "\f104";
}
.fa-angle-right:before {
  content: "\f105";
}
.fa-angle-up:before {
  content: "\f106";
}
.fa-angle-down:before {
  content: "\f107";
}
.fa-desktop:before {
  content: "\f108";
}
.fa-laptop:before {
  content: "\f109";
}
.fa-tablet:before {
  content: "\f10a";
}
.fa-mobile-phone:before,
.fa-mobile:before {
  content: "\f10b";
}
.fa-circle-o:before {
  content: "\f10c";
}
.fa-quote-left:before {
  content: "\f10d";
}
.fa-quote-right:before {
  content: "\f10e";
}
.fa-spinner:before {
  content: "\f110";
}
.fa-circle:before {
  content: "\f111";
}
.fa-mail-reply:before,
.fa-reply:before {
  content: "\f112";
}
.fa-github-alt:before {
  content: "\f113";
}
.fa-folder-o:before {
  content: "\f114";
}
.fa-folder-open-o:before {
  content: "\f115";
}
.fa-smile-o:before {
  content: "\f118";
}
.fa-frown-o:before {
  content: "\f119";
}
.fa-meh-o:before {
  content: "\f11a";
}
.fa-gamepad:before {
  content: "\f11b";
}
.fa-keyboard-o:before {
  content: "\f11c";
}
.fa-flag-o:before {
  content: "\f11d";
}
.fa-flag-checkered:before {
  content: "\f11e";
}
.fa-terminal:before {
  content: "\f120";
}
.fa-code:before {
  content: "\f121";
}
.fa-mail-reply-all:before,
.fa-reply-all:before {
  content: "\f122";
}
.fa-star-half-empty:before,
.fa-star-half-full:before,
.fa-star-half-o:before {
  content: "\f123";
}
.fa-location-arrow:before {
  content: "\f124";
}
.fa-crop:before {
  content: "\f125";
}
.fa-code-fork:before {
  content: "\f126";
}
.fa-unlink:before,
.fa-chain-broken:before {
  content: "\f127";
}
.fa-question:before {
  content: "\f128";
}
.fa-info:before {
  content: "\f129";
}
.fa-exclamation:before {
  content: "\f12a";
}
.fa-superscript:before {
  content: "\f12b";
}
.fa-subscript:before {
  content: "\f12c";
}
.fa-eraser:before {
  content: "\f12d";
}
.fa-puzzle-piece:before {
  content: "\f12e";
}
.fa-microphone:before {
  content: "\f130";
}
.fa-microphone-slash:before {
  content: "\f131";
}
.fa-shield:before {
  content: "\f132";
}
.fa-calendar-o:before {
  content: "\f133";
}
.fa-fire-extinguisher:before {
  content: "\f134";
}
.fa-rocket:before {
  content: "\f135";
}
.fa-maxcdn:before {
  content: "\f136";
}
.fa-chevron-circle-left:before {
  content: "\f137";
}
.fa-chevron-circle-right:before {
  content: "\f138";
}
.fa-chevron-circle-up:before {
  content: "\f139";
}
.fa-chevron-circle-down:before {
  content: "\f13a";
}
.fa-html5:before {
  content: "\f13b";
}
.fa-css3:before {
  content: "\f13c";
}
.fa-anchor:before {
  content: "\f13d";
}
.fa-unlock-alt:before {
  content: "\f13e";
}
.fa-bullseye:before {
  content: "\f140";
}
.fa-ellipsis-h:before {
  content: "\f141";
}
.fa-ellipsis-v:before {
  content: "\f142";
}
.fa-rss-square:before {
  content: "\f143";
}
.fa-play-circle:before {
  content: "\f144";
}
.fa-ticket:before {
  content: "\f145";
}
.fa-minus-square:before {
  content: "\f146";
}
.fa-minus-square-o:before {
  content: "\f147";
}
.fa-level-up:before {
  content: "\f148";
}
.fa-level-down:before {
  content: "\f149";
}
.fa-check-square:before {
  content: "\f14a";
}
.fa-pencil-square:before {
  content: "\f14b";
}
.fa-external-link-square:before {
  content: "\f14c";
}
.fa-share-square:before {
  content: "\f14d";
}
.fa-compass:before {
  content: "\f14e";
}
.fa-toggle-down:before,
.fa-caret-square-o-down:before {
  content: "\f150";
}
.fa-toggle-up:before,
.fa-caret-square-o-up:before {
  content: "\f151";
}
.fa-toggle-right:before,
.fa-caret-square-o-right:before {
  content: "\f152";
}
.fa-euro:before,
.fa-eur:before {
  content: "\f153";
}
.fa-gbp:before {
  content: "\f154";
}
.fa-dollar:before,
.fa-usd:before {
  content: "\f155";
}
.fa-rupee:before,
.fa-inr:before {
  content: "\f156";
}
.fa-cny:before,
.fa-rmb:before,
.fa-yen:before,
.fa-jpy:before {
  content: "\f157";
}
.fa-ruble:before,
.fa-rouble:before,
.fa-rub:before {
  content: "\f158";
}
.fa-won:before,
.fa-krw:before {
  content: "\f159";
}
.fa-bitcoin:before,
.fa-btc:before {
  content: "\f15a";
}
.fa-file:before {
  content: "\f15b";
}
.fa-file-text:before {
  content: "\f15c";
}
.fa-sort-alpha-asc:before {
  content: "\f15d";
}
.fa-sort-alpha-desc:before {
  content: "\f15e";
}
.fa-sort-amount-asc:before {
  content: "\f160";
}
.fa-sort-amount-desc:before {
  content: "\f161";
}
.fa-sort-numeric-asc:before {
  content: "\f162";
}
.fa-sort-numeric-desc:before {
  content: "\f163";
}
.fa-thumbs-up:before {
  content: "\f164";
}
.fa-thumbs-down:before {
  content: "\f165";
}
.fa-youtube-square:before {
  content: "\f166";
}
.fa-youtube:before {
  content: "\f167";
}
.fa-xing:before {
  content: "\f168";
}
.fa-xing-square:before {
  content: "\f169";
}
.fa-youtube-play:before {
  content: "\f16a";
}
.fa-dropbox:before {
  content: "\f16b";
}
.fa-stack-overflow:before {
  content: "\f16c";
}
.fa-instagram:before {
  content: "\f16d";
}
.fa-flickr:before {
  content: "\f16e";
}
.fa-adn:before {
  content: "\f170";
}
.fa-bitbucket:before {
  content: "\f171";
}
.fa-bitbucket-square:before {
  content: "\f172";
}
.fa-tumblr:before {
  content: "\f173";
}
.fa-tumblr-square:before {
  content: "\f174";
}
.fa-long-arrow-down:before {
  content: "\f175";
}
.fa-long-arrow-up:before {
  content: "\f176";
}
.fa-long-arrow-left:before {
  content: "\f177";
}
.fa-long-arrow-right:before {
  content: "\f178";
}
.fa-apple:before {
  content: "\f179";
}
.fa-windows:before {
  content: "\f17a";
}
.fa-android:before {
  content: "\f17b";
}
.fa-linux:before {
  content: "\f17c";
}
.fa-dribbble:before {
  content: "\f17d";
}
.fa-skype:before {
  content: "\f17e";
}
.fa-foursquare:before {
  content: "\f180";
}
.fa-trello:before {
  content: "\f181";
}
.fa-female:before {
  content: "\f182";
}
.fa-male:before {
  content: "\f183";
}
.fa-gittip:before,
.fa-gratipay:before {
  content: "\f184";
}
.fa-sun-o:before {
  content: "\f185";
}
.fa-moon-o:before {
  content: "\f186";
}
.fa-archive:before {
  content: "\f187";
}
.fa-bug:before {
  content: "\f188";
}
.fa-vk:before {
  content: "\f189";
}
.fa-weibo:before {
  content: "\f18a";
}
.fa-renren:before {
  content: "\f18b";
}
.fa-pagelines:before {
  content: "\f18c";
}
.fa-stack-exchange:before {
  content: "\f18d";
}
.fa-arrow-circle-o-right:before {
  content: "\f18e";
}
.fa-arrow-circle-o-left:before {
  content: "\f190";
}
.fa-toggle-left:before,
.fa-caret-square-o-left:before {
  content: "\f191";
}
.fa-dot-circle-o:before {
  content: "\f192";
}
.fa-wheelchair:before {
  content: "\f193";
}
.fa-vimeo-square:before {
  content: "\f194";
}
.fa-turkish-lira:before,
.fa-try:before {
  content: "\f195";
}
.fa-plus-square-o:before {
  content: "\f196";
}
.fa-space-shuttle:before {
  content: "\f197";
}
.fa-slack:before {
  content: "\f198";
}
.fa-envelope-square:before {
  content: "\f199";
}
.fa-wordpress:before {
  content: "\f19a";
}
.fa-openid:before {
  content: "\f19b";
}
.fa-institution:before,
.fa-bank:before,
.fa-university:before {
  content: "\f19c";
}
.fa-mortar-board:before,
.fa-graduation-cap:before {
  content: "\f19d";
}
.fa-yahoo:before {
  content: "\f19e";
}
.fa-google:before {
  content: "\f1a0";
}
.fa-reddit:before {
  content: "\f1a1";
}
.fa-reddit-square:before {
  content: "\f1a2";
}
.fa-stumbleupon-circle:before {
  content: "\f1a3";
}
.fa-stumbleupon:before {
  content: "\f1a4";
}
.fa-delicious:before {
  content: "\f1a5";
}
.fa-digg:before {
  content: "\f1a6";
}
.fa-pied-piper-pp:before {
  content: "\f1a7";
}
.fa-pied-piper-alt:before {
  content: "\f1a8";
}
.fa-drupal:before {
  content: "\f1a9";
}
.fa-joomla:before {
  content: "\f1aa";
}
.fa-language:before {
  content: "\f1ab";
}
.fa-fax:before {
  content: "\f1ac";
}
.fa-building:before {
  content: "\f1ad";
}
.fa-child:before {
  content: "\f1ae";
}
.fa-paw:before {
  content: "\f1b0";
}
.fa-spoon:before {
  content: "\f1b1";
}
.fa-cube:before {
  content: "\f1b2";
}
.fa-cubes:before {
  content: "\f1b3";
}
.fa-behance:before {
  content: "\f1b4";
}
.fa-behance-square:before {
  content: "\f1b5";
}
.fa-steam:before {
  content: "\f1b6";
}
.fa-steam-square:before {
  content: "\f1b7";
}
.fa-recycle:before {
  content: "\f1b8";
}
.fa-automobile:before,
.fa-car:before {
  content: "\f1b9";
}
.fa-cab:before,
.fa-taxi:before {
  content: "\f1ba";
}
.fa-tree:before {
  content: "\f1bb";
}
.fa-spotify:before {
  content: "\f1bc";
}
.fa-deviantart:before {
  content: "\f1bd";
}
.fa-soundcloud:before {
  content: "\f1be";
}
.fa-database:before {
  content: "\f1c0";
}
.fa-file-pdf-o:before {
  content: "\f1c1";
}
.fa-file-word-o:before {
  content: "\f1c2";
}
.fa-file-excel-o:before {
  content: "\f1c3";
}
.fa-file-powerpoint-o:before {
  content: "\f1c4";
}
.fa-file-photo-o:before,
.fa-file-picture-o:before,
.fa-file-image-o:before {
  content: "\f1c5";
}
.fa-file-zip-o:before,
.fa-file-archive-o:before {
  content: "\f1c6";
}
.fa-file-sound-o:before,
.fa-file-audio-o:before {
  content: "\f1c7";
}
.fa-file-movie-o:before,
.fa-file-video-o:before {
  content: "\f1c8";
}
.fa-file-code-o:before {
  content: "\f1c9";
}
.fa-vine:before {
  content: "\f1ca";
}
.fa-codepen:before {
  content: "\f1cb";
}
.fa-jsfiddle:before {
  content: "\f1cc";
}
.fa-life-bouy:before,
.fa-life-buoy:before,
.fa-life-saver:before,
.fa-support:before,
.fa-life-ring:before {
  content: "\f1cd";
}
.fa-circle-o-notch:before {
  content: "\f1ce";
}
.fa-ra:before,
.fa-resistance:before,
.fa-rebel:before {
  content: "\f1d0";
}
.fa-ge:before,
.fa-empire:before {
  content: "\f1d1";
}
.fa-git-square:before {
  content: "\f1d2";
}
.fa-git:before {
  content: "\f1d3";
}
.fa-y-combinator-square:before,
.fa-yc-square:before,
.fa-hacker-news:before {
  content: "\f1d4";
}
.fa-tencent-weibo:before {
  content: "\f1d5";
}
.fa-qq:before {
  content: "\f1d6";
}
.fa-wechat:before,
.fa-weixin:before {
  content: "\f1d7";
}
.fa-send:before,
.fa-paper-plane:before {
  content: "\f1d8";
}
.fa-send-o:before,
.fa-paper-plane-o:before {
  content: "\f1d9";
}
.fa-history:before {
  content: "\f1da";
}
.fa-circle-thin:before {
  content: "\f1db";
}
.fa-header:before {
  content: "\f1dc";
}
.fa-paragraph:before {
  content: "\f1dd";
}
.fa-sliders:before {
  content: "\f1de";
}
.fa-share-alt:before {
  content: "\f1e0";
}
.fa-share-alt-square:before {
  content: "\f1e1";
}
.fa-bomb:before {
  content: "\f1e2";
}
.fa-soccer-ball-o:before,
.fa-futbol-o:before {
  content: "\f1e3";
}
.fa-tty:before {
  content: "\f1e4";
}
.fa-binoculars:before {
  content: "\f1e5";
}
.fa-plug:before {
  content: "\f1e6";
}
.fa-slideshare:before {
  content: "\f1e7";
}
.fa-twitch:before {
  content: "\f1e8";
}
.fa-yelp:before {
  content: "\f1e9";
}
.fa-newspaper-o:before {
  content: "\f1ea";
}
.fa-wifi:before {
  content: "\f1eb";
}
.fa-calculator:before {
  content: "\f1ec";
}
.fa-paypal:before {
  content: "\f1ed";
}
.fa-google-wallet:before {
  content: "\f1ee";
}
.fa-cc-visa:before {
  content: "\f1f0";
}
.fa-cc-mastercard:before {
  content: "\f1f1";
}
.fa-cc-discover:before {
  content: "\f1f2";
}
.fa-cc-amex:before {
  content: "\f1f3";
}
.fa-cc-paypal:before {
  content: "\f1f4";
}
.fa-cc-stripe:before {
  content: "\f1f5";
}
.fa-bell-slash:before {
  content: "\f1f6";
}
.fa-bell-slash-o:before {
  content: "\f1f7";
}
.fa-trash:before {
  content: "\f1f8";
}
.fa-copyright:before {
  content: "\f1f9";
}
.fa-at:before {
  content: "\f1fa";
}
.fa-eyedropper:before {
  content: "\f1fb";
}
.fa-paint-brush:before {
  content: "\f1fc";
}
.fa-birthday-cake:before {
  content: "\f1fd";
}
.fa-area-chart:before {
  content: "\f1fe";
}
.fa-pie-chart:before {
  content: "\f200";
}
.fa-line-chart:before {
  content: "\f201";
}
.fa-lastfm:before {
  content: "\f202";
}
.fa-lastfm-square:before {
  content: "\f203";
}
.fa-toggle-off:before {
  content: "\f204";
}
.fa-toggle-on:before {
  content: "\f205";
}
.fa-bicycle:before {
  content: "\f206";
}
.fa-bus:before {
  content: "\f207";
}
.fa-ioxhost:before {
  content: "\f208";
}
.fa-angellist:before {
  content: "\f209";
}
.fa-cc:before {
  content: "\f20a";
}
.fa-shekel:before,
.fa-sheqel:before,
.fa-ils:before {
  content: "\f20b";
}
.fa-meanpath:before {
  content: "\f20c";
}
.fa-buysellads:before {
  content: "\f20d";
}
.fa-connectdevelop:before {
  content: "\f20e";
}
.fa-dashcube:before {
  content: "\f210";
}
.fa-forumbee:before {
  content: "\f211";
}
.fa-leanpub:before {
  content: "\f212";
}
.fa-sellsy:before {
  content: "\f213";
}
.fa-shirtsinbulk:before {
  content: "\f214";
}
.fa-simplybuilt:before {
  content: "\f215";
}
.fa-skyatlas:before {
  content: "\f216";
}
.fa-cart-plus:before {
  content: "\f217";
}
.fa-cart-arrow-down:before {
  content: "\f218";
}
.fa-diamond:before {
  content: "\f219";
}
.fa-ship:before {
  content: "\f21a";
}
.fa-user-secret:before {
  content: "\f21b";
}
.fa-motorcycle:before {
  content: "\f21c";
}
.fa-street-view:before {
  content: "\f21d";
}
.fa-heartbeat:before {
  content: "\f21e";
}
.fa-venus:before {
  content: "\f221";
}
.fa-mars:before {
  content: "\f222";
}
.fa-mercury:before {
  content: "\f223";
}
.fa-intersex:before,
.fa-transgender:before {
  content: "\f224";
}
.fa-transgender-alt:before {
  content: "\f225";
}
.fa-venus-double:before {
  content: "\f226";
}
.fa-mars-double:before {
  content: "\f227";
}
.fa-venus-mars:before {
  content: "\f228";
}
.fa-mars-stroke:before {
  content: "\f229";
}
.fa-mars-stroke-v:before {
  content: "\f22a";
}
.fa-mars-stroke-h:before {
  content: "\f22b";
}
.fa-neuter:before {
  content: "\f22c";
}
.fa-genderless:before {
  content: "\f22d";
}
.fa-facebook-official:before {
  content: "\f230";
}
.fa-pinterest-p:before {
  content: "\f231";
}
.fa-whatsapp:before {
  content: "\f232";
}
.fa-server:before {
  content: "\f233";
}
.fa-user-plus:before {
  content: "\f234";
}
.fa-user-times:before {
  content: "\f235";
}
.fa-hotel:before,
.fa-bed:before {
  content: "\f236";
}
.fa-viacoin:before {
  content: "\f237";
}
.fa-train:before {
  content: "\f238";
}
.fa-subway:before {
  content: "\f239";
}
.fa-medium:before {
  content: "\f23a";
}
.fa-yc:before,
.fa-y-combinator:before {
  content: "\f23b";
}
.fa-optin-monster:before {
  content: "\f23c";
}
.fa-opencart:before {
  content: "\f23d";
}
.fa-expeditedssl:before {
  content: "\f23e";
}
.fa-battery-4:before,
.fa-battery:before,
.fa-battery-full:before {
  content: "\f240";
}
.fa-battery-3:before,
.fa-battery-three-quarters:before {
  content: "\f241";
}
.fa-battery-2:before,
.fa-battery-half:before {
  content: "\f242";
}
.fa-battery-1:before,
.fa-battery-quarter:before {
  content: "\f243";
}
.fa-battery-0:before,
.fa-battery-empty:before {
  content: "\f244";
}
.fa-mouse-pointer:before {
  content: "\f245";
}
.fa-i-cursor:before {
  content: "\f246";
}
.fa-object-group:before {
  content: "\f247";
}
.fa-object-ungroup:before {
  content: "\f248";
}
.fa-sticky-note:before {
  content: "\f249";
}
.fa-sticky-note-o:before {
  content: "\f24a";
}
.fa-cc-jcb:before {
  content: "\f24b";
}
.fa-cc-diners-club:before {
  content: "\f24c";
}
.fa-clone:before {
  content: "\f24d";
}
.fa-balance-scale:before {
  content: "\f24e";
}
.fa-hourglass-o:before {
  content: "\f250";
}
.fa-hourglass-1:before,
.fa-hourglass-start:before {
  content: "\f251";
}
.fa-hourglass-2:before,
.fa-hourglass-half:before {
  content: "\f252";
}
.fa-hourglass-3:before,
.fa-hourglass-end:before {
  content: "\f253";
}
.fa-hourglass:before {
  content: "\f254";
}
.fa-hand-grab-o:before,
.fa-hand-rock-o:before {
  content: "\f255";
}
.fa-hand-stop-o:before,
.fa-hand-paper-o:before {
  content: "\f256";
}
.fa-hand-scissors-o:before {
  content: "\f257";
}
.fa-hand-lizard-o:before {
  content: "\f258";
}
.fa-hand-spock-o:before {
  content: "\f259";
}
.fa-hand-pointer-o:before {
  content: "\f25a";
}
.fa-hand-peace-o:before {
  content: "\f25b";
}
.fa-trademark:before {
  content: "\f25c";
}
.fa-registered:before {
  content: "\f25d";
}
.fa-creative-commons:before {
  content: "\f25e";
}
.fa-gg:before {
  content: "\f260";
}
.fa-gg-circle:before {
  content: "\f261";
}
.fa-tripadvisor:before {
  content: "\f262";
}
.fa-odnoklassniki:before {
  content: "\f263";
}
.fa-odnoklassniki-square:before {
  content: "\f264";
}
.fa-get-pocket:before {
  content: "\f265";
}
.fa-wikipedia-w:before {
  content: "\f266";
}
.fa-safari:before {
  content: "\f267";
}
.fa-chrome:before {
  content: "\f268";
}
.fa-firefox:before {
  content: "\f269";
}
.fa-opera:before {
  content: "\f26a";
}
.fa-internet-explorer:before {
  content: "\f26b";
}
.fa-tv:before,
.fa-television:before {
  content: "\f26c";
}
.fa-contao:before {
  content: "\f26d";
}
.fa-500px:before {
  content: "\f26e";
}
.fa-amazon:before {
  content: "\f270";
}
.fa-calendar-plus-o:before {
  content: "\f271";
}
.fa-calendar-minus-o:before {
  content: "\f272";
}
.fa-calendar-times-o:before {
  content: "\f273";
}
.fa-calendar-check-o:before {
  content: "\f274";
}
.fa-industry:before {
  content: "\f275";
}
.fa-map-pin:before {
  content: "\f276";
}
.fa-map-signs:before {
  content: "\f277";
}
.fa-map-o:before {
  content: "\f278";
}
.fa-map:before {
  content: "\f279";
}
.fa-commenting:before {
  content: "\f27a";
}
.fa-commenting-o:before {
  content: "\f27b";
}
.fa-houzz:before {
  content: "\f27c";
}
.fa-vimeo:before {
  content: "\f27d";
}
.fa-black-tie:before {
  content: "\f27e";
}
.fa-fonticons:before {
  content: "\f280";
}
.fa-reddit-alien:before {
  content: "\f281";
}
.fa-edge:before {
  content: "\f282";
}
.fa-credit-card-alt:before {
  content: "\f283";
}
.fa-codiepie:before {
  content: "\f284";
}
.fa-modx:before {
  content: "\f285";
}
.fa-fort-awesome:before {
  content: "\f286";
}
.fa-usb:before {
  content: "\f287";
}
.fa-product-hunt:before {
  content: "\f288";
}
.fa-mixcloud:before {
  content: "\f289";
}
.fa-scribd:before {
  content: "\f28a";
}
.fa-pause-circle:before {
  content: "\f28b";
}
.fa-pause-circle-o:before {
  content: "\f28c";
}
.fa-stop-circle:before {
  content: "\f28d";
}
.fa-stop-circle-o:before {
  content: "\f28e";
}
.fa-shopping-bag:before {
  content: "\f290";
}
.fa-shopping-basket:before {
  content: "\f291";
}
.fa-hashtag:before {
  content: "\f292";
}
.fa-bluetooth:before {
  content: "\f293";
}
.fa-bluetooth-b:before {
  content: "\f294";
}
.fa-percent:before {
  content: "\f295";
}
.fa-gitlab:before {
  content: "\f296";
}
.fa-wpbeginner:before {
  content: "\f297";
}
.fa-wpforms:before {
  content: "\f298";
}
.fa-envira:before {
  content: "\f299";
}
.fa-universal-access:before {
  content: "\f29a";
}
.fa-wheelchair-alt:before {
  content: "\f29b";
}
.fa-question-circle-o:before {
  content: "\f29c";
}
.fa-blind:before {
  content: "\f29d";
}
.fa-audio-description:before {
  content: "\f29e";
}
.fa-volume-control-phone:before {
  content: "\f2a0";
}
.fa-braille:before {
  content: "\f2a1";
}
.fa-assistive-listening-systems:before {
  content: "\f2a2";
}
.fa-asl-interpreting:before,
.fa-american-sign-language-interpreting:before {
  content: "\f2a3";
}
.fa-deafness:before,
.fa-hard-of-hearing:before,
.fa-deaf:before {
  content: "\f2a4";
}
.fa-glide:before {
  content: "\f2a5";
}
.fa-glide-g:before {
  content: "\f2a6";
}
.fa-signing:before,
.fa-sign-language:before {
  content: "\f2a7";
}
.fa-low-vision:before {
  content: "\f2a8";
}
.fa-viadeo:before {
  content: "\f2a9";
}
.fa-viadeo-square:before {
  content: "\f2aa";
}
.fa-snapchat:before {
  content: "\f2ab";
}
.fa-snapchat-ghost:before {
  content: "\f2ac";
}
.fa-snapchat-square:before {
  content: "\f2ad";
}
.fa-pied-piper:before {
  content: "\f2ae";
}
.fa-first-order:before {
  content: "\f2b0";
}
.fa-yoast:before {
  content: "\f2b1";
}
.fa-themeisle:before {
  content: "\f2b2";
}
.fa-google-plus-circle:before,
.fa-google-plus-official:before {
  content: "\f2b3";
}
.fa-fa:before,
.fa-font-awesome:before {
  content: "\f2b4";
}
.fa-handshake-o:before {
  content: "\f2b5";
}
.fa-envelope-open:before {
  content: "\f2b6";
}
.fa-envelope-open-o:before {
  content: "\f2b7";
}
.fa-linode:before {
  content: "\f2b8";
}
.fa-address-book:before {
  content: "\f2b9";
}
.fa-address-book-o:before {
  content: "\f2ba";
}
.fa-vcard:before,
.fa-address-card:before {
  content: "\f2bb";
}
.fa-vcard-o:before,
.fa-address-card-o:before {
  content: "\f2bc";
}
.fa-user-circle:before {
  content: "\f2bd";
}
.fa-user-circle-o:before {
  content: "\f2be";
}
.fa-user-o:before {
  content: "\f2c0";
}
.fa-id-badge:before {
  content: "\f2c1";
}
.fa-drivers-license:before,
.fa-id-card:before {
  content: "\f2c2";
}
.fa-drivers-license-o:before,
.fa-id-card-o:before {
  content: "\f2c3";
}
.fa-quora:before {
  content: "\f2c4";
}
.fa-free-code-camp:before {
  content: "\f2c5";
}
.fa-telegram:before {
  content: "\f2c6";
}
.fa-thermometer-4:before,
.fa-thermometer:before,
.fa-thermometer-full:before {
  content: "\f2c7";
}
.fa-thermometer-3:before,
.fa-thermometer-three-quarters:before {
  content: "\f2c8";
}
.fa-thermometer-2:before,
.fa-thermometer-half:before {
  content: "\f2c9";
}
.fa-thermometer-1:before,
.fa-thermometer-quarter:before {
  content: "\f2ca";
}
.fa-thermometer-0:before,
.fa-thermometer-empty:before {
  content: "\f2cb";
}
.fa-shower:before {
  content: "\f2cc";
}
.fa-bathtub:before,
.fa-s15:before,
.fa-bath:before {
  content: "\f2cd";
}
.fa-podcast:before {
  content: "\f2ce";
}
.fa-window-maximize:before {
  content: "\f2d0";
}
.fa-window-minimize:before {
  content: "\f2d1";
}
.fa-window-restore:before {
  content: "\f2d2";
}
.fa-times-rectangle:before,
.fa-window-close:before {
  content: "\f2d3";
}
.fa-times-rectangle-o:before,
.fa-window-close-o:before {
  content: "\f2d4";
}
.fa-bandcamp:before {
  content: "\f2d5";
}
.fa-grav:before {
  content: "\f2d6";
}
.fa-etsy:before {
  content: "\f2d7";
}
.fa-imdb:before {
  content: "\f2d8";
}
.fa-ravelry:before {
  content: "\f2d9";
}
.fa-eercast:before {
  content: "\f2da";
}
.fa-microchip:before {
  content: "\f2db";
}
.fa-snowflake-o:before {
  content: "\f2dc";
}
.fa-superpowers:before {
  content: "\f2dd";
}
.fa-wpexplorer:before {
  content: "\f2de";
}
.fa-meetup:before {
  content: "\f2e0";
}
.sr-only {
  position: absolute;
  width: 1px;
  height: 1px;
  padding: 0;
  margin: -1px;
  overflow: hidden;
  clip: rect(0, 0, 0, 0);
  border: 0;
}
.sr-only-focusable:active,
.sr-only-focusable:focus {
  position: static;
  width: auto;
  height: auto;
  margin: 0;
  overflow: visible;
  clip: auto;
}
.sr-only-focusable:active,
.sr-only-focusable:focus {
  position: static;
  width: auto;
  height: auto;
  margin: 0;
  overflow: visible;
  clip: auto;
}
/*!
*
* IPython base
*
*/
.modal.fade .modal-dialog {
  -webkit-transform: translate(0, 0);
  -ms-transform: translate(0, 0);
  -o-transform: translate(0, 0);
  transform: translate(0, 0);
}
code {
  color: #000;
}
pre {
  font-size: inherit;
  line-height: inherit;
}
label {
  font-weight: normal;
}
/* Make the page background atleast 100% the height of the view port */
/* Make the page itself atleast 70% the height of the view port */
.border-box-sizing {
  box-sizing: border-box;
  -moz-box-sizing: border-box;
  -webkit-box-sizing: border-box;
}
.corner-all {
  border-radius: 2px;
}
.no-padding {
  padding: 0px;
}
/* Flexible box model classes */
/* Taken from Alex Russell http://infrequently.org/2009/08/css-3-progress/ */
/* This file is a compatability layer.  It allows the usage of flexible box 
model layouts accross multiple browsers, including older browsers.  The newest,
universal implementation of the flexible box model is used when available (see
`Modern browsers` comments below).  Browsers that are known to implement this 
new spec completely include:

    Firefox 28.0+
    Chrome 29.0+
    Internet Explorer 11+ 
    Opera 17.0+

Browsers not listed, including Safari, are supported via the styling under the
`Old browsers` comments below.
*/
.hbox {
  /* Old browsers */
  display: -webkit-box;
  -webkit-box-orient: horizontal;
  -webkit-box-align: stretch;
  display: -moz-box;
  -moz-box-orient: horizontal;
  -moz-box-align: stretch;
  display: box;
  box-orient: horizontal;
  box-align: stretch;
  /* Modern browsers */
  display: flex;
  flex-direction: row;
  align-items: stretch;
}
.hbox > * {
  /* Old browsers */
  -webkit-box-flex: 0;
  -moz-box-flex: 0;
  box-flex: 0;
  /* Modern browsers */
  flex: none;
}
.vbox {
  /* Old browsers */
  display: -webkit-box;
  -webkit-box-orient: vertical;
  -webkit-box-align: stretch;
  display: -moz-box;
  -moz-box-orient: vertical;
  -moz-box-align: stretch;
  display: box;
  box-orient: vertical;
  box-align: stretch;
  /* Modern browsers */
  display: flex;
  flex-direction: column;
  align-items: stretch;
}
.vbox > * {
  /* Old browsers */
  -webkit-box-flex: 0;
  -moz-box-flex: 0;
  box-flex: 0;
  /* Modern browsers */
  flex: none;
}
.hbox.reverse,
.vbox.reverse,
.reverse {
  /* Old browsers */
  -webkit-box-direction: reverse;
  -moz-box-direction: reverse;
  box-direction: reverse;
  /* Modern browsers */
  flex-direction: row-reverse;
}
.hbox.box-flex0,
.vbox.box-flex0,
.box-flex0 {
  /* Old browsers */
  -webkit-box-flex: 0;
  -moz-box-flex: 0;
  box-flex: 0;
  /* Modern browsers */
  flex: none;
  width: auto;
}
.hbox.box-flex1,
.vbox.box-flex1,
.box-flex1 {
  /* Old browsers */
  -webkit-box-flex: 1;
  -moz-box-flex: 1;
  box-flex: 1;
  /* Modern browsers */
  flex: 1;
}
.hbox.box-flex,
.vbox.box-flex,
.box-flex {
  /* Old browsers */
  /* Old browsers */
  -webkit-box-flex: 1;
  -moz-box-flex: 1;
  box-flex: 1;
  /* Modern browsers */
  flex: 1;
}
.hbox.box-flex2,
.vbox.box-flex2,
.box-flex2 {
  /* Old browsers */
  -webkit-box-flex: 2;
  -moz-box-flex: 2;
  box-flex: 2;
  /* Modern browsers */
  flex: 2;
}
.box-group1 {
  /*  Deprecated */
  -webkit-box-flex-group: 1;
  -moz-box-flex-group: 1;
  box-flex-group: 1;
}
.box-group2 {
  /* Deprecated */
  -webkit-box-flex-group: 2;
  -moz-box-flex-group: 2;
  box-flex-group: 2;
}
.hbox.start,
.vbox.start,
.start {
  /* Old browsers */
  -webkit-box-pack: start;
  -moz-box-pack: start;
  box-pack: start;
  /* Modern browsers */
  justify-content: flex-start;
}
.hbox.end,
.vbox.end,
.end {
  /* Old browsers */
  -webkit-box-pack: end;
  -moz-box-pack: end;
  box-pack: end;
  /* Modern browsers */
  justify-content: flex-end;
}
.hbox.center,
.vbox.center,
.center {
  /* Old browsers */
  -webkit-box-pack: center;
  -moz-box-pack: center;
  box-pack: center;
  /* Modern browsers */
  justify-content: center;
}
.hbox.baseline,
.vbox.baseline,
.baseline {
  /* Old browsers */
  -webkit-box-pack: baseline;
  -moz-box-pack: baseline;
  box-pack: baseline;
  /* Modern browsers */
  justify-content: baseline;
}
.hbox.stretch,
.vbox.stretch,
.stretch {
  /* Old browsers */
  -webkit-box-pack: stretch;
  -moz-box-pack: stretch;
  box-pack: stretch;
  /* Modern browsers */
  justify-content: stretch;
}
.hbox.align-start,
.vbox.align-start,
.align-start {
  /* Old browsers */
  -webkit-box-align: start;
  -moz-box-align: start;
  box-align: start;
  /* Modern browsers */
  align-items: flex-start;
}
.hbox.align-end,
.vbox.align-end,
.align-end {
  /* Old browsers */
  -webkit-box-align: end;
  -moz-box-align: end;
  box-align: end;
  /* Modern browsers */
  align-items: flex-end;
}
.hbox.align-center,
.vbox.align-center,
.align-center {
  /* Old browsers */
  -webkit-box-align: center;
  -moz-box-align: center;
  box-align: center;
  /* Modern browsers */
  align-items: center;
}
.hbox.align-baseline,
.vbox.align-baseline,
.align-baseline {
  /* Old browsers */
  -webkit-box-align: baseline;
  -moz-box-align: baseline;
  box-align: baseline;
  /* Modern browsers */
  align-items: baseline;
}
.hbox.align-stretch,
.vbox.align-stretch,
.align-stretch {
  /* Old browsers */
  -webkit-box-align: stretch;
  -moz-box-align: stretch;
  box-align: stretch;
  /* Modern browsers */
  align-items: stretch;
}
div.error {
  margin: 2em;
  text-align: center;
}
div.error > h1 {
  font-size: 500%;
  line-height: normal;
}
div.error > p {
  font-size: 200%;
  line-height: normal;
}
div.traceback-wrapper {
  text-align: left;
  max-width: 800px;
  margin: auto;
}
div.traceback-wrapper pre.traceback {
  max-height: 600px;
  overflow: auto;
}
/**
 * Primary styles
 *
 * Author: Jupyter Development Team
 */
body {
  background-color: #fff;
  /* This makes sure that the body covers the entire window and needs to
       be in a different element than the display: box in wrapper below */
  position: absolute;
  left: 0px;
  right: 0px;
  top: 0px;
  bottom: 0px;
  overflow: visible;
}
body > #header {
  /* Initially hidden to prevent FLOUC */
  display: none;
  background-color: #fff;
  /* Display over codemirror */
  position: relative;
  z-index: 100;
}
body > #header #header-container {
  display: flex;
  flex-direction: row;
  justify-content: space-between;
  padding: 5px;
  padding-bottom: 5px;
  padding-top: 5px;
  box-sizing: border-box;
  -moz-box-sizing: border-box;
  -webkit-box-sizing: border-box;
}
body > #header .header-bar {
  width: 100%;
  height: 1px;
  background: #e7e7e7;
  margin-bottom: -1px;
}
@media print {
  body > #header {
    display: none !important;
  }
}
#header-spacer {
  width: 100%;
  visibility: hidden;
}
@media print {
  #header-spacer {
    display: none;
  }
}
#ipython_notebook {
  padding-left: 0px;
  padding-top: 1px;
  padding-bottom: 1px;
}
[dir="rtl"] #ipython_notebook {
  margin-right: 10px;
  margin-left: 0;
}
[dir="rtl"] #ipython_notebook.pull-left {
  float: right !important;
  float: right;
}
.flex-spacer {
  flex: 1;
}
#noscript {
  width: auto;
  padding-top: 16px;
  padding-bottom: 16px;
  text-align: center;
  font-size: 22px;
  color: red;
  font-weight: bold;
}
#ipython_notebook img {
  height: 28px;
}
#site {
  width: 100%;
  display: none;
  box-sizing: border-box;
  -moz-box-sizing: border-box;
  -webkit-box-sizing: border-box;
  overflow: auto;
}
@media print {
  #site {
    height: auto !important;
  }
}
/* Smaller buttons */
.ui-button .ui-button-text {
  padding: 0.2em 0.8em;
  font-size: 77%;
}
input.ui-button {
  padding: 0.3em 0.9em;
}
span#kernel_logo_widget {
  margin: 0 10px;
}
span#login_widget {
  float: right;
}
[dir="rtl"] span#login_widget {
  float: left;
}
span#login_widget > .button,
#logout {
  color: #333;
  background-color: #fff;
  border-color: #ccc;
}
span#login_widget > .button:focus,
#logout:focus,
span#login_widget > .button.focus,
#logout.focus {
  color: #333;
  background-color: #e6e6e6;
  border-color: #8c8c8c;
}
span#login_widget > .button:hover,
#logout:hover {
  color: #333;
  background-color: #e6e6e6;
  border-color: #adadad;
}
span#login_widget > .button:active,
#logout:active,
span#login_widget > .button.active,
#logout.active,
.open > .dropdown-togglespan#login_widget > .button,
.open > .dropdown-toggle#logout {
  color: #333;
  background-color: #e6e6e6;
  border-color: #adadad;
}
span#login_widget > .button:active:hover,
#logout:active:hover,
span#login_widget > .button.active:hover,
#logout.active:hover,
.open > .dropdown-togglespan#login_widget > .button:hover,
.open > .dropdown-toggle#logout:hover,
span#login_widget > .button:active:focus,
#logout:active:focus,
span#login_widget > .button.active:focus,
#logout.active:focus,
.open > .dropdown-togglespan#login_widget > .button:focus,
.open > .dropdown-toggle#logout:focus,
span#login_widget > .button:active.focus,
#logout:active.focus,
span#login_widget > .button.active.focus,
#logout.active.focus,
.open > .dropdown-togglespan#login_widget > .button.focus,
.open > .dropdown-toggle#logout.focus {
  color: #333;
  background-color: #d4d4d4;
  border-color: #8c8c8c;
}
span#login_widget > .button:active,
#logout:active,
span#login_widget > .button.active,
#logout.active,
.open > .dropdown-togglespan#login_widget > .button,
.open > .dropdown-toggle#logout {
  background-image: none;
}
span#login_widget > .button.disabled:hover,
#logout.disabled:hover,
span#login_widget > .button[disabled]:hover,
#logout[disabled]:hover,
fieldset[disabled] span#login_widget > .button:hover,
fieldset[disabled] #logout:hover,
span#login_widget > .button.disabled:focus,
#logout.disabled:focus,
span#login_widget > .button[disabled]:focus,
#logout[disabled]:focus,
fieldset[disabled] span#login_widget > .button:focus,
fieldset[disabled] #logout:focus,
span#login_widget > .button.disabled.focus,
#logout.disabled.focus,
span#login_widget > .button[disabled].focus,
#logout[disabled].focus,
fieldset[disabled] span#login_widget > .button.focus,
fieldset[disabled] #logout.focus {
  background-color: #fff;
  border-color: #ccc;
}
span#login_widget > .button .badge,
#logout .badge {
  color: #fff;
  background-color: #333;
}
.nav-header {
  text-transform: none;
}
#header > span {
  margin-top: 10px;
}
.modal_stretch .modal-dialog {
  /* Old browsers */
  display: -webkit-box;
  -webkit-box-orient: vertical;
  -webkit-box-align: stretch;
  display: -moz-box;
  -moz-box-orient: vertical;
  -moz-box-align: stretch;
  display: box;
  box-orient: vertical;
  box-align: stretch;
  /* Modern browsers */
  display: flex;
  flex-direction: column;
  align-items: stretch;
  min-height: 80vh;
}
.modal_stretch .modal-dialog .modal-body {
  max-height: calc(100vh - 200px);
  overflow: auto;
  flex: 1;
}
.modal-header {
  cursor: move;
}
@media (min-width: 768px) {
  .modal .modal-dialog {
    width: 700px;
  }
}
@media (min-width: 768px) {
  select.form-control {
    margin-left: 12px;
    margin-right: 12px;
  }
}
/*!
*
* IPython auth
*
*/
.center-nav {
  display: inline-block;
  margin-bottom: -4px;
}
[dir="rtl"] .center-nav form.pull-left {
  float: right !important;
  float: right;
}
[dir="rtl"] .center-nav .navbar-text {
  float: right;
}
[dir="rtl"] .navbar-inner {
  text-align: right;
}
[dir="rtl"] div.text-left {
  text-align: right;
}
/*!
*
* IPython tree view
*
*/
/* We need an invisible input field on top of the sentense*/
/* "Drag file onto the list ..." */
.alternate_upload {
  background-color: none;
  display: inline;
}
.alternate_upload.form {
  padding: 0;
  margin: 0;
}
.alternate_upload input.fileinput {
  position: absolute;
  display: block;
  width: 100%;
  height: 100%;
  overflow: hidden;
  cursor: pointer;
  opacity: 0;
  z-index: 2;
}
.alternate_upload .btn-xs > input.fileinput {
  margin: -1px -5px;
}
.alternate_upload .btn-upload {
  position: relative;
  height: 22px;
}
::-webkit-file-upload-button {
  cursor: pointer;
}
/**
 * Primary styles
 *
 * Author: Jupyter Development Team
 */
ul#tabs {
  margin-bottom: 4px;
}
ul#tabs a {
  padding-top: 6px;
  padding-bottom: 4px;
}
[dir="rtl"] ul#tabs.nav-tabs > li {
  float: right;
}
[dir="rtl"] ul#tabs.nav.nav-tabs {
  padding-right: 0;
}
ul.breadcrumb a:focus,
ul.breadcrumb a:hover {
  text-decoration: none;
}
ul.breadcrumb i.icon-home {
  font-size: 16px;
  margin-right: 4px;
}
ul.breadcrumb span {
  color: #5e5e5e;
}
.list_toolbar {
  padding: 4px 0 4px 0;
  vertical-align: middle;
}
.list_toolbar .tree-buttons {
  padding-top: 1px;
}
[dir="rtl"] .list_toolbar .tree-buttons .pull-right {
  float: left !important;
  float: left;
}
[dir="rtl"] .list_toolbar .col-sm-4,
[dir="rtl"] .list_toolbar .col-sm-8 {
  float: right;
}
.dynamic-buttons {
  padding-top: 3px;
  display: inline-block;
}
.list_toolbar [class*="span"] {
  min-height: 24px;
}
.list_header {
  font-weight: bold;
  background-color: #EEE;
}
.list_placeholder {
  font-weight: bold;
  padding-top: 4px;
  padding-bottom: 4px;
  padding-left: 7px;
  padding-right: 7px;
}
.list_container {
  margin-top: 4px;
  margin-bottom: 20px;
  border: 1px solid #ddd;
  border-radius: 2px;
}
.list_container > div {
  border-bottom: 1px solid #ddd;
}
.list_container > div:hover .list-item {
  background-color: red;
}
.list_container > div:last-child {
  border: none;
}
.list_item:hover .list_item {
  background-color: #ddd;
}
.list_item a {
  text-decoration: none;
}
.list_item:hover {
  background-color: #fafafa;
}
.list_header > div,
.list_item > div {
  padding-top: 4px;
  padding-bottom: 4px;
  padding-left: 7px;
  padding-right: 7px;
  line-height: 22px;
}
.list_header > div input,
.list_item > div input {
  margin-right: 7px;
  margin-left: 14px;
  vertical-align: text-bottom;
  line-height: 22px;
  position: relative;
  top: -1px;
}
.list_header > div .item_link,
.list_item > div .item_link {
  margin-left: -1px;
  vertical-align: baseline;
  line-height: 22px;
}
[dir="rtl"] .list_item > div input {
  margin-right: 0;
}
.new-file input[type=checkbox] {
  visibility: hidden;
}
.item_name {
  line-height: 22px;
  height: 24px;
}
.item_icon {
  font-size: 14px;
  color: #5e5e5e;
  margin-right: 7px;
  margin-left: 7px;
  line-height: 22px;
  vertical-align: baseline;
}
.item_modified {
  margin-right: 7px;
  margin-left: 7px;
}
[dir="rtl"] .item_modified.pull-right {
  float: left !important;
  float: left;
}
.item_buttons {
  line-height: 1em;
  margin-left: -5px;
}
.item_buttons .btn,
.item_buttons .btn-group,
.item_buttons .input-group {
  float: left;
}
.item_buttons > .btn,
.item_buttons > .btn-group,
.item_buttons > .input-group {
  margin-left: 5px;
}
.item_buttons .btn {
  min-width: 13ex;
}
.item_buttons .running-indicator {
  padding-top: 4px;
  color: #5cb85c;
}
.item_buttons .kernel-name {
  padding-top: 4px;
  color: #5bc0de;
  margin-right: 7px;
  float: left;
}
[dir="rtl"] .item_buttons.pull-right {
  float: left !important;
  float: left;
}
[dir="rtl"] .item_buttons .kernel-name {
  margin-left: 7px;
  float: right;
}
.toolbar_info {
  height: 24px;
  line-height: 24px;
}
.list_item input:not([type=checkbox]) {
  padding-top: 3px;
  padding-bottom: 3px;
  height: 22px;
  line-height: 14px;
  margin: 0px;
}
.highlight_text {
  color: blue;
}
#project_name {
  display: inline-block;
  padding-left: 7px;
  margin-left: -2px;
}
#project_name > .breadcrumb {
  padding: 0px;
  margin-bottom: 0px;
  background-color: transparent;
  font-weight: bold;
}
.sort_button {
  display: inline-block;
  padding-left: 7px;
}
[dir="rtl"] .sort_button.pull-right {
  float: left !important;
  float: left;
}
#tree-selector {
  padding-right: 0px;
}
#button-select-all {
  min-width: 50px;
}
[dir="rtl"] #button-select-all.btn {
  float: right ;
}
#select-all {
  margin-left: 7px;
  margin-right: 2px;
  margin-top: 2px;
  height: 16px;
}
[dir="rtl"] #select-all.pull-left {
  float: right !important;
  float: right;
}
.menu_icon {
  margin-right: 2px;
}
.tab-content .row {
  margin-left: 0px;
  margin-right: 0px;
}
.folder_icon:before {
  display: inline-block;
  font: normal normal normal 14px/1 FontAwesome;
  font-size: inherit;
  text-rendering: auto;
  -webkit-font-smoothing: antialiased;
  -moz-osx-font-smoothing: grayscale;
  content: "\f114";
}
.folder_icon:before.fa-pull-left {
  margin-right: .3em;
}
.folder_icon:before.fa-pull-right {
  margin-left: .3em;
}
.folder_icon:before.pull-left {
  margin-right: .3em;
}
.folder_icon:before.pull-right {
  margin-left: .3em;
}
.notebook_icon:before {
  display: inline-block;
  font: normal normal normal 14px/1 FontAwesome;
  font-size: inherit;
  text-rendering: auto;
  -webkit-font-smoothing: antialiased;
  -moz-osx-font-smoothing: grayscale;
  content: "\f02d";
  position: relative;
  top: -1px;
}
.notebook_icon:before.fa-pull-left {
  margin-right: .3em;
}
.notebook_icon:before.fa-pull-right {
  margin-left: .3em;
}
.notebook_icon:before.pull-left {
  margin-right: .3em;
}
.notebook_icon:before.pull-right {
  margin-left: .3em;
}
.running_notebook_icon:before {
  display: inline-block;
  font: normal normal normal 14px/1 FontAwesome;
  font-size: inherit;
  text-rendering: auto;
  -webkit-font-smoothing: antialiased;
  -moz-osx-font-smoothing: grayscale;
  content: "\f02d";
  position: relative;
  top: -1px;
  color: #5cb85c;
}
.running_notebook_icon:before.fa-pull-left {
  margin-right: .3em;
}
.running_notebook_icon:before.fa-pull-right {
  margin-left: .3em;
}
.running_notebook_icon:before.pull-left {
  margin-right: .3em;
}
.running_notebook_icon:before.pull-right {
  margin-left: .3em;
}
.file_icon:before {
  display: inline-block;
  font: normal normal normal 14px/1 FontAwesome;
  font-size: inherit;
  text-rendering: auto;
  -webkit-font-smoothing: antialiased;
  -moz-osx-font-smoothing: grayscale;
  content: "\f016";
  position: relative;
  top: -2px;
}
.file_icon:before.fa-pull-left {
  margin-right: .3em;
}
.file_icon:before.fa-pull-right {
  margin-left: .3em;
}
.file_icon:before.pull-left {
  margin-right: .3em;
}
.file_icon:before.pull-right {
  margin-left: .3em;
}
#notebook_toolbar .pull-right {
  padding-top: 0px;
  margin-right: -1px;
}
ul#new-menu {
  left: auto;
  right: 0;
}
#new-menu .dropdown-header {
  font-size: 10px;
  border-bottom: 1px solid #e5e5e5;
  padding: 0 0 3px;
  margin: -3px 20px 0;
}
.kernel-menu-icon {
  padding-right: 12px;
  width: 24px;
  content: "\f096";
}
.kernel-menu-icon:before {
  content: "\f096";
}
.kernel-menu-icon-current:before {
  content: "\f00c";
}
#tab_content {
  padding-top: 20px;
}
#running .panel-group .panel {
  margin-top: 3px;
  margin-bottom: 1em;
}
#running .panel-group .panel .panel-heading {
  background-color: #EEE;
  padding-top: 4px;
  padding-bottom: 4px;
  padding-left: 7px;
  padding-right: 7px;
  line-height: 22px;
}
#running .panel-group .panel .panel-heading a:focus,
#running .panel-group .panel .panel-heading a:hover {
  text-decoration: none;
}
#running .panel-group .panel .panel-body {
  padding: 0px;
}
#running .panel-group .panel .panel-body .list_container {
  margin-top: 0px;
  margin-bottom: 0px;
  border: 0px;
  border-radius: 0px;
}
#running .panel-group .panel .panel-body .list_container .list_item {
  border-bottom: 1px solid #ddd;
}
#running .panel-group .panel .panel-body .list_container .list_item:last-child {
  border-bottom: 0px;
}
.delete-button {
  display: none;
}
.duplicate-button {
  display: none;
}
.rename-button {
  display: none;
}
.move-button {
  display: none;
}
.download-button {
  display: none;
}
.shutdown-button {
  display: none;
}
.dynamic-instructions {
  display: inline-block;
  padding-top: 4px;
}
/*!
*
* IPython text editor webapp
*
*/
.selected-keymap i.fa {
  padding: 0px 5px;
}
.selected-keymap i.fa:before {
  content: "\f00c";
}
#mode-menu {
  overflow: auto;
  max-height: 20em;
}
.edit_app #header {
  -webkit-box-shadow: 0px 0px 12px 1px rgba(87, 87, 87, 0.2);
  box-shadow: 0px 0px 12px 1px rgba(87, 87, 87, 0.2);
}
.edit_app #menubar .navbar {
  /* Use a negative 1 bottom margin, so the border overlaps the border of the
    header */
  margin-bottom: -1px;
}
.dirty-indicator {
  display: inline-block;
  font: normal normal normal 14px/1 FontAwesome;
  font-size: inherit;
  text-rendering: auto;
  -webkit-font-smoothing: antialiased;
  -moz-osx-font-smoothing: grayscale;
  width: 20px;
}
.dirty-indicator.fa-pull-left {
  margin-right: .3em;
}
.dirty-indicator.fa-pull-right {
  margin-left: .3em;
}
.dirty-indicator.pull-left {
  margin-right: .3em;
}
.dirty-indicator.pull-right {
  margin-left: .3em;
}
.dirty-indicator-dirty {
  display: inline-block;
  font: normal normal normal 14px/1 FontAwesome;
  font-size: inherit;
  text-rendering: auto;
  -webkit-font-smoothing: antialiased;
  -moz-osx-font-smoothing: grayscale;
  width: 20px;
}
.dirty-indicator-dirty.fa-pull-left {
  margin-right: .3em;
}
.dirty-indicator-dirty.fa-pull-right {
  margin-left: .3em;
}
.dirty-indicator-dirty.pull-left {
  margin-right: .3em;
}
.dirty-indicator-dirty.pull-right {
  margin-left: .3em;
}
.dirty-indicator-clean {
  display: inline-block;
  font: normal normal normal 14px/1 FontAwesome;
  font-size: inherit;
  text-rendering: auto;
  -webkit-font-smoothing: antialiased;
  -moz-osx-font-smoothing: grayscale;
  width: 20px;
}
.dirty-indicator-clean.fa-pull-left {
  margin-right: .3em;
}
.dirty-indicator-clean.fa-pull-right {
  margin-left: .3em;
}
.dirty-indicator-clean.pull-left {
  margin-right: .3em;
}
.dirty-indicator-clean.pull-right {
  margin-left: .3em;
}
.dirty-indicator-clean:before {
  display: inline-block;
  font: normal normal normal 14px/1 FontAwesome;
  font-size: inherit;
  text-rendering: auto;
  -webkit-font-smoothing: antialiased;
  -moz-osx-font-smoothing: grayscale;
  content: "\f00c";
}
.dirty-indicator-clean:before.fa-pull-left {
  margin-right: .3em;
}
.dirty-indicator-clean:before.fa-pull-right {
  margin-left: .3em;
}
.dirty-indicator-clean:before.pull-left {
  margin-right: .3em;
}
.dirty-indicator-clean:before.pull-right {
  margin-left: .3em;
}
#filename {
  font-size: 16pt;
  display: table;
  padding: 0px 5px;
}
#current-mode {
  padding-left: 5px;
  padding-right: 5px;
}
#texteditor-backdrop {
  padding-top: 20px;
  padding-bottom: 20px;
}
@media not print {
  #texteditor-backdrop {
    background-color: #EEE;
  }
}
@media print {
  #texteditor-backdrop #texteditor-container .CodeMirror-gutter,
  #texteditor-backdrop #texteditor-container .CodeMirror-gutters {
    background-color: #fff;
  }
}
@media not print {
  #texteditor-backdrop #texteditor-container .CodeMirror-gutter,
  #texteditor-backdrop #texteditor-container .CodeMirror-gutters {
    background-color: #fff;
  }
}
@media not print {
  #texteditor-backdrop #texteditor-container {
    padding: 0px;
    background-color: #fff;
    -webkit-box-shadow: 0px 0px 12px 1px rgba(87, 87, 87, 0.2);
    box-shadow: 0px 0px 12px 1px rgba(87, 87, 87, 0.2);
  }
}
.CodeMirror-dialog {
  background-color: #fff;
}
/*!
*
* IPython notebook
*
*/
/* CSS font colors for translated ANSI escape sequences */
/* The color values are a mix of
   http://www.xcolors.net/dl/baskerville-ivorylight and
   http://www.xcolors.net/dl/euphrasia */
.ansi-black-fg {
  color: #3E424D;
}
.ansi-black-bg {
  background-color: #3E424D;
}
.ansi-black-intense-fg {
  color: #282C36;
}
.ansi-black-intense-bg {
  background-color: #282C36;
}
.ansi-red-fg {
  color: #E75C58;
}
.ansi-red-bg {
  background-color: #E75C58;
}
.ansi-red-intense-fg {
  color: #B22B31;
}
.ansi-red-intense-bg {
  background-color: #B22B31;
}
.ansi-green-fg {
  color: #00A250;
}
.ansi-green-bg {
  background-color: #00A250;
}
.ansi-green-intense-fg {
  color: #007427;
}
.ansi-green-intense-bg {
  background-color: #007427;
}
.ansi-yellow-fg {
  color: #DDB62B;
}
.ansi-yellow-bg {
  background-color: #DDB62B;
}
.ansi-yellow-intense-fg {
  color: #B27D12;
}
.ansi-yellow-intense-bg {
  background-color: #B27D12;
}
.ansi-blue-fg {
  color: #208FFB;
}
.ansi-blue-bg {
  background-color: #208FFB;
}
.ansi-blue-intense-fg {
  color: #0065CA;
}
.ansi-blue-intense-bg {
  background-color: #0065CA;
}
.ansi-magenta-fg {
  color: #D160C4;
}
.ansi-magenta-bg {
  background-color: #D160C4;
}
.ansi-magenta-intense-fg {
  color: #A03196;
}
.ansi-magenta-intense-bg {
  background-color: #A03196;
}
.ansi-cyan-fg {
  color: #60C6C8;
}
.ansi-cyan-bg {
  background-color: #60C6C8;
}
.ansi-cyan-intense-fg {
  color: #258F8F;
}
.ansi-cyan-intense-bg {
  background-color: #258F8F;
}
.ansi-white-fg {
  color: #C5C1B4;
}
.ansi-white-bg {
  background-color: #C5C1B4;
}
.ansi-white-intense-fg {
  color: #A1A6B2;
}
.ansi-white-intense-bg {
  background-color: #A1A6B2;
}
.ansi-default-inverse-fg {
  color: #FFFFFF;
}
.ansi-default-inverse-bg {
  background-color: #000000;
}
.ansi-bold {
  font-weight: bold;
}
.ansi-underline {
  text-decoration: underline;
}
/* The following styles are deprecated an will be removed in a future version */
.ansibold {
  font-weight: bold;
}
.ansi-inverse {
  outline: 0.5px dotted;
}
/* use dark versions for foreground, to improve visibility */
.ansiblack {
  color: black;
}
.ansired {
  color: darkred;
}
.ansigreen {
  color: darkgreen;
}
.ansiyellow {
  color: #c4a000;
}
.ansiblue {
  color: darkblue;
}
.ansipurple {
  color: darkviolet;
}
.ansicyan {
  color: steelblue;
}
.ansigray {
  color: gray;
}
/* and light for background, for the same reason */
.ansibgblack {
  background-color: black;
}
.ansibgred {
  background-color: red;
}
.ansibggreen {
  background-color: green;
}
.ansibgyellow {
  background-color: yellow;
}
.ansibgblue {
  background-color: blue;
}
.ansibgpurple {
  background-color: magenta;
}
.ansibgcyan {
  background-color: cyan;
}
.ansibggray {
  background-color: gray;
}
div.cell {
  /* Old browsers */
  display: -webkit-box;
  -webkit-box-orient: vertical;
  -webkit-box-align: stretch;
  display: -moz-box;
  -moz-box-orient: vertical;
  -moz-box-align: stretch;
  display: box;
  box-orient: vertical;
  box-align: stretch;
  /* Modern browsers */
  display: flex;
  flex-direction: column;
  align-items: stretch;
  border-radius: 2px;
  box-sizing: border-box;
  -moz-box-sizing: border-box;
  -webkit-box-sizing: border-box;
  border-width: 1px;
  border-style: solid;
  border-color: transparent;
  width: 100%;
  padding: 5px;
  /* This acts as a spacer between cells, that is outside the border */
  margin: 0px;
  outline: none;
  position: relative;
  overflow: visible;
}
div.cell:before {
  position: absolute;
  display: block;
  top: -1px;
  left: -1px;
  width: 5px;
  height: calc(100% +  2px);
  content: '';
  background: transparent;
}
div.cell.jupyter-soft-selected {
  border-left-color: #E3F2FD;
  border-left-width: 1px;
  padding-left: 5px;
  border-right-color: #E3F2FD;
  border-right-width: 1px;
  background: #E3F2FD;
}
@media print {
  div.cell.jupyter-soft-selected {
    border-color: transparent;
  }
}
div.cell.selected,
div.cell.selected.jupyter-soft-selected {
  border-color: #ababab;
}
div.cell.selected:before,
div.cell.selected.jupyter-soft-selected:before {
  position: absolute;
  display: block;
  top: -1px;
  left: -1px;
  width: 5px;
  height: calc(100% +  2px);
  content: '';
  background: #42A5F5;
}
@media print {
  div.cell.selected,
  div.cell.selected.jupyter-soft-selected {
    border-color: transparent;
  }
}
.edit_mode div.cell.selected {
  border-color: #66BB6A;
}
.edit_mode div.cell.selected:before {
  position: absolute;
  display: block;
  top: -1px;
  left: -1px;
  width: 5px;
  height: calc(100% +  2px);
  content: '';
  background: #66BB6A;
}
@media print {
  .edit_mode div.cell.selected {
    border-color: transparent;
  }
}
.prompt {
  /* This needs to be wide enough for 3 digit prompt numbers: In[100]: */
  min-width: 14ex;
  /* This padding is tuned to match the padding on the CodeMirror editor. */
  padding: 0.4em;
  margin: 0px;
  font-family: monospace;
  text-align: right;
  /* This has to match that of the the CodeMirror class line-height below */
  line-height: 1.21429em;
  /* Don't highlight prompt number selection */
  -webkit-touch-callout: none;
  -webkit-user-select: none;
  -khtml-user-select: none;
  -moz-user-select: none;
  -ms-user-select: none;
  user-select: none;
  /* Use default cursor */
  cursor: default;
}
@media (max-width: 540px) {
  .prompt {
    text-align: left;
  }
}
div.inner_cell {
  min-width: 0;
  /* Old browsers */
  display: -webkit-box;
  -webkit-box-orient: vertical;
  -webkit-box-align: stretch;
  display: -moz-box;
  -moz-box-orient: vertical;
  -moz-box-align: stretch;
  display: box;
  box-orient: vertical;
  box-align: stretch;
  /* Modern browsers */
  display: flex;
  flex-direction: column;
  align-items: stretch;
  /* Old browsers */
  -webkit-box-flex: 1;
  -moz-box-flex: 1;
  box-flex: 1;
  /* Modern browsers */
  flex: 1;
}
/* input_area and input_prompt must match in top border and margin for alignment */
div.input_area {
  border: 1px solid #cfcfcf;
  border-radius: 2px;
  background: #f7f7f7;
  line-height: 1.21429em;
}
/* This is needed so that empty prompt areas can collapse to zero height when there
   is no content in the output_subarea and the prompt. The main purpose of this is
   to make sure that empty JavaScript output_subareas have no height. */
div.prompt:empty {
  padding-top: 0;
  padding-bottom: 0;
}
div.unrecognized_cell {
  padding: 5px 5px 5px 0px;
  /* Old browsers */
  display: -webkit-box;
  -webkit-box-orient: horizontal;
  -webkit-box-align: stretch;
  display: -moz-box;
  -moz-box-orient: horizontal;
  -moz-box-align: stretch;
  display: box;
  box-orient: horizontal;
  box-align: stretch;
  /* Modern browsers */
  display: flex;
  flex-direction: row;
  align-items: stretch;
}
div.unrecognized_cell .inner_cell {
  border-radius: 2px;
  padding: 5px;
  font-weight: bold;
  color: red;
  border: 1px solid #cfcfcf;
  background: #eaeaea;
}
div.unrecognized_cell .inner_cell a {
  color: inherit;
  text-decoration: none;
}
div.unrecognized_cell .inner_cell a:hover {
  color: inherit;
  text-decoration: none;
}
@media (max-width: 540px) {
  div.unrecognized_cell > div.prompt {
    display: none;
  }
}
div.code_cell {
  /* avoid page breaking on code cells when printing */
}
@media print {
  div.code_cell {
    page-break-inside: avoid;
  }
}
/* any special styling for code cells that are currently running goes here */
div.input {
  page-break-inside: avoid;
  /* Old browsers */
  display: -webkit-box;
  -webkit-box-orient: horizontal;
  -webkit-box-align: stretch;
  display: -moz-box;
  -moz-box-orient: horizontal;
  -moz-box-align: stretch;
  display: box;
  box-orient: horizontal;
  box-align: stretch;
  /* Modern browsers */
  display: flex;
  flex-direction: row;
  align-items: stretch;
}
@media (max-width: 540px) {
  div.input {
    /* Old browsers */
    display: -webkit-box;
    -webkit-box-orient: vertical;
    -webkit-box-align: stretch;
    display: -moz-box;
    -moz-box-orient: vertical;
    -moz-box-align: stretch;
    display: box;
    box-orient: vertical;
    box-align: stretch;
    /* Modern browsers */
    display: flex;
    flex-direction: column;
    align-items: stretch;
  }
}
/* input_area and input_prompt must match in top border and margin for alignment */
div.input_prompt {
  color: #303F9F;
  border-top: 1px solid transparent;
}
div.input_area > div.highlight {
  margin: 0.4em;
  border: none;
  padding: 0px;
  background-color: transparent;
}
div.input_area > div.highlight > pre {
  margin: 0px;
  border: none;
  padding: 0px;
  background-color: transparent;
}
/* The following gets added to the <head> if it is detected that the user has a
 * monospace font with inconsistent normal/bold/italic height.  See
 * notebookmain.js.  Such fonts will have keywords vertically offset with
 * respect to the rest of the text.  The user should select a better font.
 * See: https://github.com/ipython/ipython/issues/1503
 *
 * .CodeMirror span {
 *      vertical-align: bottom;
 * }
 */
.CodeMirror {
  line-height: 1.21429em;
  /* Changed from 1em to our global default */
  font-size: 14px;
  height: auto;
  /* Changed to auto to autogrow */
  background: none;
  /* Changed from white to allow our bg to show through */
}
.CodeMirror-scroll {
  /*  The CodeMirror docs are a bit fuzzy on if overflow-y should be hidden or visible.*/
  /*  We have found that if it is visible, vertical scrollbars appear with font size changes.*/
  overflow-y: hidden;
  overflow-x: auto;
}
.CodeMirror-lines {
  /* In CM2, this used to be 0.4em, but in CM3 it went to 4px. We need the em value because */
  /* we have set a different line-height and want this to scale with that. */
  /* Note that this should set vertical padding only, since CodeMirror assumes
       that horizontal padding will be set on CodeMirror pre */
  padding: 0.4em 0;
}
.CodeMirror-linenumber {
  padding: 0 8px 0 4px;
}
.CodeMirror-gutters {
  border-bottom-left-radius: 2px;
  border-top-left-radius: 2px;
}
.CodeMirror pre {
  /* In CM3 this went to 4px from 0 in CM2. This sets horizontal padding only,
    use .CodeMirror-lines for vertical */
  padding: 0 0.4em;
  border: 0;
  border-radius: 0;
}
.CodeMirror-cursor {
  border-left: 1.4px solid black;
}
@media screen and (min-width: 2138px) and (max-width: 4319px) {
  .CodeMirror-cursor {
    border-left: 2px solid black;
  }
}
@media screen and (min-width: 4320px) {
  .CodeMirror-cursor {
    border-left: 4px solid black;
  }
}
/*

Original style from softwaremaniacs.org (c) Ivan Sagalaev <Maniac@SoftwareManiacs.Org>
Adapted from GitHub theme

*/
.highlight-base {
  color: #000;
}
.highlight-variable {
  color: #000;
}
.highlight-variable-2 {
  color: #1a1a1a;
}
.highlight-variable-3 {
  color: #333333;
}
.highlight-string {
  color: #BA2121;
}
.highlight-comment {
  color: #408080;
  font-style: italic;
}
.highlight-number {
  color: #080;
}
.highlight-atom {
  color: #88F;
}
.highlight-keyword {
  color: #008000;
  font-weight: bold;
}
.highlight-builtin {
  color: #008000;
}
.highlight-error {
  color: #f00;
}
.highlight-operator {
  color: #AA22FF;
  font-weight: bold;
}
.highlight-meta {
  color: #AA22FF;
}
/* previously not defined, copying from default codemirror */
.highlight-def {
  color: #00f;
}
.highlight-string-2 {
  color: #f50;
}
.highlight-qualifier {
  color: #555;
}
.highlight-bracket {
  color: #997;
}
.highlight-tag {
  color: #170;
}
.highlight-attribute {
  color: #00c;
}
.highlight-header {
  color: blue;
}
.highlight-quote {
  color: #090;
}
.highlight-link {
  color: #00c;
}
/* apply the same style to codemirror */
.cm-s-ipython span.cm-keyword {
  color: #008000;
  font-weight: bold;
}
.cm-s-ipython span.cm-atom {
  color: #88F;
}
.cm-s-ipython span.cm-number {
  color: #080;
}
.cm-s-ipython span.cm-def {
  color: #00f;
}
.cm-s-ipython span.cm-variable {
  color: #000;
}
.cm-s-ipython span.cm-operator {
  color: #AA22FF;
  font-weight: bold;
}
.cm-s-ipython span.cm-variable-2 {
  color: #1a1a1a;
}
.cm-s-ipython span.cm-variable-3 {
  color: #333333;
}
.cm-s-ipython span.cm-comment {
  color: #408080;
  font-style: italic;
}
.cm-s-ipython span.cm-string {
  color: #BA2121;
}
.cm-s-ipython span.cm-string-2 {
  color: #f50;
}
.cm-s-ipython span.cm-meta {
  color: #AA22FF;
}
.cm-s-ipython span.cm-qualifier {
  color: #555;
}
.cm-s-ipython span.cm-builtin {
  color: #008000;
}
.cm-s-ipython span.cm-bracket {
  color: #997;
}
.cm-s-ipython span.cm-tag {
  color: #170;
}
.cm-s-ipython span.cm-attribute {
  color: #00c;
}
.cm-s-ipython span.cm-header {
  color: blue;
}
.cm-s-ipython span.cm-quote {
  color: #090;
}
.cm-s-ipython span.cm-link {
  color: #00c;
}
.cm-s-ipython span.cm-error {
  color: #f00;
}
.cm-s-ipython span.cm-tab {
  background: url(data:image/png;base64,iVBORw0KGgoAAAANSUhEUgAAADAAAAAMCAYAAAAkuj5RAAAAAXNSR0IArs4c6QAAAGFJREFUSMft1LsRQFAQheHPowAKoACx3IgEKtaEHujDjORSgWTH/ZOdnZOcM/sgk/kFFWY0qV8foQwS4MKBCS3qR6ixBJvElOobYAtivseIE120FaowJPN75GMu8j/LfMwNjh4HUpwg4LUAAAAASUVORK5CYII=);
  background-position: right;
  background-repeat: no-repeat;
}
div.output_wrapper {
  /* this position must be relative to enable descendents to be absolute within it */
  position: relative;
  /* Old browsers */
  display: -webkit-box;
  -webkit-box-orient: vertical;
  -webkit-box-align: stretch;
  display: -moz-box;
  -moz-box-orient: vertical;
  -moz-box-align: stretch;
  display: box;
  box-orient: vertical;
  box-align: stretch;
  /* Modern browsers */
  display: flex;
  flex-direction: column;
  align-items: stretch;
  z-index: 1;
}
/* class for the output area when it should be height-limited */
div.output_scroll {
  /* ideally, this would be max-height, but FF barfs all over that */
  height: 24em;
  /* FF needs this *and the wrapper* to specify full width, or it will shrinkwrap */
  width: 100%;
  overflow: auto;
  border-radius: 2px;
  -webkit-box-shadow: inset 0 2px 8px rgba(0, 0, 0, 0.8);
  box-shadow: inset 0 2px 8px rgba(0, 0, 0, 0.8);
  display: block;
}
/* output div while it is collapsed */
div.output_collapsed {
  margin: 0px;
  padding: 0px;
  /* Old browsers */
  display: -webkit-box;
  -webkit-box-orient: vertical;
  -webkit-box-align: stretch;
  display: -moz-box;
  -moz-box-orient: vertical;
  -moz-box-align: stretch;
  display: box;
  box-orient: vertical;
  box-align: stretch;
  /* Modern browsers */
  display: flex;
  flex-direction: column;
  align-items: stretch;
}
div.out_prompt_overlay {
  height: 100%;
  padding: 0px 0.4em;
  position: absolute;
  border-radius: 2px;
}
div.out_prompt_overlay:hover {
  /* use inner shadow to get border that is computed the same on WebKit/FF */
  -webkit-box-shadow: inset 0 0 1px #000;
  box-shadow: inset 0 0 1px #000;
  background: rgba(240, 240, 240, 0.5);
}
div.output_prompt {
  color: #D84315;
}
/* This class is the outer container of all output sections. */
div.output_area {
  padding: 0px;
  page-break-inside: avoid;
  /* Old browsers */
  display: -webkit-box;
  -webkit-box-orient: horizontal;
  -webkit-box-align: stretch;
  display: -moz-box;
  -moz-box-orient: horizontal;
  -moz-box-align: stretch;
  display: box;
  box-orient: horizontal;
  box-align: stretch;
  /* Modern browsers */
  display: flex;
  flex-direction: row;
  align-items: stretch;
}
div.output_area .MathJax_Display {
  text-align: left !important;
}
div.output_area .rendered_html table {
  margin-left: 0;
  margin-right: 0;
}
div.output_area .rendered_html img {
  margin-left: 0;
  margin-right: 0;
}
div.output_area img,
div.output_area svg {
  max-width: 100%;
  height: auto;
}
div.output_area img.unconfined,
div.output_area svg.unconfined {
  max-width: none;
}
div.output_area .mglyph > img {
  max-width: none;
}
/* This is needed to protect the pre formating from global settings such
   as that of bootstrap */
.output {
  /* Old browsers */
  display: -webkit-box;
  -webkit-box-orient: vertical;
  -webkit-box-align: stretch;
  display: -moz-box;
  -moz-box-orient: vertical;
  -moz-box-align: stretch;
  display: box;
  box-orient: vertical;
  box-align: stretch;
  /* Modern browsers */
  display: flex;
  flex-direction: column;
  align-items: stretch;
}
@media (max-width: 540px) {
  div.output_area {
    /* Old browsers */
    display: -webkit-box;
    -webkit-box-orient: vertical;
    -webkit-box-align: stretch;
    display: -moz-box;
    -moz-box-orient: vertical;
    -moz-box-align: stretch;
    display: box;
    box-orient: vertical;
    box-align: stretch;
    /* Modern browsers */
    display: flex;
    flex-direction: column;
    align-items: stretch;
  }
}
div.output_area pre {
  margin: 0;
  padding: 1px 0 1px 0;
  border: 0;
  vertical-align: baseline;
  color: black;
  background-color: transparent;
  border-radius: 0;
}
/* This class is for the output subarea inside the output_area and after
   the prompt div. */
div.output_subarea {
  overflow-x: auto;
  padding: 0.4em;
  /* Old browsers */
  -webkit-box-flex: 1;
  -moz-box-flex: 1;
  box-flex: 1;
  /* Modern browsers */
  flex: 1;
  max-width: calc(100% - 14ex);
}
div.output_scroll div.output_subarea {
  overflow-x: visible;
}
/* The rest of the output_* classes are for special styling of the different
   output types */
/* all text output has this class: */
div.output_text {
  text-align: left;
  color: #000;
  /* This has to match that of the the CodeMirror class line-height below */
  line-height: 1.21429em;
}
/* stdout/stderr are 'text' as well as 'stream', but execute_result/error are *not* streams */
div.output_stderr {
  background: #fdd;
  /* very light red background for stderr */
}
div.output_latex {
  text-align: left;
}
/* Empty output_javascript divs should have no height */
div.output_javascript:empty {
  padding: 0;
}
.js-error {
  color: darkred;
}
/* raw_input styles */
div.raw_input_container {
  line-height: 1.21429em;
  padding-top: 5px;
}
pre.raw_input_prompt {
  /* nothing needed here. */
}
input.raw_input {
  font-family: monospace;
  font-size: inherit;
  color: inherit;
  width: auto;
  /* make sure input baseline aligns with prompt */
  vertical-align: baseline;
  /* padding + margin = 0.5em between prompt and cursor */
  padding: 0em 0.25em;
  margin: 0em 0.25em;
}
input.raw_input:focus {
  box-shadow: none;
}
p.p-space {
  margin-bottom: 10px;
}
div.output_unrecognized {
  padding: 5px;
  font-weight: bold;
  color: red;
}
div.output_unrecognized a {
  color: inherit;
  text-decoration: none;
}
div.output_unrecognized a:hover {
  color: inherit;
  text-decoration: none;
}
.rendered_html {
  color: #000;
  /* any extras will just be numbers: */
}
.rendered_html em {
  font-style: italic;
}
.rendered_html strong {
  font-weight: bold;
}
.rendered_html u {
  text-decoration: underline;
}
.rendered_html :link {
  text-decoration: underline;
}
.rendered_html :visited {
  text-decoration: underline;
}
.rendered_html h1 {
  font-size: 185.7%;
  margin: 1.08em 0 0 0;
  font-weight: bold;
  line-height: 1.0;
}
.rendered_html h2 {
  font-size: 157.1%;
  margin: 1.27em 0 0 0;
  font-weight: bold;
  line-height: 1.0;
}
.rendered_html h3 {
  font-size: 128.6%;
  margin: 1.55em 0 0 0;
  font-weight: bold;
  line-height: 1.0;
}
.rendered_html h4 {
  font-size: 100%;
  margin: 2em 0 0 0;
  font-weight: bold;
  line-height: 1.0;
}
.rendered_html h5 {
  font-size: 100%;
  margin: 2em 0 0 0;
  font-weight: bold;
  line-height: 1.0;
  font-style: italic;
}
.rendered_html h6 {
  font-size: 100%;
  margin: 2em 0 0 0;
  font-weight: bold;
  line-height: 1.0;
  font-style: italic;
}
.rendered_html h1:first-child {
  margin-top: 0.538em;
}
.rendered_html h2:first-child {
  margin-top: 0.636em;
}
.rendered_html h3:first-child {
  margin-top: 0.777em;
}
.rendered_html h4:first-child {
  margin-top: 1em;
}
.rendered_html h5:first-child {
  margin-top: 1em;
}
.rendered_html h6:first-child {
  margin-top: 1em;
}
.rendered_html ul:not(.list-inline),
.rendered_html ol:not(.list-inline) {
  padding-left: 2em;
}
.rendered_html ul {
  list-style: disc;
}
.rendered_html ul ul {
  list-style: square;
  margin-top: 0;
}
.rendered_html ul ul ul {
  list-style: circle;
}
.rendered_html ol {
  list-style: decimal;
}
.rendered_html ol ol {
  list-style: upper-alpha;
  margin-top: 0;
}
.rendered_html ol ol ol {
  list-style: lower-alpha;
}
.rendered_html ol ol ol ol {
  list-style: lower-roman;
}
.rendered_html ol ol ol ol ol {
  list-style: decimal;
}
.rendered_html * + ul {
  margin-top: 1em;
}
.rendered_html * + ol {
  margin-top: 1em;
}
.rendered_html hr {
  color: black;
  background-color: black;
}
.rendered_html pre {
  margin: 1em 2em;
  padding: 0px;
  background-color: #fff;
}
.rendered_html code {
  background-color: #eff0f1;
}
.rendered_html p code {
  padding: 1px 5px;
}
.rendered_html pre code {
  background-color: #fff;
}
.rendered_html pre,
.rendered_html code {
  border: 0;
  color: #000;
  font-size: 100%;
}
.rendered_html blockquote {
  margin: 1em 2em;
}
.rendered_html table {
  margin-left: auto;
  margin-right: auto;
  border: none;
  border-collapse: collapse;
  border-spacing: 0;
  color: black;
  font-size: 12px;
  table-layout: fixed;
}
.rendered_html thead {
  border-bottom: 1px solid black;
  vertical-align: bottom;
}
.rendered_html tr,
.rendered_html th,
.rendered_html td {
  text-align: right;
  vertical-align: middle;
  padding: 0.5em 0.5em;
  line-height: normal;
  white-space: normal;
  max-width: none;
  border: none;
}
.rendered_html th {
  font-weight: bold;
}
.rendered_html tbody tr:nth-child(odd) {
  background: #f5f5f5;
}
.rendered_html tbody tr:hover {
  background: rgba(66, 165, 245, 0.2);
}
.rendered_html * + table {
  margin-top: 1em;
}
.rendered_html p {
  text-align: left;
}
.rendered_html * + p {
  margin-top: 1em;
}
.rendered_html img {
  display: block;
  margin-left: auto;
  margin-right: auto;
}
.rendered_html * + img {
  margin-top: 1em;
}
.rendered_html img,
.rendered_html svg {
  max-width: 100%;
  height: auto;
}
.rendered_html img.unconfined,
.rendered_html svg.unconfined {
  max-width: none;
}
.rendered_html .alert {
  margin-bottom: initial;
}
.rendered_html * + .alert {
  margin-top: 1em;
}
[dir="rtl"] .rendered_html p {
  text-align: right;
}
div.text_cell {
  /* Old browsers */
  display: -webkit-box;
  -webkit-box-orient: horizontal;
  -webkit-box-align: stretch;
  display: -moz-box;
  -moz-box-orient: horizontal;
  -moz-box-align: stretch;
  display: box;
  box-orient: horizontal;
  box-align: stretch;
  /* Modern browsers */
  display: flex;
  flex-direction: row;
  align-items: stretch;
}
@media (max-width: 540px) {
  div.text_cell > div.prompt {
    display: none;
  }
}
div.text_cell_render {
  /*font-family: "Helvetica Neue", Arial, Helvetica, Geneva, sans-serif;*/
  outline: none;
  resize: none;
  width: inherit;
  border-style: none;
  padding: 0.5em 0.5em 0.5em 0.4em;
  color: #000;
  box-sizing: border-box;
  -moz-box-sizing: border-box;
  -webkit-box-sizing: border-box;
}
a.anchor-link:link {
  text-decoration: none;
  padding: 0px 20px;
  visibility: hidden;
}
h1:hover .anchor-link,
h2:hover .anchor-link,
h3:hover .anchor-link,
h4:hover .anchor-link,
h5:hover .anchor-link,
h6:hover .anchor-link {
  visibility: visible;
}
.text_cell.rendered .input_area {
  display: none;
}
.text_cell.rendered .rendered_html {
  overflow-x: auto;
  overflow-y: hidden;
}
.text_cell.rendered .rendered_html tr,
.text_cell.rendered .rendered_html th,
.text_cell.rendered .rendered_html td {
  max-width: none;
}
.text_cell.unrendered .text_cell_render {
  display: none;
}
.text_cell .dropzone .input_area {
  border: 2px dashed #bababa;
  margin: -1px;
}
.cm-header-1,
.cm-header-2,
.cm-header-3,
.cm-header-4,
.cm-header-5,
.cm-header-6 {
  font-weight: bold;
  font-family: "Helvetica Neue", Helvetica, Arial, sans-serif;
}
.cm-header-1 {
  font-size: 185.7%;
}
.cm-header-2 {
  font-size: 157.1%;
}
.cm-header-3 {
  font-size: 128.6%;
}
.cm-header-4 {
  font-size: 110%;
}
.cm-header-5 {
  font-size: 100%;
  font-style: italic;
}
.cm-header-6 {
  font-size: 100%;
  font-style: italic;
}
/*!
*
* IPython notebook webapp
*
*/
@media (max-width: 767px) {
  .notebook_app {
    padding-left: 0px;
    padding-right: 0px;
  }
}
#ipython-main-app {
  box-sizing: border-box;
  -moz-box-sizing: border-box;
  -webkit-box-sizing: border-box;
  height: 100%;
}
div#notebook_panel {
  margin: 0px;
  padding: 0px;
  box-sizing: border-box;
  -moz-box-sizing: border-box;
  -webkit-box-sizing: border-box;
  height: 100%;
}
div#notebook {
  font-size: 14px;
  line-height: 20px;
  overflow-y: hidden;
  overflow-x: auto;
  width: 100%;
  /* This spaces the page away from the edge of the notebook area */
  padding-top: 20px;
  margin: 0px;
  outline: none;
  box-sizing: border-box;
  -moz-box-sizing: border-box;
  -webkit-box-sizing: border-box;
  min-height: 100%;
}
@media not print {
  #notebook-container {
    padding: 15px;
    background-color: #fff;
    min-height: 0;
    -webkit-box-shadow: 0px 0px 12px 1px rgba(87, 87, 87, 0.2);
    box-shadow: 0px 0px 12px 1px rgba(87, 87, 87, 0.2);
  }
}
@media print {
  #notebook-container {
    width: 100%;
  }
}
div.ui-widget-content {
  border: 1px solid #ababab;
  outline: none;
}
pre.dialog {
  background-color: #f7f7f7;
  border: 1px solid #ddd;
  border-radius: 2px;
  padding: 0.4em;
  padding-left: 2em;
}
p.dialog {
  padding: 0.2em;
}
/* Word-wrap output correctly.  This is the CSS3 spelling, though Firefox seems
   to not honor it correctly.  Webkit browsers (Chrome, rekonq, Safari) do.
 */
pre,
code,
kbd,
samp {
  white-space: pre-wrap;
}
#fonttest {
  font-family: monospace;
}
p {
  margin-bottom: 0;
}
.end_space {
  min-height: 100px;
  transition: height .2s ease;
}
.notebook_app > #header {
  -webkit-box-shadow: 0px 0px 12px 1px rgba(87, 87, 87, 0.2);
  box-shadow: 0px 0px 12px 1px rgba(87, 87, 87, 0.2);
}
@media not print {
  .notebook_app {
    background-color: #EEE;
  }
}
kbd {
  border-style: solid;
  border-width: 1px;
  box-shadow: none;
  margin: 2px;
  padding-left: 2px;
  padding-right: 2px;
  padding-top: 1px;
  padding-bottom: 1px;
}
.jupyter-keybindings {
  padding: 1px;
  line-height: 24px;
  border-bottom: 1px solid gray;
}
.jupyter-keybindings input {
  margin: 0;
  padding: 0;
  border: none;
}
.jupyter-keybindings i {
  padding: 6px;
}
.well code {
  background-color: #ffffff;
  border-color: #ababab;
  border-width: 1px;
  border-style: solid;
  padding: 2px;
  padding-top: 1px;
  padding-bottom: 1px;
}
/* CSS for the cell toolbar */
.celltoolbar {
  border: thin solid #CFCFCF;
  border-bottom: none;
  background: #EEE;
  border-radius: 2px 2px 0px 0px;
  width: 100%;
  height: 29px;
  padding-right: 4px;
  /* Old browsers */
  display: -webkit-box;
  -webkit-box-orient: horizontal;
  -webkit-box-align: stretch;
  display: -moz-box;
  -moz-box-orient: horizontal;
  -moz-box-align: stretch;
  display: box;
  box-orient: horizontal;
  box-align: stretch;
  /* Modern browsers */
  display: flex;
  flex-direction: row;
  align-items: stretch;
  /* Old browsers */
  -webkit-box-pack: end;
  -moz-box-pack: end;
  box-pack: end;
  /* Modern browsers */
  justify-content: flex-end;
  display: -webkit-flex;
}
@media print {
  .celltoolbar {
    display: none;
  }
}
.ctb_hideshow {
  display: none;
  vertical-align: bottom;
}
/* ctb_show is added to the ctb_hideshow div to show the cell toolbar.
   Cell toolbars are only shown when the ctb_global_show class is also set.
*/
.ctb_global_show .ctb_show.ctb_hideshow {
  display: block;
}
.ctb_global_show .ctb_show + .input_area,
.ctb_global_show .ctb_show + div.text_cell_input,
.ctb_global_show .ctb_show ~ div.text_cell_render {
  border-top-right-radius: 0px;
  border-top-left-radius: 0px;
}
.ctb_global_show .ctb_show ~ div.text_cell_render {
  border: 1px solid #cfcfcf;
}
.celltoolbar {
  font-size: 87%;
  padding-top: 3px;
}
.celltoolbar select {
  display: block;
  width: 100%;
  height: 32px;
  padding: 6px 12px;
  font-size: 13px;
  line-height: 1.42857143;
  color: #555555;
  background-color: #fff;
  background-image: none;
  border: 1px solid #ccc;
  border-radius: 2px;
  -webkit-box-shadow: inset 0 1px 1px rgba(0, 0, 0, 0.075);
  box-shadow: inset 0 1px 1px rgba(0, 0, 0, 0.075);
  -webkit-transition: border-color ease-in-out .15s, box-shadow ease-in-out .15s;
  -o-transition: border-color ease-in-out .15s, box-shadow ease-in-out .15s;
  transition: border-color ease-in-out .15s, box-shadow ease-in-out .15s;
  height: 30px;
  padding: 5px 10px;
  font-size: 12px;
  line-height: 1.5;
  border-radius: 1px;
  width: inherit;
  font-size: inherit;
  height: 22px;
  padding: 0px;
  display: inline-block;
}
.celltoolbar select:focus {
  border-color: #66afe9;
  outline: 0;
  -webkit-box-shadow: inset 0 1px 1px rgba(0,0,0,.075), 0 0 8px rgba(102, 175, 233, 0.6);
  box-shadow: inset 0 1px 1px rgba(0,0,0,.075), 0 0 8px rgba(102, 175, 233, 0.6);
}
.celltoolbar select::-moz-placeholder {
  color: #999;
  opacity: 1;
}
.celltoolbar select:-ms-input-placeholder {
  color: #999;
}
.celltoolbar select::-webkit-input-placeholder {
  color: #999;
}
.celltoolbar select::-ms-expand {
  border: 0;
  background-color: transparent;
}
.celltoolbar select[disabled],
.celltoolbar select[readonly],
fieldset[disabled] .celltoolbar select {
  background-color: #eeeeee;
  opacity: 1;
}
.celltoolbar select[disabled],
fieldset[disabled] .celltoolbar select {
  cursor: not-allowed;
}
textarea.celltoolbar select {
  height: auto;
}
select.celltoolbar select {
  height: 30px;
  line-height: 30px;
}
textarea.celltoolbar select,
select[multiple].celltoolbar select {
  height: auto;
}
.celltoolbar label {
  margin-left: 5px;
  margin-right: 5px;
}
.tags_button_container {
  width: 100%;
  display: flex;
}
.tag-container {
  display: flex;
  flex-direction: row;
  flex-grow: 1;
  overflow: hidden;
  position: relative;
}
.tag-container > * {
  margin: 0 4px;
}
.remove-tag-btn {
  margin-left: 4px;
}
.tags-input {
  display: flex;
}
.cell-tag:last-child:after {
  content: "";
  position: absolute;
  right: 0;
  width: 40px;
  height: 100%;
  /* Fade to background color of cell toolbar */
  background: linear-gradient(to right, rgba(0, 0, 0, 0), #EEE);
}
.tags-input > * {
  margin-left: 4px;
}
.cell-tag,
.tags-input input,
.tags-input button {
  display: block;
  width: 100%;
  height: 32px;
  padding: 6px 12px;
  font-size: 13px;
  line-height: 1.42857143;
  color: #555555;
  background-color: #fff;
  background-image: none;
  border: 1px solid #ccc;
  border-radius: 2px;
  -webkit-box-shadow: inset 0 1px 1px rgba(0, 0, 0, 0.075);
  box-shadow: inset 0 1px 1px rgba(0, 0, 0, 0.075);
  -webkit-transition: border-color ease-in-out .15s, box-shadow ease-in-out .15s;
  -o-transition: border-color ease-in-out .15s, box-shadow ease-in-out .15s;
  transition: border-color ease-in-out .15s, box-shadow ease-in-out .15s;
  height: 30px;
  padding: 5px 10px;
  font-size: 12px;
  line-height: 1.5;
  border-radius: 1px;
  box-shadow: none;
  width: inherit;
  font-size: inherit;
  height: 22px;
  line-height: 22px;
  padding: 0px 4px;
  display: inline-block;
}
.cell-tag:focus,
.tags-input input:focus,
.tags-input button:focus {
  border-color: #66afe9;
  outline: 0;
  -webkit-box-shadow: inset 0 1px 1px rgba(0,0,0,.075), 0 0 8px rgba(102, 175, 233, 0.6);
  box-shadow: inset 0 1px 1px rgba(0,0,0,.075), 0 0 8px rgba(102, 175, 233, 0.6);
}
.cell-tag::-moz-placeholder,
.tags-input input::-moz-placeholder,
.tags-input button::-moz-placeholder {
  color: #999;
  opacity: 1;
}
.cell-tag:-ms-input-placeholder,
.tags-input input:-ms-input-placeholder,
.tags-input button:-ms-input-placeholder {
  color: #999;
}
.cell-tag::-webkit-input-placeholder,
.tags-input input::-webkit-input-placeholder,
.tags-input button::-webkit-input-placeholder {
  color: #999;
}
.cell-tag::-ms-expand,
.tags-input input::-ms-expand,
.tags-input button::-ms-expand {
  border: 0;
  background-color: transparent;
}
.cell-tag[disabled],
.tags-input input[disabled],
.tags-input button[disabled],
.cell-tag[readonly],
.tags-input input[readonly],
.tags-input button[readonly],
fieldset[disabled] .cell-tag,
fieldset[disabled] .tags-input input,
fieldset[disabled] .tags-input button {
  background-color: #eeeeee;
  opacity: 1;
}
.cell-tag[disabled],
.tags-input input[disabled],
.tags-input button[disabled],
fieldset[disabled] .cell-tag,
fieldset[disabled] .tags-input input,
fieldset[disabled] .tags-input button {
  cursor: not-allowed;
}
textarea.cell-tag,
textarea.tags-input input,
textarea.tags-input button {
  height: auto;
}
select.cell-tag,
select.tags-input input,
select.tags-input button {
  height: 30px;
  line-height: 30px;
}
textarea.cell-tag,
textarea.tags-input input,
textarea.tags-input button,
select[multiple].cell-tag,
select[multiple].tags-input input,
select[multiple].tags-input button {
  height: auto;
}
.cell-tag,
.tags-input button {
  padding: 0px 4px;
}
.cell-tag {
  background-color: #fff;
  white-space: nowrap;
}
.tags-input input[type=text]:focus {
  outline: none;
  box-shadow: none;
  border-color: #ccc;
}
.completions {
  position: absolute;
  z-index: 110;
  overflow: hidden;
  border: 1px solid #ababab;
  border-radius: 2px;
  -webkit-box-shadow: 0px 6px 10px -1px #adadad;
  box-shadow: 0px 6px 10px -1px #adadad;
  line-height: 1;
}
.completions select {
  background: white;
  outline: none;
  border: none;
  padding: 0px;
  margin: 0px;
  overflow: auto;
  font-family: monospace;
  font-size: 110%;
  color: #000;
  width: auto;
}
.completions select option.context {
  color: #286090;
}
#kernel_logo_widget .current_kernel_logo {
  display: none;
  margin-top: -1px;
  margin-bottom: -1px;
  width: 32px;
  height: 32px;
}
[dir="rtl"] #kernel_logo_widget {
  float: left !important;
  float: left;
}
.modal .modal-body .move-path {
  display: flex;
  flex-direction: row;
  justify-content: space;
  align-items: center;
}
.modal .modal-body .move-path .server-root {
  padding-right: 20px;
}
.modal .modal-body .move-path .path-input {
  flex: 1;
}
#menubar {
  box-sizing: border-box;
  -moz-box-sizing: border-box;
  -webkit-box-sizing: border-box;
  margin-top: 1px;
}
#menubar .navbar {
  border-top: 1px;
  border-radius: 0px 0px 2px 2px;
  margin-bottom: 0px;
}
#menubar .navbar-toggle {
  float: left;
  padding-top: 7px;
  padding-bottom: 7px;
  border: none;
}
#menubar .navbar-collapse {
  clear: left;
}
[dir="rtl"] #menubar .navbar-toggle {
  float: right;
}
[dir="rtl"] #menubar .navbar-collapse {
  clear: right;
}
[dir="rtl"] #menubar .navbar-nav {
  float: right;
}
[dir="rtl"] #menubar .nav {
  padding-right: 0px;
}
[dir="rtl"] #menubar .navbar-nav > li {
  float: right;
}
[dir="rtl"] #menubar .navbar-right {
  float: left !important;
}
[dir="rtl"] ul.dropdown-menu {
  text-align: right;
  left: auto;
}
[dir="rtl"] ul#new-menu.dropdown-menu {
  right: auto;
  left: 0;
}
.nav-wrapper {
  border-bottom: 1px solid #e7e7e7;
}
i.menu-icon {
  padding-top: 4px;
}
[dir="rtl"] i.menu-icon.pull-right {
  float: left !important;
  float: left;
}
ul#help_menu li a {
  overflow: hidden;
  padding-right: 2.2em;
}
ul#help_menu li a i {
  margin-right: -1.2em;
}
[dir="rtl"] ul#help_menu li a {
  padding-left: 2.2em;
}
[dir="rtl"] ul#help_menu li a i {
  margin-right: 0;
  margin-left: -1.2em;
}
[dir="rtl"] ul#help_menu li a i.pull-right {
  float: left !important;
  float: left;
}
.dropdown-submenu {
  position: relative;
}
.dropdown-submenu > .dropdown-menu {
  top: 0;
  left: 100%;
  margin-top: -6px;
  margin-left: -1px;
}
[dir="rtl"] .dropdown-submenu > .dropdown-menu {
  right: 100%;
  margin-right: -1px;
}
.dropdown-submenu:hover > .dropdown-menu {
  display: block;
}
.dropdown-submenu > a:after {
  display: inline-block;
  font: normal normal normal 14px/1 FontAwesome;
  font-size: inherit;
  text-rendering: auto;
  -webkit-font-smoothing: antialiased;
  -moz-osx-font-smoothing: grayscale;
  display: block;
  content: "\f0da";
  float: right;
  color: #333333;
  margin-top: 2px;
  margin-right: -10px;
}
.dropdown-submenu > a:after.fa-pull-left {
  margin-right: .3em;
}
.dropdown-submenu > a:after.fa-pull-right {
  margin-left: .3em;
}
.dropdown-submenu > a:after.pull-left {
  margin-right: .3em;
}
.dropdown-submenu > a:after.pull-right {
  margin-left: .3em;
}
[dir="rtl"] .dropdown-submenu > a:after {
  float: left;
  content: "\f0d9";
  margin-right: 0;
  margin-left: -10px;
}
.dropdown-submenu:hover > a:after {
  color: #262626;
}
.dropdown-submenu.pull-left {
  float: none;
}
.dropdown-submenu.pull-left > .dropdown-menu {
  left: -100%;
  margin-left: 10px;
}
#notification_area {
  float: right !important;
  float: right;
  z-index: 10;
}
[dir="rtl"] #notification_area {
  float: left !important;
  float: left;
}
.indicator_area {
  float: right !important;
  float: right;
  color: #777;
  margin-left: 5px;
  margin-right: 5px;
  width: 11px;
  z-index: 10;
  text-align: center;
  width: auto;
}
[dir="rtl"] .indicator_area {
  float: left !important;
  float: left;
}
#kernel_indicator {
  float: right !important;
  float: right;
  color: #777;
  margin-left: 5px;
  margin-right: 5px;
  width: 11px;
  z-index: 10;
  text-align: center;
  width: auto;
  border-left: 1px solid;
}
#kernel_indicator .kernel_indicator_name {
  padding-left: 5px;
  padding-right: 5px;
}
[dir="rtl"] #kernel_indicator {
  float: left !important;
  float: left;
  border-left: 0;
  border-right: 1px solid;
}
#modal_indicator {
  float: right !important;
  float: right;
  color: #777;
  margin-left: 5px;
  margin-right: 5px;
  width: 11px;
  z-index: 10;
  text-align: center;
  width: auto;
}
[dir="rtl"] #modal_indicator {
  float: left !important;
  float: left;
}
#readonly-indicator {
  float: right !important;
  float: right;
  color: #777;
  margin-left: 5px;
  margin-right: 5px;
  width: 11px;
  z-index: 10;
  text-align: center;
  width: auto;
  margin-top: 2px;
  margin-bottom: 0px;
  margin-left: 0px;
  margin-right: 0px;
  display: none;
}
.modal_indicator:before {
  width: 1.28571429em;
  text-align: center;
}
.edit_mode .modal_indicator:before {
  display: inline-block;
  font: normal normal normal 14px/1 FontAwesome;
  font-size: inherit;
  text-rendering: auto;
  -webkit-font-smoothing: antialiased;
  -moz-osx-font-smoothing: grayscale;
  content: "\f040";
}
.edit_mode .modal_indicator:before.fa-pull-left {
  margin-right: .3em;
}
.edit_mode .modal_indicator:before.fa-pull-right {
  margin-left: .3em;
}
.edit_mode .modal_indicator:before.pull-left {
  margin-right: .3em;
}
.edit_mode .modal_indicator:before.pull-right {
  margin-left: .3em;
}
.command_mode .modal_indicator:before {
  display: inline-block;
  font: normal normal normal 14px/1 FontAwesome;
  font-size: inherit;
  text-rendering: auto;
  -webkit-font-smoothing: antialiased;
  -moz-osx-font-smoothing: grayscale;
  content: ' ';
}
.command_mode .modal_indicator:before.fa-pull-left {
  margin-right: .3em;
}
.command_mode .modal_indicator:before.fa-pull-right {
  margin-left: .3em;
}
.command_mode .modal_indicator:before.pull-left {
  margin-right: .3em;
}
.command_mode .modal_indicator:before.pull-right {
  margin-left: .3em;
}
.kernel_idle_icon:before {
  display: inline-block;
  font: normal normal normal 14px/1 FontAwesome;
  font-size: inherit;
  text-rendering: auto;
  -webkit-font-smoothing: antialiased;
  -moz-osx-font-smoothing: grayscale;
  content: "\f10c";
}
.kernel_idle_icon:before.fa-pull-left {
  margin-right: .3em;
}
.kernel_idle_icon:before.fa-pull-right {
  margin-left: .3em;
}
.kernel_idle_icon:before.pull-left {
  margin-right: .3em;
}
.kernel_idle_icon:before.pull-right {
  margin-left: .3em;
}
.kernel_busy_icon:before {
  display: inline-block;
  font: normal normal normal 14px/1 FontAwesome;
  font-size: inherit;
  text-rendering: auto;
  -webkit-font-smoothing: antialiased;
  -moz-osx-font-smoothing: grayscale;
  content: "\f111";
}
.kernel_busy_icon:before.fa-pull-left {
  margin-right: .3em;
}
.kernel_busy_icon:before.fa-pull-right {
  margin-left: .3em;
}
.kernel_busy_icon:before.pull-left {
  margin-right: .3em;
}
.kernel_busy_icon:before.pull-right {
  margin-left: .3em;
}
.kernel_dead_icon:before {
  display: inline-block;
  font: normal normal normal 14px/1 FontAwesome;
  font-size: inherit;
  text-rendering: auto;
  -webkit-font-smoothing: antialiased;
  -moz-osx-font-smoothing: grayscale;
  content: "\f1e2";
}
.kernel_dead_icon:before.fa-pull-left {
  margin-right: .3em;
}
.kernel_dead_icon:before.fa-pull-right {
  margin-left: .3em;
}
.kernel_dead_icon:before.pull-left {
  margin-right: .3em;
}
.kernel_dead_icon:before.pull-right {
  margin-left: .3em;
}
.kernel_disconnected_icon:before {
  display: inline-block;
  font: normal normal normal 14px/1 FontAwesome;
  font-size: inherit;
  text-rendering: auto;
  -webkit-font-smoothing: antialiased;
  -moz-osx-font-smoothing: grayscale;
  content: "\f127";
}
.kernel_disconnected_icon:before.fa-pull-left {
  margin-right: .3em;
}
.kernel_disconnected_icon:before.fa-pull-right {
  margin-left: .3em;
}
.kernel_disconnected_icon:before.pull-left {
  margin-right: .3em;
}
.kernel_disconnected_icon:before.pull-right {
  margin-left: .3em;
}
.notification_widget {
  color: #777;
  z-index: 10;
  background: rgba(240, 240, 240, 0.5);
  margin-right: 4px;
  color: #333;
  background-color: #fff;
  border-color: #ccc;
}
.notification_widget:focus,
.notification_widget.focus {
  color: #333;
  background-color: #e6e6e6;
  border-color: #8c8c8c;
}
.notification_widget:hover {
  color: #333;
  background-color: #e6e6e6;
  border-color: #adadad;
}
.notification_widget:active,
.notification_widget.active,
.open > .dropdown-toggle.notification_widget {
  color: #333;
  background-color: #e6e6e6;
  border-color: #adadad;
}
.notification_widget:active:hover,
.notification_widget.active:hover,
.open > .dropdown-toggle.notification_widget:hover,
.notification_widget:active:focus,
.notification_widget.active:focus,
.open > .dropdown-toggle.notification_widget:focus,
.notification_widget:active.focus,
.notification_widget.active.focus,
.open > .dropdown-toggle.notification_widget.focus {
  color: #333;
  background-color: #d4d4d4;
  border-color: #8c8c8c;
}
.notification_widget:active,
.notification_widget.active,
.open > .dropdown-toggle.notification_widget {
  background-image: none;
}
.notification_widget.disabled:hover,
.notification_widget[disabled]:hover,
fieldset[disabled] .notification_widget:hover,
.notification_widget.disabled:focus,
.notification_widget[disabled]:focus,
fieldset[disabled] .notification_widget:focus,
.notification_widget.disabled.focus,
.notification_widget[disabled].focus,
fieldset[disabled] .notification_widget.focus {
  background-color: #fff;
  border-color: #ccc;
}
.notification_widget .badge {
  color: #fff;
  background-color: #333;
}
.notification_widget.warning {
  color: #fff;
  background-color: #f0ad4e;
  border-color: #eea236;
}
.notification_widget.warning:focus,
.notification_widget.warning.focus {
  color: #fff;
  background-color: #ec971f;
  border-color: #985f0d;
}
.notification_widget.warning:hover {
  color: #fff;
  background-color: #ec971f;
  border-color: #d58512;
}
.notification_widget.warning:active,
.notification_widget.warning.active,
.open > .dropdown-toggle.notification_widget.warning {
  color: #fff;
  background-color: #ec971f;
  border-color: #d58512;
}
.notification_widget.warning:active:hover,
.notification_widget.warning.active:hover,
.open > .dropdown-toggle.notification_widget.warning:hover,
.notification_widget.warning:active:focus,
.notification_widget.warning.active:focus,
.open > .dropdown-toggle.notification_widget.warning:focus,
.notification_widget.warning:active.focus,
.notification_widget.warning.active.focus,
.open > .dropdown-toggle.notification_widget.warning.focus {
  color: #fff;
  background-color: #d58512;
  border-color: #985f0d;
}
.notification_widget.warning:active,
.notification_widget.warning.active,
.open > .dropdown-toggle.notification_widget.warning {
  background-image: none;
}
.notification_widget.warning.disabled:hover,
.notification_widget.warning[disabled]:hover,
fieldset[disabled] .notification_widget.warning:hover,
.notification_widget.warning.disabled:focus,
.notification_widget.warning[disabled]:focus,
fieldset[disabled] .notification_widget.warning:focus,
.notification_widget.warning.disabled.focus,
.notification_widget.warning[disabled].focus,
fieldset[disabled] .notification_widget.warning.focus {
  background-color: #f0ad4e;
  border-color: #eea236;
}
.notification_widget.warning .badge {
  color: #f0ad4e;
  background-color: #fff;
}
.notification_widget.success {
  color: #fff;
  background-color: #5cb85c;
  border-color: #4cae4c;
}
.notification_widget.success:focus,
.notification_widget.success.focus {
  color: #fff;
  background-color: #449d44;
  border-color: #255625;
}
.notification_widget.success:hover {
  color: #fff;
  background-color: #449d44;
  border-color: #398439;
}
.notification_widget.success:active,
.notification_widget.success.active,
.open > .dropdown-toggle.notification_widget.success {
  color: #fff;
  background-color: #449d44;
  border-color: #398439;
}
.notification_widget.success:active:hover,
.notification_widget.success.active:hover,
.open > .dropdown-toggle.notification_widget.success:hover,
.notification_widget.success:active:focus,
.notification_widget.success.active:focus,
.open > .dropdown-toggle.notification_widget.success:focus,
.notification_widget.success:active.focus,
.notification_widget.success.active.focus,
.open > .dropdown-toggle.notification_widget.success.focus {
  color: #fff;
  background-color: #398439;
  border-color: #255625;
}
.notification_widget.success:active,
.notification_widget.success.active,
.open > .dropdown-toggle.notification_widget.success {
  background-image: none;
}
.notification_widget.success.disabled:hover,
.notification_widget.success[disabled]:hover,
fieldset[disabled] .notification_widget.success:hover,
.notification_widget.success.disabled:focus,
.notification_widget.success[disabled]:focus,
fieldset[disabled] .notification_widget.success:focus,
.notification_widget.success.disabled.focus,
.notification_widget.success[disabled].focus,
fieldset[disabled] .notification_widget.success.focus {
  background-color: #5cb85c;
  border-color: #4cae4c;
}
.notification_widget.success .badge {
  color: #5cb85c;
  background-color: #fff;
}
.notification_widget.info {
  color: #fff;
  background-color: #5bc0de;
  border-color: #46b8da;
}
.notification_widget.info:focus,
.notification_widget.info.focus {
  color: #fff;
  background-color: #31b0d5;
  border-color: #1b6d85;
}
.notification_widget.info:hover {
  color: #fff;
  background-color: #31b0d5;
  border-color: #269abc;
}
.notification_widget.info:active,
.notification_widget.info.active,
.open > .dropdown-toggle.notification_widget.info {
  color: #fff;
  background-color: #31b0d5;
  border-color: #269abc;
}
.notification_widget.info:active:hover,
.notification_widget.info.active:hover,
.open > .dropdown-toggle.notification_widget.info:hover,
.notification_widget.info:active:focus,
.notification_widget.info.active:focus,
.open > .dropdown-toggle.notification_widget.info:focus,
.notification_widget.info:active.focus,
.notification_widget.info.active.focus,
.open > .dropdown-toggle.notification_widget.info.focus {
  color: #fff;
  background-color: #269abc;
  border-color: #1b6d85;
}
.notification_widget.info:active,
.notification_widget.info.active,
.open > .dropdown-toggle.notification_widget.info {
  background-image: none;
}
.notification_widget.info.disabled:hover,
.notification_widget.info[disabled]:hover,
fieldset[disabled] .notification_widget.info:hover,
.notification_widget.info.disabled:focus,
.notification_widget.info[disabled]:focus,
fieldset[disabled] .notification_widget.info:focus,
.notification_widget.info.disabled.focus,
.notification_widget.info[disabled].focus,
fieldset[disabled] .notification_widget.info.focus {
  background-color: #5bc0de;
  border-color: #46b8da;
}
.notification_widget.info .badge {
  color: #5bc0de;
  background-color: #fff;
}
.notification_widget.danger {
  color: #fff;
  background-color: #d9534f;
  border-color: #d43f3a;
}
.notification_widget.danger:focus,
.notification_widget.danger.focus {
  color: #fff;
  background-color: #c9302c;
  border-color: #761c19;
}
.notification_widget.danger:hover {
  color: #fff;
  background-color: #c9302c;
  border-color: #ac2925;
}
.notification_widget.danger:active,
.notification_widget.danger.active,
.open > .dropdown-toggle.notification_widget.danger {
  color: #fff;
  background-color: #c9302c;
  border-color: #ac2925;
}
.notification_widget.danger:active:hover,
.notification_widget.danger.active:hover,
.open > .dropdown-toggle.notification_widget.danger:hover,
.notification_widget.danger:active:focus,
.notification_widget.danger.active:focus,
.open > .dropdown-toggle.notification_widget.danger:focus,
.notification_widget.danger:active.focus,
.notification_widget.danger.active.focus,
.open > .dropdown-toggle.notification_widget.danger.focus {
  color: #fff;
  background-color: #ac2925;
  border-color: #761c19;
}
.notification_widget.danger:active,
.notification_widget.danger.active,
.open > .dropdown-toggle.notification_widget.danger {
  background-image: none;
}
.notification_widget.danger.disabled:hover,
.notification_widget.danger[disabled]:hover,
fieldset[disabled] .notification_widget.danger:hover,
.notification_widget.danger.disabled:focus,
.notification_widget.danger[disabled]:focus,
fieldset[disabled] .notification_widget.danger:focus,
.notification_widget.danger.disabled.focus,
.notification_widget.danger[disabled].focus,
fieldset[disabled] .notification_widget.danger.focus {
  background-color: #d9534f;
  border-color: #d43f3a;
}
.notification_widget.danger .badge {
  color: #d9534f;
  background-color: #fff;
}
div#pager {
  background-color: #fff;
  font-size: 14px;
  line-height: 20px;
  overflow: hidden;
  display: none;
  position: fixed;
  bottom: 0px;
  width: 100%;
  max-height: 50%;
  padding-top: 8px;
  -webkit-box-shadow: 0px 0px 12px 1px rgba(87, 87, 87, 0.2);
  box-shadow: 0px 0px 12px 1px rgba(87, 87, 87, 0.2);
  /* Display over codemirror */
  z-index: 100;
  /* Hack which prevents jquery ui resizable from changing top. */
  top: auto !important;
}
div#pager pre {
  line-height: 1.21429em;
  color: #000;
  background-color: #f7f7f7;
  padding: 0.4em;
}
div#pager #pager-button-area {
  position: absolute;
  top: 8px;
  right: 20px;
}
div#pager #pager-contents {
  position: relative;
  overflow: auto;
  width: 100%;
  height: 100%;
}
div#pager #pager-contents #pager-container {
  position: relative;
  padding: 15px 0px;
  box-sizing: border-box;
  -moz-box-sizing: border-box;
  -webkit-box-sizing: border-box;
}
div#pager .ui-resizable-handle {
  top: 0px;
  height: 8px;
  background: #f7f7f7;
  border-top: 1px solid #cfcfcf;
  border-bottom: 1px solid #cfcfcf;
  /* This injects handle bars (a short, wide = symbol) for 
        the resize handle. */
}
div#pager .ui-resizable-handle::after {
  content: '';
  top: 2px;
  left: 50%;
  height: 3px;
  width: 30px;
  margin-left: -15px;
  position: absolute;
  border-top: 1px solid #cfcfcf;
}
.quickhelp {
  /* Old browsers */
  display: -webkit-box;
  -webkit-box-orient: horizontal;
  -webkit-box-align: stretch;
  display: -moz-box;
  -moz-box-orient: horizontal;
  -moz-box-align: stretch;
  display: box;
  box-orient: horizontal;
  box-align: stretch;
  /* Modern browsers */
  display: flex;
  flex-direction: row;
  align-items: stretch;
  line-height: 1.8em;
}
.shortcut_key {
  display: inline-block;
  width: 21ex;
  text-align: right;
  font-family: monospace;
}
.shortcut_descr {
  display: inline-block;
  /* Old browsers */
  -webkit-box-flex: 1;
  -moz-box-flex: 1;
  box-flex: 1;
  /* Modern browsers */
  flex: 1;
}
span.save_widget {
  height: 30px;
  margin-top: 4px;
  display: flex;
  justify-content: flex-start;
  align-items: baseline;
  width: 50%;
  flex: 1;
}
span.save_widget span.filename {
  height: 100%;
  line-height: 1em;
  margin-left: 16px;
  border: none;
  font-size: 146.5%;
  text-overflow: ellipsis;
  overflow: hidden;
  white-space: nowrap;
  border-radius: 2px;
}
span.save_widget span.filename:hover {
  background-color: #e6e6e6;
}
[dir="rtl"] span.save_widget.pull-left {
  float: right !important;
  float: right;
}
[dir="rtl"] span.save_widget span.filename {
  margin-left: 0;
  margin-right: 16px;
}
span.checkpoint_status,
span.autosave_status {
  font-size: small;
  white-space: nowrap;
  padding: 0 5px;
}
@media (max-width: 767px) {
  span.save_widget {
    font-size: small;
    padding: 0 0 0 5px;
  }
  span.checkpoint_status,
  span.autosave_status {
    display: none;
  }
}
@media (min-width: 768px) and (max-width: 991px) {
  span.checkpoint_status {
    display: none;
  }
  span.autosave_status {
    font-size: x-small;
  }
}
.toolbar {
  padding: 0px;
  margin-left: -5px;
  margin-top: 2px;
  margin-bottom: 5px;
  box-sizing: border-box;
  -moz-box-sizing: border-box;
  -webkit-box-sizing: border-box;
}
.toolbar select,
.toolbar label {
  width: auto;
  vertical-align: middle;
  margin-right: 2px;
  margin-bottom: 0px;
  display: inline;
  font-size: 92%;
  margin-left: 0.3em;
  margin-right: 0.3em;
  padding: 0px;
  padding-top: 3px;
}
.toolbar .btn {
  padding: 2px 8px;
}
.toolbar .btn-group {
  margin-top: 0px;
  margin-left: 5px;
}
.toolbar-btn-label {
  margin-left: 6px;
}
#maintoolbar {
  margin-bottom: -3px;
  margin-top: -8px;
  border: 0px;
  min-height: 27px;
  margin-left: 0px;
  padding-top: 11px;
  padding-bottom: 3px;
}
#maintoolbar .navbar-text {
  float: none;
  vertical-align: middle;
  text-align: right;
  margin-left: 5px;
  margin-right: 0px;
  margin-top: 0px;
}
.select-xs {
  height: 24px;
}
[dir="rtl"] .btn-group > .btn,
.btn-group-vertical > .btn {
  float: right;
}
.pulse,
.dropdown-menu > li > a.pulse,
li.pulse > a.dropdown-toggle,
li.pulse.open > a.dropdown-toggle {
  background-color: #F37626;
  color: white;
}
/**
 * Primary styles
 *
 * Author: Jupyter Development Team
 */
/** WARNING IF YOU ARE EDITTING THIS FILE, if this is a .css file, It has a lot
 * of chance of beeing generated from the ../less/[samename].less file, you can
 * try to get back the less file by reverting somme commit in history
 **/
/*
 * We'll try to get something pretty, so we
 * have some strange css to have the scroll bar on
 * the left with fix button on the top right of the tooltip
 */
@-moz-keyframes fadeOut {
  from {
    opacity: 1;
  }
  to {
    opacity: 0;
  }
}
@-webkit-keyframes fadeOut {
  from {
    opacity: 1;
  }
  to {
    opacity: 0;
  }
}
@-moz-keyframes fadeIn {
  from {
    opacity: 0;
  }
  to {
    opacity: 1;
  }
}
@-webkit-keyframes fadeIn {
  from {
    opacity: 0;
  }
  to {
    opacity: 1;
  }
}
/*properties of tooltip after "expand"*/
.bigtooltip {
  overflow: auto;
  height: 200px;
  -webkit-transition-property: height;
  -webkit-transition-duration: 500ms;
  -moz-transition-property: height;
  -moz-transition-duration: 500ms;
  transition-property: height;
  transition-duration: 500ms;
}
/*properties of tooltip before "expand"*/
.smalltooltip {
  -webkit-transition-property: height;
  -webkit-transition-duration: 500ms;
  -moz-transition-property: height;
  -moz-transition-duration: 500ms;
  transition-property: height;
  transition-duration: 500ms;
  text-overflow: ellipsis;
  overflow: hidden;
  height: 80px;
}
.tooltipbuttons {
  position: absolute;
  padding-right: 15px;
  top: 0px;
  right: 0px;
}
.tooltiptext {
  /*avoid the button to overlap on some docstring*/
  padding-right: 30px;
}
.ipython_tooltip {
  max-width: 700px;
  /*fade-in animation when inserted*/
  -webkit-animation: fadeOut 400ms;
  -moz-animation: fadeOut 400ms;
  animation: fadeOut 400ms;
  -webkit-animation: fadeIn 400ms;
  -moz-animation: fadeIn 400ms;
  animation: fadeIn 400ms;
  vertical-align: middle;
  background-color: #f7f7f7;
  overflow: visible;
  border: #ababab 1px solid;
  outline: none;
  padding: 3px;
  margin: 0px;
  padding-left: 7px;
  font-family: monospace;
  min-height: 50px;
  -moz-box-shadow: 0px 6px 10px -1px #adadad;
  -webkit-box-shadow: 0px 6px 10px -1px #adadad;
  box-shadow: 0px 6px 10px -1px #adadad;
  border-radius: 2px;
  position: absolute;
  z-index: 1000;
}
.ipython_tooltip a {
  float: right;
}
.ipython_tooltip .tooltiptext pre {
  border: 0;
  border-radius: 0;
  font-size: 100%;
  background-color: #f7f7f7;
}
.pretooltiparrow {
  left: 0px;
  margin: 0px;
  top: -16px;
  width: 40px;
  height: 16px;
  overflow: hidden;
  position: absolute;
}
.pretooltiparrow:before {
  background-color: #f7f7f7;
  border: 1px #ababab solid;
  z-index: 11;
  content: "";
  position: absolute;
  left: 15px;
  top: 10px;
  width: 25px;
  height: 25px;
  -webkit-transform: rotate(45deg);
  -moz-transform: rotate(45deg);
  -ms-transform: rotate(45deg);
  -o-transform: rotate(45deg);
}
ul.typeahead-list i {
  margin-left: -10px;
  width: 18px;
}
[dir="rtl"] ul.typeahead-list i {
  margin-left: 0;
  margin-right: -10px;
}
ul.typeahead-list {
  max-height: 80vh;
  overflow: auto;
}
ul.typeahead-list > li > a {
  /** Firefox bug **/
  /* see https://github.com/jupyter/notebook/issues/559 */
  white-space: normal;
}
ul.typeahead-list  > li > a.pull-right {
  float: left !important;
  float: left;
}
[dir="rtl"] .typeahead-list {
  text-align: right;
}
.cmd-palette .modal-body {
  padding: 7px;
}
.cmd-palette form {
  background: white;
}
.cmd-palette input {
  outline: none;
}
.no-shortcut {
  min-width: 20px;
  color: transparent;
}
[dir="rtl"] .no-shortcut.pull-right {
  float: left !important;
  float: left;
}
[dir="rtl"] .command-shortcut.pull-right {
  float: left !important;
  float: left;
}
.command-shortcut:before {
  content: "(command mode)";
  padding-right: 3px;
  color: #777777;
}
.edit-shortcut:before {
  content: "(edit)";
  padding-right: 3px;
  color: #777777;
}
[dir="rtl"] .edit-shortcut.pull-right {
  float: left !important;
  float: left;
}
#find-and-replace #replace-preview .match,
#find-and-replace #replace-preview .insert {
  background-color: #BBDEFB;
  border-color: #90CAF9;
  border-style: solid;
  border-width: 1px;
  border-radius: 0px;
}
[dir="ltr"] #find-and-replace .input-group-btn + .form-control {
  border-left: none;
}
[dir="rtl"] #find-and-replace .input-group-btn + .form-control {
  border-right: none;
}
#find-and-replace #replace-preview .replace .match {
  background-color: #FFCDD2;
  border-color: #EF9A9A;
  border-radius: 0px;
}
#find-and-replace #replace-preview .replace .insert {
  background-color: #C8E6C9;
  border-color: #A5D6A7;
  border-radius: 0px;
}
#find-and-replace #replace-preview {
  max-height: 60vh;
  overflow: auto;
}
#find-and-replace #replace-preview pre {
  padding: 5px 10px;
}
.terminal-app {
  background: #EEE;
}
.terminal-app #header {
  background: #fff;
  -webkit-box-shadow: 0px 0px 12px 1px rgba(87, 87, 87, 0.2);
  box-shadow: 0px 0px 12px 1px rgba(87, 87, 87, 0.2);
}
.terminal-app .terminal {
  width: 100%;
  float: left;
  font-family: monospace;
  color: white;
  background: black;
  padding: 0.4em;
  border-radius: 2px;
  -webkit-box-shadow: 0px 0px 12px 1px rgba(87, 87, 87, 0.4);
  box-shadow: 0px 0px 12px 1px rgba(87, 87, 87, 0.4);
}
.terminal-app .terminal,
.terminal-app .terminal dummy-screen {
  line-height: 1em;
  font-size: 14px;
}
.terminal-app .terminal .xterm-rows {
  padding: 10px;
}
.terminal-app .terminal-cursor {
  color: black;
  background: white;
}
.terminal-app #terminado-container {
  margin-top: 20px;
}
/*# sourceMappingURL=style.min.css.map */
    </style>
<style type="text/css">
    .highlight .hll { background-color: #ffffcc }
.highlight  { background: #f8f8f8; }
.highlight .c { color: #408080; font-style: italic } /* Comment */
.highlight .err { border: 1px solid #FF0000 } /* Error */
.highlight .k { color: #008000; font-weight: bold } /* Keyword */
.highlight .o { color: #666666 } /* Operator */
.highlight .ch { color: #408080; font-style: italic } /* Comment.Hashbang */
.highlight .cm { color: #408080; font-style: italic } /* Comment.Multiline */
.highlight .cp { color: #BC7A00 } /* Comment.Preproc */
.highlight .cpf { color: #408080; font-style: italic } /* Comment.PreprocFile */
.highlight .c1 { color: #408080; font-style: italic } /* Comment.Single */
.highlight .cs { color: #408080; font-style: italic } /* Comment.Special */
.highlight .gd { color: #A00000 } /* Generic.Deleted */
.highlight .ge { font-style: italic } /* Generic.Emph */
.highlight .gr { color: #FF0000 } /* Generic.Error */
.highlight .gh { color: #000080; font-weight: bold } /* Generic.Heading */
.highlight .gi { color: #00A000 } /* Generic.Inserted */
.highlight .go { color: #888888 } /* Generic.Output */
.highlight .gp { color: #000080; font-weight: bold } /* Generic.Prompt */
.highlight .gs { font-weight: bold } /* Generic.Strong */
.highlight .gu { color: #800080; font-weight: bold } /* Generic.Subheading */
.highlight .gt { color: #0044DD } /* Generic.Traceback */
.highlight .kc { color: #008000; font-weight: bold } /* Keyword.Constant */
.highlight .kd { color: #008000; font-weight: bold } /* Keyword.Declaration */
.highlight .kn { color: #008000; font-weight: bold } /* Keyword.Namespace */
.highlight .kp { color: #008000 } /* Keyword.Pseudo */
.highlight .kr { color: #008000; font-weight: bold } /* Keyword.Reserved */
.highlight .kt { color: #B00040 } /* Keyword.Type */
.highlight .m { color: #666666 } /* Literal.Number */
.highlight .s { color: #BA2121 } /* Literal.String */
.highlight .na { color: #7D9029 } /* Name.Attribute */
.highlight .nb { color: #008000 } /* Name.Builtin */
.highlight .nc { color: #0000FF; font-weight: bold } /* Name.Class */
.highlight .no { color: #880000 } /* Name.Constant */
.highlight .nd { color: #AA22FF } /* Name.Decorator */
.highlight .ni { color: #999999; font-weight: bold } /* Name.Entity */
.highlight .ne { color: #D2413A; font-weight: bold } /* Name.Exception */
.highlight .nf { color: #0000FF } /* Name.Function */
.highlight .nl { color: #A0A000 } /* Name.Label */
.highlight .nn { color: #0000FF; font-weight: bold } /* Name.Namespace */
.highlight .nt { color: #008000; font-weight: bold } /* Name.Tag */
.highlight .nv { color: #19177C } /* Name.Variable */
.highlight .ow { color: #AA22FF; font-weight: bold } /* Operator.Word */
.highlight .w { color: #bbbbbb } /* Text.Whitespace */
.highlight .mb { color: #666666 } /* Literal.Number.Bin */
.highlight .mf { color: #666666 } /* Literal.Number.Float */
.highlight .mh { color: #666666 } /* Literal.Number.Hex */
.highlight .mi { color: #666666 } /* Literal.Number.Integer */
.highlight .mo { color: #666666 } /* Literal.Number.Oct */
.highlight .sa { color: #BA2121 } /* Literal.String.Affix */
.highlight .sb { color: #BA2121 } /* Literal.String.Backtick */
.highlight .sc { color: #BA2121 } /* Literal.String.Char */
.highlight .dl { color: #BA2121 } /* Literal.String.Delimiter */
.highlight .sd { color: #BA2121; font-style: italic } /* Literal.String.Doc */
.highlight .s2 { color: #BA2121 } /* Literal.String.Double */
.highlight .se { color: #BB6622; font-weight: bold } /* Literal.String.Escape */
.highlight .sh { color: #BA2121 } /* Literal.String.Heredoc */
.highlight .si { color: #BB6688; font-weight: bold } /* Literal.String.Interpol */
.highlight .sx { color: #008000 } /* Literal.String.Other */
.highlight .sr { color: #BB6688 } /* Literal.String.Regex */
.highlight .s1 { color: #BA2121 } /* Literal.String.Single */
.highlight .ss { color: #19177C } /* Literal.String.Symbol */
.highlight .bp { color: #008000 } /* Name.Builtin.Pseudo */
.highlight .fm { color: #0000FF } /* Name.Function.Magic */
.highlight .vc { color: #19177C } /* Name.Variable.Class */
.highlight .vg { color: #19177C } /* Name.Variable.Global */
.highlight .vi { color: #19177C } /* Name.Variable.Instance */
.highlight .vm { color: #19177C } /* Name.Variable.Magic */
.highlight .il { color: #666666 } /* Literal.Number.Integer.Long */
    </style>


<style type="text/css">
/* Overrides of notebook CSS for static HTML export */
body {
  overflow: visible;
  padding: 8px;
}

div#notebook {
  overflow: visible;
  border-top: none;
}@media print {
  div.cell {
    display: block;
    page-break-inside: avoid;
  } 
  div.output_wrapper { 
    display: block;
    page-break-inside: avoid; 
  }
  div.output { 
    display: block;
    page-break-inside: avoid; 
  }
}
</style>

<!-- Custom stylesheet, it must be in the same directory as the html file -->
<link rel="stylesheet" href="custom.css">

<!-- Loading mathjax macro -->
<!-- Load mathjax -->
    <script src="https://cdnjs.cloudflare.com/ajax/libs/mathjax/2.7.5/latest.js?config=TeX-AMS_HTML"></script>
    <!-- MathJax configuration -->
    <script type="text/x-mathjax-config">
    MathJax.Hub.Config({
        tex2jax: {
            inlineMath: [ ['$','$'], ["\\(","\\)"] ],
            displayMath: [ ['$$','$$'], ["\\[","\\]"] ],
            processEscapes: true,
            processEnvironments: true
        },
        // Center justify equations in code and markdown cells. Elsewhere
        // we use CSS to left justify single line equations in code cells.
        displayAlign: 'center',
        "HTML-CSS": {
            styles: {'.MathJax_Display': {"margin": 0}},
            linebreaks: { automatic: true }
        }
    });
    </script>
    <!-- End of mathjax configuration --></head>
<body>
  <div tabindex="-1" id="notebook" class="border-box-sizing">
    <div class="container" id="notebook-container">

<div class="cell border-box-sizing code_cell rendered">
<div class="input">
<div class="prompt input_prompt">In&nbsp;[1]:</div>
<div class="inner_cell">
    <div class="input_area">
<div class=" highlight hl-ipython3"><pre><span></span><span class="kn">import</span> <span class="nn">numpy</span> <span class="k">as</span> <span class="nn">np</span>
<span class="kn">import</span> <span class="nn">pandas</span> <span class="k">as</span> <span class="nn">pd</span>
<span class="kn">import</span> <span class="nn">matplotlib.pyplot</span> <span class="k">as</span> <span class="nn">plt</span>
<span class="kn">import</span> <span class="nn">seaborn</span> <span class="k">as</span> <span class="nn">sns</span>
<span class="kn">from</span> <span class="nn">sklearn.model_selection</span> <span class="kn">import</span> <span class="n">GridSearchCV</span>
</pre></div>

    </div>
</div>
</div>

</div>
<div class="cell border-box-sizing code_cell rendered">
<div class="input">
<div class="prompt input_prompt">In&nbsp;[2]:</div>
<div class="inner_cell">
    <div class="input_area">
<div class=" highlight hl-ipython3"><pre><span></span><span class="n">df</span> <span class="o">=</span> <span class="n">pd</span><span class="o">.</span><span class="n">read_csv</span><span class="p">(</span><span class="s1">&#39;parkinsons.data&#39;</span><span class="p">)</span>
<span class="n">df</span>
</pre></div>

    </div>
</div>
</div>

<div class="output_wrapper">
<div class="output">


<div class="output_area">

    <div class="prompt output_prompt">Out[2]:</div>



<div class="output_html rendered_html output_subarea output_execute_result">
<div>
<style scoped>
    .dataframe tbody tr th:only-of-type {
        vertical-align: middle;
    }

    .dataframe tbody tr th {
        vertical-align: top;
    }

    .dataframe thead th {
        text-align: right;
    }
</style>
<table border="1" class="dataframe">
  <thead>
    <tr style="text-align: right;">
      <th></th>
      <th>name</th>
      <th>MDVP:Fo(Hz)</th>
      <th>MDVP:Fhi(Hz)</th>
      <th>MDVP:Flo(Hz)</th>
      <th>MDVP:Jitter(%)</th>
      <th>MDVP:Jitter(Abs)</th>
      <th>MDVP:RAP</th>
      <th>MDVP:PPQ</th>
      <th>Jitter:DDP</th>
      <th>MDVP:Shimmer</th>
      <th>...</th>
      <th>Shimmer:DDA</th>
      <th>NHR</th>
      <th>HNR</th>
      <th>status</th>
      <th>RPDE</th>
      <th>DFA</th>
      <th>spread1</th>
      <th>spread2</th>
      <th>D2</th>
      <th>PPE</th>
    </tr>
  </thead>
  <tbody>
    <tr>
      <th>0</th>
      <td>phon_R01_S01_1</td>
      <td>119.992</td>
      <td>157.302</td>
      <td>74.997</td>
      <td>0.00784</td>
      <td>0.00007</td>
      <td>0.00370</td>
      <td>0.00554</td>
      <td>0.01109</td>
      <td>0.04374</td>
      <td>...</td>
      <td>0.06545</td>
      <td>0.02211</td>
      <td>21.033</td>
      <td>1</td>
      <td>0.414783</td>
      <td>0.815285</td>
      <td>-4.813031</td>
      <td>0.266482</td>
      <td>2.301442</td>
      <td>0.284654</td>
    </tr>
    <tr>
      <th>1</th>
      <td>phon_R01_S01_2</td>
      <td>122.400</td>
      <td>148.650</td>
      <td>113.819</td>
      <td>0.00968</td>
      <td>0.00008</td>
      <td>0.00465</td>
      <td>0.00696</td>
      <td>0.01394</td>
      <td>0.06134</td>
      <td>...</td>
      <td>0.09403</td>
      <td>0.01929</td>
      <td>19.085</td>
      <td>1</td>
      <td>0.458359</td>
      <td>0.819521</td>
      <td>-4.075192</td>
      <td>0.335590</td>
      <td>2.486855</td>
      <td>0.368674</td>
    </tr>
    <tr>
      <th>2</th>
      <td>phon_R01_S01_3</td>
      <td>116.682</td>
      <td>131.111</td>
      <td>111.555</td>
      <td>0.01050</td>
      <td>0.00009</td>
      <td>0.00544</td>
      <td>0.00781</td>
      <td>0.01633</td>
      <td>0.05233</td>
      <td>...</td>
      <td>0.08270</td>
      <td>0.01309</td>
      <td>20.651</td>
      <td>1</td>
      <td>0.429895</td>
      <td>0.825288</td>
      <td>-4.443179</td>
      <td>0.311173</td>
      <td>2.342259</td>
      <td>0.332634</td>
    </tr>
    <tr>
      <th>3</th>
      <td>phon_R01_S01_4</td>
      <td>116.676</td>
      <td>137.871</td>
      <td>111.366</td>
      <td>0.00997</td>
      <td>0.00009</td>
      <td>0.00502</td>
      <td>0.00698</td>
      <td>0.01505</td>
      <td>0.05492</td>
      <td>...</td>
      <td>0.08771</td>
      <td>0.01353</td>
      <td>20.644</td>
      <td>1</td>
      <td>0.434969</td>
      <td>0.819235</td>
      <td>-4.117501</td>
      <td>0.334147</td>
      <td>2.405554</td>
      <td>0.368975</td>
    </tr>
    <tr>
      <th>4</th>
      <td>phon_R01_S01_5</td>
      <td>116.014</td>
      <td>141.781</td>
      <td>110.655</td>
      <td>0.01284</td>
      <td>0.00011</td>
      <td>0.00655</td>
      <td>0.00908</td>
      <td>0.01966</td>
      <td>0.06425</td>
      <td>...</td>
      <td>0.10470</td>
      <td>0.01767</td>
      <td>19.649</td>
      <td>1</td>
      <td>0.417356</td>
      <td>0.823484</td>
      <td>-3.747787</td>
      <td>0.234513</td>
      <td>2.332180</td>
      <td>0.410335</td>
    </tr>
    <tr>
      <th>...</th>
      <td>...</td>
      <td>...</td>
      <td>...</td>
      <td>...</td>
      <td>...</td>
      <td>...</td>
      <td>...</td>
      <td>...</td>
      <td>...</td>
      <td>...</td>
      <td>...</td>
      <td>...</td>
      <td>...</td>
      <td>...</td>
      <td>...</td>
      <td>...</td>
      <td>...</td>
      <td>...</td>
      <td>...</td>
      <td>...</td>
      <td>...</td>
    </tr>
    <tr>
      <th>190</th>
      <td>phon_R01_S50_2</td>
      <td>174.188</td>
      <td>230.978</td>
      <td>94.261</td>
      <td>0.00459</td>
      <td>0.00003</td>
      <td>0.00263</td>
      <td>0.00259</td>
      <td>0.00790</td>
      <td>0.04087</td>
      <td>...</td>
      <td>0.07008</td>
      <td>0.02764</td>
      <td>19.517</td>
      <td>0</td>
      <td>0.448439</td>
      <td>0.657899</td>
      <td>-6.538586</td>
      <td>0.121952</td>
      <td>2.657476</td>
      <td>0.133050</td>
    </tr>
    <tr>
      <th>191</th>
      <td>phon_R01_S50_3</td>
      <td>209.516</td>
      <td>253.017</td>
      <td>89.488</td>
      <td>0.00564</td>
      <td>0.00003</td>
      <td>0.00331</td>
      <td>0.00292</td>
      <td>0.00994</td>
      <td>0.02751</td>
      <td>...</td>
      <td>0.04812</td>
      <td>0.01810</td>
      <td>19.147</td>
      <td>0</td>
      <td>0.431674</td>
      <td>0.683244</td>
      <td>-6.195325</td>
      <td>0.129303</td>
      <td>2.784312</td>
      <td>0.168895</td>
    </tr>
    <tr>
      <th>192</th>
      <td>phon_R01_S50_4</td>
      <td>174.688</td>
      <td>240.005</td>
      <td>74.287</td>
      <td>0.01360</td>
      <td>0.00008</td>
      <td>0.00624</td>
      <td>0.00564</td>
      <td>0.01873</td>
      <td>0.02308</td>
      <td>...</td>
      <td>0.03804</td>
      <td>0.10715</td>
      <td>17.883</td>
      <td>0</td>
      <td>0.407567</td>
      <td>0.655683</td>
      <td>-6.787197</td>
      <td>0.158453</td>
      <td>2.679772</td>
      <td>0.131728</td>
    </tr>
    <tr>
      <th>193</th>
      <td>phon_R01_S50_5</td>
      <td>198.764</td>
      <td>396.961</td>
      <td>74.904</td>
      <td>0.00740</td>
      <td>0.00004</td>
      <td>0.00370</td>
      <td>0.00390</td>
      <td>0.01109</td>
      <td>0.02296</td>
      <td>...</td>
      <td>0.03794</td>
      <td>0.07223</td>
      <td>19.020</td>
      <td>0</td>
      <td>0.451221</td>
      <td>0.643956</td>
      <td>-6.744577</td>
      <td>0.207454</td>
      <td>2.138608</td>
      <td>0.123306</td>
    </tr>
    <tr>
      <th>194</th>
      <td>phon_R01_S50_6</td>
      <td>214.289</td>
      <td>260.277</td>
      <td>77.973</td>
      <td>0.00567</td>
      <td>0.00003</td>
      <td>0.00295</td>
      <td>0.00317</td>
      <td>0.00885</td>
      <td>0.01884</td>
      <td>...</td>
      <td>0.03078</td>
      <td>0.04398</td>
      <td>21.209</td>
      <td>0</td>
      <td>0.462803</td>
      <td>0.664357</td>
      <td>-5.724056</td>
      <td>0.190667</td>
      <td>2.555477</td>
      <td>0.148569</td>
    </tr>
  </tbody>
</table>
<p>195 rows × 24 columns</p>
</div>
</div>

</div>

</div>
</div>

</div>
<div class="cell border-box-sizing code_cell rendered">
<div class="input">
<div class="prompt input_prompt">In&nbsp;[3]:</div>
<div class="inner_cell">
    <div class="input_area">
<div class=" highlight hl-ipython3"><pre><span></span><span class="n">df</span><span class="o">.</span><span class="n">isna</span><span class="p">()</span><span class="o">.</span><span class="n">sum</span><span class="p">()</span>
</pre></div>

    </div>
</div>
</div>

<div class="output_wrapper">
<div class="output">


<div class="output_area">

    <div class="prompt output_prompt">Out[3]:</div>




<div class="output_text output_subarea output_execute_result">
<pre>name                0
MDVP:Fo(Hz)         0
MDVP:Fhi(Hz)        0
MDVP:Flo(Hz)        0
MDVP:Jitter(%)      0
MDVP:Jitter(Abs)    0
MDVP:RAP            0
MDVP:PPQ            0
Jitter:DDP          0
MDVP:Shimmer        0
MDVP:Shimmer(dB)    0
Shimmer:APQ3        0
Shimmer:APQ5        0
MDVP:APQ            0
Shimmer:DDA         0
NHR                 0
HNR                 0
status              0
RPDE                0
DFA                 0
spread1             0
spread2             0
D2                  0
PPE                 0
dtype: int64</pre>
</div>

</div>

</div>
</div>

</div>
<div class="cell border-box-sizing text_cell rendered"><div class="prompt input_prompt">
</div><div class="inner_cell">
<div class="text_cell_render border-box-sizing rendered_html">
<h2 id="Section-A">Section A<a class="anchor-link" href="#Section-A">&#182;</a></h2>
</div>
</div>
</div>
<div class="cell border-box-sizing text_cell rendered"><div class="prompt input_prompt">
</div><div class="inner_cell">
<div class="text_cell_render border-box-sizing rendered_html">
<h3 id="Train-and-test-data-splitting">Train and test data splitting<a class="anchor-link" href="#Train-and-test-data-splitting">&#182;</a></h3>
</div>
</div>
</div>
<div class="cell border-box-sizing code_cell rendered">
<div class="input">
<div class="prompt input_prompt">In&nbsp;[4]:</div>
<div class="inner_cell">
    <div class="input_area">
<div class=" highlight hl-ipython3"><pre><span></span><span class="kn">from</span> <span class="nn">sklearn.model_selection</span> <span class="kn">import</span> <span class="n">train_test_split</span>
</pre></div>

    </div>
</div>
</div>

</div>
<div class="cell border-box-sizing code_cell rendered">
<div class="input">
<div class="prompt input_prompt">In&nbsp;[5]:</div>
<div class="inner_cell">
    <div class="input_area">
<div class=" highlight hl-ipython3"><pre><span></span><span class="n">x</span> <span class="o">=</span> <span class="n">df</span><span class="o">.</span><span class="n">drop</span><span class="p">([</span><span class="s1">&#39;name&#39;</span><span class="p">,</span><span class="s1">&#39;status&#39;</span><span class="p">],</span> <span class="n">axis</span><span class="o">=</span> <span class="mi">1</span><span class="p">)</span>
<span class="n">y</span><span class="o">=</span> <span class="n">df</span><span class="p">[</span><span class="s1">&#39;status&#39;</span><span class="p">]</span>
</pre></div>

    </div>
</div>
</div>

</div>
<div class="cell border-box-sizing code_cell rendered">
<div class="input">
<div class="prompt input_prompt">In&nbsp;[6]:</div>
<div class="inner_cell">
    <div class="input_area">
<div class=" highlight hl-ipython3"><pre><span></span><span class="n">x_train</span><span class="p">,</span><span class="n">x_test</span><span class="p">,</span><span class="n">y_train</span><span class="p">,</span><span class="n">y_test</span><span class="o">=</span><span class="n">train_test_split</span><span class="p">(</span><span class="n">x</span><span class="p">,</span><span class="n">y</span><span class="p">,</span><span class="n">test_size</span><span class="o">=</span><span class="mf">0.25</span><span class="p">,</span><span class="n">random_state</span><span class="o">=</span><span class="mi">123</span><span class="p">)</span>
</pre></div>

    </div>
</div>
</div>

</div>
<div class="cell border-box-sizing text_cell rendered"><div class="prompt input_prompt">
</div><div class="inner_cell">
<div class="text_cell_render border-box-sizing rendered_html">
<h2 id="Section-B">Section B<a class="anchor-link" href="#Section-B">&#182;</a></h2>
</div>
</div>
</div>
<div class="cell border-box-sizing text_cell rendered"><div class="prompt input_prompt">
</div><div class="inner_cell">
<div class="text_cell_render border-box-sizing rendered_html">
<h3 id="Finding-optimal-pruning-parameter">Finding optimal pruning parameter<a class="anchor-link" href="#Finding-optimal-pruning-parameter">&#182;</a></h3>
</div>
</div>
</div>
<div class="cell border-box-sizing code_cell rendered">
<div class="input">
<div class="prompt input_prompt">In&nbsp;[7]:</div>
<div class="inner_cell">
    <div class="input_area">
<div class=" highlight hl-ipython3"><pre><span></span><span class="kn">from</span> <span class="nn">sklearn.tree</span> <span class="kn">import</span> <span class="n">DecisionTreeClassifier</span>
<span class="kn">from</span> <span class="nn">sklearn</span> <span class="kn">import</span> <span class="n">tree</span>
<span class="kn">from</span> <span class="nn">sklearn.metrics</span> <span class="kn">import</span> <span class="n">accuracy_score</span>
<span class="kn">from</span> <span class="nn">sklearn.model_selection</span> <span class="kn">import</span> <span class="n">cross_val_score</span>
</pre></div>

    </div>
</div>
</div>

</div>
<div class="cell border-box-sizing code_cell rendered">
<div class="input">
<div class="prompt input_prompt">In&nbsp;[8]:</div>
<div class="inner_cell">
    <div class="input_area">
<div class=" highlight hl-ipython3"><pre><span></span><span class="n">tree_alpha</span> <span class="o">=</span> <span class="n">DecisionTreeClassifier</span><span class="p">(</span><span class="n">criterion</span> <span class="o">=</span> <span class="s1">&#39;entropy&#39;</span><span class="p">,</span> <span class="n">random_state</span><span class="o">=</span><span class="mi">3</span><span class="p">)</span>
<span class="n">tree_alpha</span><span class="o">.</span><span class="n">fit</span><span class="p">(</span><span class="n">x_train</span><span class="p">,</span><span class="n">y_train</span><span class="p">)</span>
<span class="n">y_train_pred</span> <span class="o">=</span> <span class="n">tree_alpha</span><span class="o">.</span><span class="n">predict</span><span class="p">(</span><span class="n">x_train</span><span class="p">)</span>
<span class="n">y_test_pred</span> <span class="o">=</span> <span class="n">tree_alpha</span><span class="o">.</span><span class="n">predict</span><span class="p">(</span><span class="n">x_test</span><span class="p">)</span>
</pre></div>

    </div>
</div>
</div>

</div>
<div class="cell border-box-sizing code_cell rendered">
<div class="input">
<div class="prompt input_prompt">In&nbsp;[9]:</div>
<div class="inner_cell">
    <div class="input_area">
<div class=" highlight hl-ipython3"><pre><span></span><span class="n">path</span> <span class="o">=</span> <span class="n">tree_alpha</span><span class="o">.</span><span class="n">cost_complexity_pruning_path</span><span class="p">(</span><span class="n">x_train</span><span class="p">,</span><span class="n">y_train</span><span class="p">)</span>
<span class="n">alphas</span> <span class="o">=</span> <span class="n">path</span><span class="p">[</span><span class="s1">&#39;ccp_alphas&#39;</span><span class="p">]</span>
</pre></div>

    </div>
</div>
</div>

</div>
<div class="cell border-box-sizing code_cell rendered">
<div class="input">
<div class="prompt input_prompt">In&nbsp;[10]:</div>
<div class="inner_cell">
    <div class="input_area">
<div class=" highlight hl-ipython3"><pre><span></span><span class="n">alphas</span>
</pre></div>

    </div>
</div>
</div>

<div class="output_wrapper">
<div class="output">


<div class="output_area">

    <div class="prompt output_prompt">Out[10]:</div>




<div class="output_text output_subarea output_execute_result">
<pre>array([0.        , 0.01886909, 0.01886909, 0.02978435, 0.03057804,
       0.03102277, 0.04940692, 0.04999721, 0.05299525, 0.07365301,
       0.09067392, 0.24646888])</pre>
</div>

</div>

</div>
</div>

</div>
<div class="cell border-box-sizing code_cell rendered">
<div class="input">
<div class="prompt input_prompt">In&nbsp;[11]:</div>
<div class="inner_cell">
    <div class="input_area">
<div class=" highlight hl-ipython3"><pre><span></span><span class="n">accuracy_train</span><span class="p">,</span> <span class="n">accuracy_test</span> <span class="o">=</span> <span class="p">[],[]</span>
<span class="k">for</span> <span class="n">i</span> <span class="ow">in</span> <span class="n">alphas</span><span class="p">:</span>
    <span class="n">tree_i</span> <span class="o">=</span> <span class="n">DecisionTreeClassifier</span><span class="p">(</span><span class="n">ccp_alpha</span><span class="o">=</span><span class="n">i</span><span class="p">,</span><span class="n">criterion</span> <span class="o">=</span> <span class="s1">&#39;entropy&#39;</span><span class="p">,</span> <span class="n">random_state</span><span class="o">=</span><span class="mi">3</span><span class="p">)</span>
    <span class="n">tree_i</span><span class="o">.</span><span class="n">fit</span><span class="p">(</span><span class="n">x_train</span><span class="p">,</span><span class="n">y_train</span><span class="p">)</span>
    <span class="n">y_train_pred</span> <span class="o">=</span> <span class="n">tree_i</span><span class="o">.</span><span class="n">predict</span><span class="p">(</span><span class="n">x_train</span><span class="p">)</span>
    <span class="n">y_test_pred</span> <span class="o">=</span> <span class="n">tree_i</span><span class="o">.</span><span class="n">predict</span><span class="p">(</span><span class="n">x_test</span><span class="p">)</span>
    <span class="n">accuracy_train</span><span class="o">.</span><span class="n">append</span><span class="p">(</span><span class="n">accuracy_score</span><span class="p">(</span><span class="n">y_train</span><span class="p">,</span><span class="n">y_train_pred</span><span class="p">))</span>
    <span class="n">accuracy_test</span><span class="o">.</span><span class="n">append</span><span class="p">(</span><span class="n">accuracy_score</span><span class="p">(</span><span class="n">y_test</span><span class="p">,</span><span class="n">y_test_pred</span><span class="p">))</span>
<span class="n">sns</span><span class="o">.</span><span class="n">set</span><span class="p">()</span>
<span class="n">plt</span><span class="o">.</span><span class="n">figure</span><span class="p">(</span><span class="n">figsize</span><span class="o">=</span><span class="p">(</span><span class="mi">15</span><span class="p">,</span><span class="mi">7</span><span class="p">))</span>
<span class="n">sns</span><span class="o">.</span><span class="n">lineplot</span><span class="p">(</span><span class="n">y</span><span class="o">=</span><span class="n">accuracy_train</span><span class="p">,</span><span class="n">x</span><span class="o">=</span><span class="n">alphas</span><span class="p">,</span><span class="n">label</span><span class="o">=</span><span class="s2">&quot;Train Accuracy&quot;</span><span class="p">)</span>
<span class="n">sns</span><span class="o">.</span><span class="n">lineplot</span><span class="p">(</span><span class="n">y</span><span class="o">=</span><span class="n">accuracy_test</span><span class="p">,</span><span class="n">x</span><span class="o">=</span><span class="n">alphas</span><span class="p">,</span><span class="n">label</span><span class="o">=</span><span class="s2">&quot;Test Accuracy&quot;</span><span class="p">)</span>
<span class="n">plt</span><span class="o">.</span><span class="n">xticks</span><span class="p">(</span><span class="n">ticks</span> <span class="o">=</span> <span class="n">np</span><span class="o">.</span><span class="n">arange</span><span class="p">(</span><span class="mf">0.00</span><span class="p">,</span><span class="mf">0.25</span><span class="p">,</span><span class="mf">0.01</span><span class="p">))</span>
<span class="n">plt</span><span class="o">.</span><span class="n">show</span><span class="p">()</span>
</pre></div>

    </div>
</div>
</div>

<div class="output_wrapper">
<div class="output">


<div class="output_area">

    <div class="prompt"></div>




<div class="output_png output_subarea ">
<img src="data:image/png;base64,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
"
>
</div>

</div>

</div>
</div>

</div>
<div class="cell border-box-sizing code_cell rendered">
<div class="input">
<div class="prompt input_prompt">In&nbsp;[12]:</div>
<div class="inner_cell">
    <div class="input_area">
<div class=" highlight hl-ipython3"><pre><span></span><span class="n">parameters</span> <span class="o">=</span> <span class="p">{</span><span class="s1">&#39;ccp_alpha&#39;</span><span class="p">:</span><span class="nb">list</span><span class="p">(</span><span class="n">np</span><span class="o">.</span><span class="n">arange</span><span class="p">(</span><span class="mf">0.01</span><span class="p">,</span><span class="mf">0.25</span><span class="p">,</span><span class="mf">0.01</span><span class="p">))}</span>
</pre></div>

    </div>
</div>
</div>

</div>
<div class="cell border-box-sizing code_cell rendered">
<div class="input">
<div class="prompt input_prompt">In&nbsp;[13]:</div>
<div class="inner_cell">
    <div class="input_area">
<div class=" highlight hl-ipython3"><pre><span></span><span class="n">grid_search_tree</span> <span class="o">=</span> <span class="n">GridSearchCV</span><span class="p">(</span><span class="n">tree_alpha</span><span class="p">,</span> <span class="n">param_grid</span><span class="o">=</span><span class="n">parameters</span><span class="p">,</span> <span class="n">scoring</span><span class="o">=</span><span class="s1">&#39;accuracy&#39;</span><span class="p">,</span> <span class="n">cv</span><span class="o">=</span><span class="mi">5</span><span class="p">,</span> <span class="n">n_jobs</span><span class="o">=-</span><span class="mi">1</span><span class="p">)</span>
</pre></div>

    </div>
</div>
</div>

</div>
<div class="cell border-box-sizing code_cell rendered">
<div class="input">
<div class="prompt input_prompt">In&nbsp;[14]:</div>
<div class="inner_cell">
    <div class="input_area">
<div class=" highlight hl-ipython3"><pre><span></span><span class="n">grid_search_tree</span><span class="o">.</span><span class="n">fit</span><span class="p">(</span><span class="n">x_train</span><span class="p">,</span><span class="n">y_train</span><span class="p">)</span>
<span class="n">best_parameters</span> <span class="o">=</span> <span class="n">grid_search_tree</span><span class="o">.</span><span class="n">best_params_</span>
<span class="nb">print</span><span class="p">(</span><span class="n">best_parameters</span><span class="p">)</span>
</pre></div>

    </div>
</div>
</div>

<div class="output_wrapper">
<div class="output">


<div class="output_area">

    <div class="prompt"></div>


<div class="output_subarea output_stream output_stdout output_text">
<pre>{&#39;ccp_alpha&#39;: 0.02}
</pre>
</div>
</div>

</div>
</div>

</div>
<div class="cell border-box-sizing code_cell rendered">
<div class="input">
<div class="prompt input_prompt">In&nbsp;[15]:</div>
<div class="inner_cell">
    <div class="input_area">
<div class=" highlight hl-ipython3"><pre><span></span><span class="n">best_result</span> <span class="o">=</span> <span class="n">grid_search_tree</span><span class="o">.</span><span class="n">best_score_</span>
<span class="nb">print</span><span class="p">(</span><span class="n">best_result</span><span class="o">*</span><span class="mi">100</span><span class="p">)</span>
</pre></div>

    </div>
</div>
</div>

<div class="output_wrapper">
<div class="output">


<div class="output_area">

    <div class="prompt"></div>


<div class="output_subarea output_stream output_stdout output_text">
<pre>88.41379310344827
</pre>
</div>
</div>

</div>
</div>

</div>
<div class="cell border-box-sizing code_cell rendered">
<div class="input">
<div class="prompt input_prompt">In&nbsp;[16]:</div>
<div class="inner_cell">
    <div class="input_area">
<div class=" highlight hl-ipython3"><pre><span></span><span class="n">pd</span><span class="o">.</span><span class="n">DataFrame</span><span class="p">(</span><span class="n">grid_search_tree</span><span class="o">.</span><span class="n">cv_results_</span><span class="p">)[[</span><span class="s1">&#39;param_ccp_alpha&#39;</span><span class="p">,</span><span class="s1">&#39;mean_test_score&#39;</span><span class="p">,</span><span class="s1">&#39;rank_test_score&#39;</span><span class="p">]]</span>
</pre></div>

    </div>
</div>
</div>

<div class="output_wrapper">
<div class="output">


<div class="output_area">

    <div class="prompt output_prompt">Out[16]:</div>



<div class="output_html rendered_html output_subarea output_execute_result">
<div>
<style scoped>
    .dataframe tbody tr th:only-of-type {
        vertical-align: middle;
    }

    .dataframe tbody tr th {
        vertical-align: top;
    }

    .dataframe thead th {
        text-align: right;
    }
</style>
<table border="1" class="dataframe">
  <thead>
    <tr style="text-align: right;">
      <th></th>
      <th>param_ccp_alpha</th>
      <th>mean_test_score</th>
      <th>rank_test_score</th>
    </tr>
  </thead>
  <tbody>
    <tr>
      <th>0</th>
      <td>0.01</td>
      <td>0.877241</td>
      <td>3</td>
    </tr>
    <tr>
      <th>1</th>
      <td>0.02</td>
      <td>0.884138</td>
      <td>1</td>
    </tr>
    <tr>
      <th>2</th>
      <td>0.03</td>
      <td>0.884138</td>
      <td>1</td>
    </tr>
    <tr>
      <th>3</th>
      <td>0.04</td>
      <td>0.877241</td>
      <td>3</td>
    </tr>
    <tr>
      <th>4</th>
      <td>0.05</td>
      <td>0.856552</td>
      <td>5</td>
    </tr>
    <tr>
      <th>5</th>
      <td>0.06</td>
      <td>0.828966</td>
      <td>10</td>
    </tr>
    <tr>
      <th>6</th>
      <td>0.07</td>
      <td>0.822529</td>
      <td>23</td>
    </tr>
    <tr>
      <th>7</th>
      <td>0.08</td>
      <td>0.829425</td>
      <td>9</td>
    </tr>
    <tr>
      <th>8</th>
      <td>0.09</td>
      <td>0.836322</td>
      <td>8</td>
    </tr>
    <tr>
      <th>9</th>
      <td>0.1</td>
      <td>0.843218</td>
      <td>6</td>
    </tr>
    <tr>
      <th>10</th>
      <td>0.11</td>
      <td>0.843218</td>
      <td>6</td>
    </tr>
    <tr>
      <th>11</th>
      <td>0.12</td>
      <td>0.822529</td>
      <td>11</td>
    </tr>
    <tr>
      <th>12</th>
      <td>0.13</td>
      <td>0.822529</td>
      <td>11</td>
    </tr>
    <tr>
      <th>13</th>
      <td>0.14</td>
      <td>0.822529</td>
      <td>11</td>
    </tr>
    <tr>
      <th>14</th>
      <td>0.15</td>
      <td>0.822529</td>
      <td>11</td>
    </tr>
    <tr>
      <th>15</th>
      <td>0.16</td>
      <td>0.822529</td>
      <td>11</td>
    </tr>
    <tr>
      <th>16</th>
      <td>0.17</td>
      <td>0.822529</td>
      <td>11</td>
    </tr>
    <tr>
      <th>17</th>
      <td>0.18</td>
      <td>0.822529</td>
      <td>11</td>
    </tr>
    <tr>
      <th>18</th>
      <td>0.19</td>
      <td>0.822529</td>
      <td>11</td>
    </tr>
    <tr>
      <th>19</th>
      <td>0.2</td>
      <td>0.822529</td>
      <td>11</td>
    </tr>
    <tr>
      <th>20</th>
      <td>0.21</td>
      <td>0.822529</td>
      <td>11</td>
    </tr>
    <tr>
      <th>21</th>
      <td>0.22</td>
      <td>0.822529</td>
      <td>11</td>
    </tr>
    <tr>
      <th>22</th>
      <td>0.23</td>
      <td>0.822529</td>
      <td>11</td>
    </tr>
    <tr>
      <th>23</th>
      <td>0.24</td>
      <td>0.794943</td>
      <td>24</td>
    </tr>
  </tbody>
</table>
</div>
</div>

</div>

</div>
</div>

</div>
<div class="cell border-box-sizing text_cell rendered"><div class="prompt input_prompt">
</div><div class="inner_cell">
<div class="text_cell_render border-box-sizing rendered_html">
<h4 id="From-train-and-test-accuracy-plot-and-grid-search-of-best-parameters,-alpha-of-0.2-and-0.3-are-best-parameters-to-build-pruned-decision-tree.">From train and test accuracy plot and grid search of best parameters, alpha of 0.2 and 0.3 are best parameters to build pruned decision tree.<a class="anchor-link" href="#From-train-and-test-accuracy-plot-and-grid-search-of-best-parameters,-alpha-of-0.2-and-0.3-are-best-parameters-to-build-pruned-decision-tree.">&#182;</a></h4>
</div>
</div>
</div>
<div class="cell border-box-sizing text_cell rendered"><div class="prompt input_prompt">
</div><div class="inner_cell">
<div class="text_cell_render border-box-sizing rendered_html">
<h3 id="Learning-pruned-decision-tree">Learning pruned decision tree<a class="anchor-link" href="#Learning-pruned-decision-tree">&#182;</a></h3>
</div>
</div>
</div>
<div class="cell border-box-sizing code_cell rendered">
<div class="input">
<div class="prompt input_prompt">In&nbsp;[17]:</div>
<div class="inner_cell">
    <div class="input_area">
<div class=" highlight hl-ipython3"><pre><span></span><span class="n">pruned_tree</span> <span class="o">=</span> <span class="n">DecisionTreeClassifier</span><span class="p">(</span><span class="n">ccp_alpha</span><span class="o">=</span><span class="mf">0.02</span><span class="p">,</span> <span class="n">criterion</span> <span class="o">=</span> <span class="s1">&#39;entropy&#39;</span><span class="p">,</span> <span class="n">random_state</span><span class="o">=</span><span class="mi">3</span><span class="p">)</span>
<span class="n">pruned_tree</span><span class="o">.</span><span class="n">fit</span><span class="p">(</span><span class="n">x_train</span><span class="p">,</span><span class="n">y_train</span><span class="p">)</span>
<span class="n">pruned_tree</span><span class="o">.</span><span class="n">score</span><span class="p">(</span><span class="n">x_train</span><span class="p">,</span><span class="n">y_train</span><span class="p">)</span><span class="o">*</span><span class="mi">100</span>
</pre></div>

    </div>
</div>
</div>

<div class="output_wrapper">
<div class="output">


<div class="output_area">

    <div class="prompt output_prompt">Out[17]:</div>




<div class="output_text output_subarea output_execute_result">
<pre>98.63013698630137</pre>
</div>

</div>

</div>
</div>

</div>
<div class="cell border-box-sizing code_cell rendered">
<div class="input">
<div class="prompt input_prompt">In&nbsp;[18]:</div>
<div class="inner_cell">
    <div class="input_area">
<div class=" highlight hl-ipython3"><pre><span></span><span class="n">fig</span> <span class="o">=</span> <span class="n">plt</span><span class="o">.</span><span class="n">figure</span><span class="p">(</span><span class="n">figsize</span><span class="o">=</span><span class="p">(</span><span class="mi">50</span><span class="p">,</span><span class="mi">45</span><span class="p">))</span>
<span class="n">dtree</span> <span class="o">=</span> <span class="n">tree</span><span class="o">.</span><span class="n">plot_tree</span><span class="p">(</span><span class="n">pruned_tree</span><span class="p">,</span> <span class="n">feature_names</span><span class="o">=</span><span class="nb">list</span><span class="p">(</span><span class="n">x</span><span class="o">.</span><span class="n">columns</span><span class="p">),</span> 
                       <span class="n">class_names</span><span class="o">=</span><span class="nb">list</span><span class="p">(</span><span class="nb">map</span><span class="p">(</span><span class="k">lambda</span> <span class="n">x</span><span class="p">:</span> <span class="nb">str</span><span class="p">(</span><span class="n">x</span><span class="p">),</span> <span class="n">pruned_tree</span><span class="o">.</span><span class="n">classes_</span><span class="p">)),</span> <span class="n">filled</span><span class="o">=</span><span class="kc">True</span><span class="p">)</span>
</pre></div>

    </div>
</div>
</div>

<div class="output_wrapper">
<div class="output">


<div class="output_area">

    <div class="prompt"></div>




<div class="output_png output_subarea ">
<img src="data:image/png;base64,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
"
>
</div>

</div>

</div>
</div>

</div>
<div class="cell border-box-sizing text_cell rendered"><div class="prompt input_prompt">
</div><div class="inner_cell">
<div class="text_cell_render border-box-sizing rendered_html">
<h2 id="Section-C">Section C<a class="anchor-link" href="#Section-C">&#182;</a></h2>
</div>
</div>
</div>
<div class="cell border-box-sizing text_cell rendered"><div class="prompt input_prompt">
</div><div class="inner_cell">
<div class="text_cell_render border-box-sizing rendered_html">
<h3 id="Random-Forest-Classifier">Random Forest Classifier<a class="anchor-link" href="#Random-Forest-Classifier">&#182;</a></h3>
</div>
</div>
</div>
<div class="cell border-box-sizing code_cell rendered">
<div class="input">
<div class="prompt input_prompt">In&nbsp;[19]:</div>
<div class="inner_cell">
    <div class="input_area">
<div class=" highlight hl-ipython3"><pre><span></span><span class="kn">from</span> <span class="nn">sklearn.ensemble</span> <span class="kn">import</span> <span class="n">RandomForestClassifier</span>
<span class="n">rfc</span> <span class="o">=</span> <span class="n">RandomForestClassifier</span><span class="p">(</span><span class="n">n_estimators</span><span class="o">=</span> <span class="mi">1000</span><span class="p">,</span> <span class="n">criterion</span><span class="o">=</span><span class="s1">&#39;entropy&#39;</span><span class="p">,</span> <span class="n">random_state</span> <span class="o">=</span> <span class="mi">3</span><span class="p">)</span>
<span class="n">parameters_rfc</span> <span class="o">=</span> <span class="p">{</span><span class="s1">&#39;max_features&#39;</span> <span class="p">:</span> <span class="p">[</span><span class="mi">4</span><span class="p">,</span><span class="mi">5</span><span class="p">,</span><span class="mi">6</span><span class="p">,</span><span class="mi">7</span><span class="p">,</span><span class="mi">8</span><span class="p">]}</span>
<span class="n">grid_search_rfc</span> <span class="o">=</span> <span class="n">GridSearchCV</span><span class="p">(</span><span class="n">estimator</span><span class="o">=</span><span class="n">rfc</span><span class="p">,</span> <span class="n">param_grid</span><span class="o">=</span><span class="n">parameters_rfc</span><span class="p">,</span> <span class="n">scoring</span><span class="o">=</span><span class="s1">&#39;accuracy&#39;</span><span class="p">,</span> <span class="n">cv</span><span class="o">=</span><span class="mi">5</span><span class="p">,</span> <span class="n">n_jobs</span><span class="o">=-</span><span class="mi">1</span><span class="p">)</span>
<span class="n">grid_search_rfc</span><span class="o">.</span><span class="n">fit</span><span class="p">(</span><span class="n">x_train</span><span class="p">,</span> <span class="n">y_train</span><span class="p">)</span>
<span class="n">best_parameters_rfc</span> <span class="o">=</span> <span class="n">grid_search_rfc</span><span class="o">.</span><span class="n">best_params_</span>
<span class="nb">print</span><span class="p">(</span><span class="n">best_parameters_rfc</span><span class="p">)</span>
</pre></div>

    </div>
</div>
</div>

<div class="output_wrapper">
<div class="output">


<div class="output_area">

    <div class="prompt"></div>


<div class="output_subarea output_stream output_stdout output_text">
<pre>{&#39;max_features&#39;: 6}
</pre>
</div>
</div>

</div>
</div>

</div>
<div class="cell border-box-sizing code_cell rendered">
<div class="input">
<div class="prompt input_prompt">In&nbsp;[20]:</div>
<div class="inner_cell">
    <div class="input_area">
<div class=" highlight hl-ipython3"><pre><span></span><span class="n">pd</span><span class="o">.</span><span class="n">DataFrame</span><span class="p">(</span><span class="n">grid_search_rfc</span><span class="o">.</span><span class="n">cv_results_</span><span class="p">)[[</span><span class="s1">&#39;params&#39;</span><span class="p">,</span><span class="s1">&#39;mean_test_score&#39;</span><span class="p">,</span><span class="s1">&#39;rank_test_score&#39;</span><span class="p">]]</span>
</pre></div>

    </div>
</div>
</div>

<div class="output_wrapper">
<div class="output">


<div class="output_area">

    <div class="prompt output_prompt">Out[20]:</div>



<div class="output_html rendered_html output_subarea output_execute_result">
<div>
<style scoped>
    .dataframe tbody tr th:only-of-type {
        vertical-align: middle;
    }

    .dataframe tbody tr th {
        vertical-align: top;
    }

    .dataframe thead th {
        text-align: right;
    }
</style>
<table border="1" class="dataframe">
  <thead>
    <tr style="text-align: right;">
      <th></th>
      <th>params</th>
      <th>mean_test_score</th>
      <th>rank_test_score</th>
    </tr>
  </thead>
  <tbody>
    <tr>
      <th>0</th>
      <td>{'max_features': 4}</td>
      <td>0.890575</td>
      <td>3</td>
    </tr>
    <tr>
      <th>1</th>
      <td>{'max_features': 5}</td>
      <td>0.883678</td>
      <td>5</td>
    </tr>
    <tr>
      <th>2</th>
      <td>{'max_features': 6}</td>
      <td>0.897241</td>
      <td>1</td>
    </tr>
    <tr>
      <th>3</th>
      <td>{'max_features': 7}</td>
      <td>0.890575</td>
      <td>3</td>
    </tr>
    <tr>
      <th>4</th>
      <td>{'max_features': 8}</td>
      <td>0.897241</td>
      <td>1</td>
    </tr>
  </tbody>
</table>
</div>
</div>

</div>

</div>
</div>

</div>
<div class="cell border-box-sizing text_cell rendered"><div class="prompt input_prompt">
</div><div class="inner_cell">
<div class="text_cell_render border-box-sizing rendered_html">
<h3 id="Training-random-forest-classifier-with-optimal-hyperparameters">Training random forest classifier with optimal hyperparameters<a class="anchor-link" href="#Training-random-forest-classifier-with-optimal-hyperparameters">&#182;</a></h3>
</div>
</div>
</div>
<div class="cell border-box-sizing code_cell rendered">
<div class="input">
<div class="prompt input_prompt">In&nbsp;[21]:</div>
<div class="inner_cell">
    <div class="input_area">
<div class=" highlight hl-ipython3"><pre><span></span><span class="n">rfc</span> <span class="o">=</span> <span class="n">RandomForestClassifier</span><span class="p">(</span><span class="n">n_estimators</span><span class="o">=</span> <span class="mi">1000</span><span class="p">,</span> <span class="n">criterion</span><span class="o">=</span><span class="s1">&#39;entropy&#39;</span><span class="p">,</span> <span class="n">max_features</span><span class="o">=</span><span class="mi">6</span><span class="p">,</span> <span class="n">random_state</span> <span class="o">=</span> <span class="mi">1</span><span class="p">)</span>
<span class="n">rfc</span><span class="o">.</span><span class="n">fit</span><span class="p">(</span><span class="n">x_train</span><span class="p">,</span> <span class="n">y_train</span><span class="p">)</span>
<span class="n">rfc</span><span class="o">.</span><span class="n">score</span><span class="p">(</span><span class="n">x_train</span><span class="p">,</span> <span class="n">y_train</span><span class="p">)</span><span class="o">*</span><span class="mi">100</span>
</pre></div>

    </div>
</div>
</div>

<div class="output_wrapper">
<div class="output">


<div class="output_area">

    <div class="prompt output_prompt">Out[21]:</div>




<div class="output_text output_subarea output_execute_result">
<pre>100.0</pre>
</div>

</div>

</div>
</div>

</div>
<div class="cell border-box-sizing text_cell rendered"><div class="prompt input_prompt">
</div><div class="inner_cell">
<div class="text_cell_render border-box-sizing rendered_html">
<h3 id="Gradient-Boosted-Classifier">Gradient Boosted Classifier<a class="anchor-link" href="#Gradient-Boosted-Classifier">&#182;</a></h3>
</div>
</div>
</div>
<div class="cell border-box-sizing code_cell rendered">
<div class="input">
<div class="prompt input_prompt">In&nbsp;[22]:</div>
<div class="inner_cell">
    <div class="input_area">
<div class=" highlight hl-ipython3"><pre><span></span><span class="kn">from</span> <span class="nn">sklearn.ensemble</span> <span class="kn">import</span> <span class="n">GradientBoostingClassifier</span>
<span class="n">gbc</span> <span class="o">=</span> <span class="n">GradientBoostingClassifier</span><span class="p">(</span><span class="n">n_estimators</span><span class="o">=</span><span class="mi">1000</span><span class="p">,</span> <span class="n">random_state</span><span class="o">=</span><span class="mi">3</span><span class="p">)</span>
<span class="n">parameters_gbc</span> <span class="o">=</span> <span class="p">{</span><span class="s1">&#39;max_depth&#39;</span> <span class="p">:</span> <span class="p">[</span><span class="mi">3</span><span class="p">,</span><span class="mi">4</span><span class="p">,</span><span class="mi">5</span><span class="p">,</span><span class="mi">6</span><span class="p">,</span><span class="mi">7</span><span class="p">,</span><span class="mi">8</span><span class="p">,</span><span class="mi">9</span><span class="p">,</span><span class="mi">10</span><span class="p">],</span> <span class="s1">&#39;learning_rate&#39;</span><span class="p">:[</span><span class="mf">0.001</span><span class="p">,</span><span class="mf">0.01</span><span class="p">,</span><span class="mf">0.1</span><span class="p">]}</span>
<span class="n">grid_search_gbc</span> <span class="o">=</span> <span class="n">GridSearchCV</span><span class="p">(</span><span class="n">estimator</span><span class="o">=</span><span class="n">gbc</span><span class="p">,</span> <span class="n">param_grid</span><span class="o">=</span><span class="n">parameters_gbc</span><span class="p">,</span> <span class="n">scoring</span><span class="o">=</span><span class="s1">&#39;accuracy&#39;</span><span class="p">,</span> <span class="n">cv</span><span class="o">=</span><span class="mi">5</span><span class="p">,</span> <span class="n">n_jobs</span><span class="o">=-</span><span class="mi">1</span><span class="p">)</span>
<span class="n">grid_search_gbc</span><span class="o">.</span><span class="n">fit</span><span class="p">(</span><span class="n">x_train</span><span class="p">,</span> <span class="n">y_train</span><span class="p">)</span>
<span class="n">best_parameters_gbc</span> <span class="o">=</span> <span class="n">grid_search_gbc</span><span class="o">.</span><span class="n">best_params_</span>
<span class="nb">print</span><span class="p">(</span><span class="n">best_parameters_gbc</span><span class="p">)</span>
</pre></div>

    </div>
</div>
</div>

<div class="output_wrapper">
<div class="output">


<div class="output_area">

    <div class="prompt"></div>


<div class="output_subarea output_stream output_stdout output_text">
<pre>{&#39;learning_rate&#39;: 0.1, &#39;max_depth&#39;: 3}
</pre>
</div>
</div>

</div>
</div>

</div>
<div class="cell border-box-sizing code_cell rendered">
<div class="input">
<div class="prompt input_prompt">In&nbsp;[23]:</div>
<div class="inner_cell">
    <div class="input_area">
<div class=" highlight hl-ipython3"><pre><span></span><span class="n">pd</span><span class="o">.</span><span class="n">DataFrame</span><span class="p">(</span><span class="n">grid_search_gbc</span><span class="o">.</span><span class="n">cv_results_</span><span class="p">)[[</span><span class="s1">&#39;params&#39;</span><span class="p">,</span><span class="s1">&#39;mean_test_score&#39;</span><span class="p">,</span><span class="s1">&#39;rank_test_score&#39;</span><span class="p">]]</span>
</pre></div>

    </div>
</div>
</div>

<div class="output_wrapper">
<div class="output">


<div class="output_area">

    <div class="prompt output_prompt">Out[23]:</div>



<div class="output_html rendered_html output_subarea output_execute_result">
<div>
<style scoped>
    .dataframe tbody tr th:only-of-type {
        vertical-align: middle;
    }

    .dataframe tbody tr th {
        vertical-align: top;
    }

    .dataframe thead th {
        text-align: right;
    }
</style>
<table border="1" class="dataframe">
  <thead>
    <tr style="text-align: right;">
      <th></th>
      <th>params</th>
      <th>mean_test_score</th>
      <th>rank_test_score</th>
    </tr>
  </thead>
  <tbody>
    <tr>
      <th>0</th>
      <td>{'learning_rate': 0.001, 'max_depth': 3}</td>
      <td>0.876782</td>
      <td>6</td>
    </tr>
    <tr>
      <th>1</th>
      <td>{'learning_rate': 0.001, 'max_depth': 4}</td>
      <td>0.877241</td>
      <td>4</td>
    </tr>
    <tr>
      <th>2</th>
      <td>{'learning_rate': 0.001, 'max_depth': 5}</td>
      <td>0.870345</td>
      <td>7</td>
    </tr>
    <tr>
      <th>3</th>
      <td>{'learning_rate': 0.001, 'max_depth': 6}</td>
      <td>0.870345</td>
      <td>7</td>
    </tr>
    <tr>
      <th>4</th>
      <td>{'learning_rate': 0.001, 'max_depth': 7}</td>
      <td>0.870345</td>
      <td>7</td>
    </tr>
    <tr>
      <th>5</th>
      <td>{'learning_rate': 0.001, 'max_depth': 8}</td>
      <td>0.870345</td>
      <td>7</td>
    </tr>
    <tr>
      <th>6</th>
      <td>{'learning_rate': 0.001, 'max_depth': 9}</td>
      <td>0.870345</td>
      <td>7</td>
    </tr>
    <tr>
      <th>7</th>
      <td>{'learning_rate': 0.001, 'max_depth': 10}</td>
      <td>0.870345</td>
      <td>7</td>
    </tr>
    <tr>
      <th>8</th>
      <td>{'learning_rate': 0.01, 'max_depth': 3}</td>
      <td>0.877011</td>
      <td>5</td>
    </tr>
    <tr>
      <th>9</th>
      <td>{'learning_rate': 0.01, 'max_depth': 4}</td>
      <td>0.884368</td>
      <td>2</td>
    </tr>
    <tr>
      <th>10</th>
      <td>{'learning_rate': 0.01, 'max_depth': 5}</td>
      <td>0.863678</td>
      <td>19</td>
    </tr>
    <tr>
      <th>11</th>
      <td>{'learning_rate': 0.01, 'max_depth': 6}</td>
      <td>0.863678</td>
      <td>19</td>
    </tr>
    <tr>
      <th>12</th>
      <td>{'learning_rate': 0.01, 'max_depth': 7}</td>
      <td>0.863678</td>
      <td>19</td>
    </tr>
    <tr>
      <th>13</th>
      <td>{'learning_rate': 0.01, 'max_depth': 8}</td>
      <td>0.863678</td>
      <td>19</td>
    </tr>
    <tr>
      <th>14</th>
      <td>{'learning_rate': 0.01, 'max_depth': 9}</td>
      <td>0.863678</td>
      <td>19</td>
    </tr>
    <tr>
      <th>15</th>
      <td>{'learning_rate': 0.01, 'max_depth': 10}</td>
      <td>0.863678</td>
      <td>19</td>
    </tr>
    <tr>
      <th>16</th>
      <td>{'learning_rate': 0.1, 'max_depth': 3}</td>
      <td>0.890805</td>
      <td>1</td>
    </tr>
    <tr>
      <th>17</th>
      <td>{'learning_rate': 0.1, 'max_depth': 4}</td>
      <td>0.884138</td>
      <td>3</td>
    </tr>
    <tr>
      <th>18</th>
      <td>{'learning_rate': 0.1, 'max_depth': 5}</td>
      <td>0.870345</td>
      <td>7</td>
    </tr>
    <tr>
      <th>19</th>
      <td>{'learning_rate': 0.1, 'max_depth': 6}</td>
      <td>0.870345</td>
      <td>7</td>
    </tr>
    <tr>
      <th>20</th>
      <td>{'learning_rate': 0.1, 'max_depth': 7}</td>
      <td>0.870345</td>
      <td>7</td>
    </tr>
    <tr>
      <th>21</th>
      <td>{'learning_rate': 0.1, 'max_depth': 8}</td>
      <td>0.870345</td>
      <td>7</td>
    </tr>
    <tr>
      <th>22</th>
      <td>{'learning_rate': 0.1, 'max_depth': 9}</td>
      <td>0.870345</td>
      <td>7</td>
    </tr>
    <tr>
      <th>23</th>
      <td>{'learning_rate': 0.1, 'max_depth': 10}</td>
      <td>0.870345</td>
      <td>7</td>
    </tr>
  </tbody>
</table>
</div>
</div>

</div>

</div>
</div>

</div>
<div class="cell border-box-sizing text_cell rendered"><div class="prompt input_prompt">
</div><div class="inner_cell">
<div class="text_cell_render border-box-sizing rendered_html">
<h3 id="Training-boosting-classifier-with-optimal-hyperparameters">Training boosting classifier with optimal hyperparameters<a class="anchor-link" href="#Training-boosting-classifier-with-optimal-hyperparameters">&#182;</a></h3>
</div>
</div>
</div>
<div class="cell border-box-sizing code_cell rendered">
<div class="input">
<div class="prompt input_prompt">In&nbsp;[24]:</div>
<div class="inner_cell">
    <div class="input_area">
<div class=" highlight hl-ipython3"><pre><span></span><span class="n">grad_boost</span> <span class="o">=</span> <span class="n">GradientBoostingClassifier</span><span class="p">(</span><span class="n">n_estimators</span><span class="o">=</span><span class="mi">1000</span><span class="p">,</span> <span class="n">random_state</span><span class="o">=</span><span class="mi">1</span><span class="p">,</span><span class="n">learning_rate</span> <span class="o">=</span> <span class="mf">0.1</span><span class="p">,</span> <span class="n">max_depth</span> <span class="o">=</span> <span class="mi">3</span><span class="p">)</span>
<span class="n">grad_boost</span><span class="o">.</span><span class="n">fit</span><span class="p">(</span><span class="n">x_train</span><span class="p">,</span> <span class="n">y_train</span><span class="p">)</span>
<span class="n">grad_boost</span><span class="o">.</span><span class="n">score</span><span class="p">(</span><span class="n">x_train</span><span class="p">,</span> <span class="n">y_train</span><span class="p">)</span><span class="o">*</span><span class="mi">100</span>
</pre></div>

    </div>
</div>
</div>

<div class="output_wrapper">
<div class="output">


<div class="output_area">

    <div class="prompt output_prompt">Out[24]:</div>




<div class="output_text output_subarea output_execute_result">
<pre>100.0</pre>
</div>

</div>

</div>
</div>

</div>
<div class="cell border-box-sizing text_cell rendered"><div class="prompt input_prompt">
</div><div class="inner_cell">
<div class="text_cell_render border-box-sizing rendered_html">
<h3 id="ROC-for-Gradient-Boosted-Classifier">ROC for Gradient Boosted Classifier<a class="anchor-link" href="#ROC-for-Gradient-Boosted-Classifier">&#182;</a></h3>
</div>
</div>
</div>
<div class="cell border-box-sizing code_cell rendered">
<div class="input">
<div class="prompt input_prompt">In&nbsp;[25]:</div>
<div class="inner_cell">
    <div class="input_area">
<div class=" highlight hl-ipython3"><pre><span></span><span class="kn">from</span> <span class="nn">sklearn.metrics</span> <span class="kn">import</span> <span class="n">roc_curve</span><span class="p">,</span> <span class="n">auc</span>
<span class="kn">from</span> <span class="nn">sklearn.metrics</span> <span class="kn">import</span> <span class="n">roc_auc_score</span>
</pre></div>

    </div>
</div>
</div>

</div>
<div class="cell border-box-sizing code_cell rendered">
<div class="input">
<div class="prompt input_prompt">In&nbsp;[26]:</div>
<div class="inner_cell">
    <div class="input_area">
<div class=" highlight hl-ipython3"><pre><span></span><span class="n">y_train_pred</span> <span class="o">=</span> <span class="n">grad_boost</span><span class="o">.</span><span class="n">decision_function</span><span class="p">(</span><span class="n">x_train</span><span class="p">)</span>
<span class="n">y_test_pred</span> <span class="o">=</span> <span class="n">grad_boost</span><span class="o">.</span><span class="n">decision_function</span><span class="p">(</span><span class="n">x_test</span><span class="p">)</span>
</pre></div>

    </div>
</div>
</div>

</div>
<div class="cell border-box-sizing code_cell rendered">
<div class="input">
<div class="prompt input_prompt">In&nbsp;[27]:</div>
<div class="inner_cell">
    <div class="input_area">
<div class=" highlight hl-ipython3"><pre><span></span><span class="n">train_fpr</span><span class="p">,</span> <span class="n">train_tpr</span><span class="p">,</span> <span class="n">tr_thresholds</span> <span class="o">=</span> <span class="n">roc_curve</span><span class="p">(</span><span class="n">y_train</span><span class="p">,</span> <span class="n">y_train_pred</span><span class="p">)</span>
<span class="n">test_fpr</span><span class="p">,</span> <span class="n">test_tpr</span><span class="p">,</span> <span class="n">te_thresholds</span> <span class="o">=</span> <span class="n">roc_curve</span><span class="p">(</span><span class="n">y_test</span><span class="p">,</span> <span class="n">y_test_pred</span><span class="p">)</span>
<span class="n">plt</span><span class="o">.</span><span class="n">grid</span><span class="p">()</span>
<span class="n">plt</span><span class="o">.</span><span class="n">plot</span><span class="p">(</span><span class="n">train_fpr</span><span class="p">,</span> <span class="n">train_tpr</span><span class="p">,</span> <span class="n">label</span><span class="o">=</span><span class="s2">&quot; AUC TRAIN =&quot;</span><span class="o">+</span><span class="nb">str</span><span class="p">(</span><span class="n">auc</span><span class="p">(</span><span class="n">train_fpr</span><span class="p">,</span> <span class="n">train_tpr</span><span class="p">)))</span>
<span class="n">plt</span><span class="o">.</span><span class="n">plot</span><span class="p">(</span><span class="n">test_fpr</span><span class="p">,</span> <span class="n">test_tpr</span><span class="p">,</span> <span class="n">label</span><span class="o">=</span><span class="s2">&quot; AUC TEST =&quot;</span><span class="o">+</span><span class="nb">str</span><span class="p">(</span><span class="n">auc</span><span class="p">(</span><span class="n">test_fpr</span><span class="p">,</span> <span class="n">test_tpr</span><span class="p">)))</span>
<span class="n">plt</span><span class="o">.</span><span class="n">plot</span><span class="p">([</span><span class="mi">0</span><span class="p">,</span><span class="mi">1</span><span class="p">],[</span><span class="mi">0</span><span class="p">,</span><span class="mi">1</span><span class="p">],</span><span class="s1">&#39;g--&#39;</span><span class="p">)</span>
<span class="n">plt</span><span class="o">.</span><span class="n">legend</span><span class="p">()</span>
<span class="n">plt</span><span class="o">.</span><span class="n">xlabel</span><span class="p">(</span><span class="s2">&quot;True Positive Rate&quot;</span><span class="p">)</span>
<span class="n">plt</span><span class="o">.</span><span class="n">ylabel</span><span class="p">(</span><span class="s2">&quot;False Positive Rate&quot;</span><span class="p">)</span>
<span class="n">plt</span><span class="o">.</span><span class="n">title</span><span class="p">(</span><span class="s2">&quot;AUC(ROC curve) for Gradient Boosting classifier&quot;</span><span class="p">)</span>
<span class="n">plt</span><span class="o">.</span><span class="n">grid</span><span class="p">(</span><span class="n">color</span><span class="o">=</span><span class="s1">&#39;black&#39;</span><span class="p">,</span> <span class="n">linestyle</span><span class="o">=</span><span class="s1">&#39;-&#39;</span><span class="p">,</span> <span class="n">linewidth</span><span class="o">=</span><span class="mf">0.5</span><span class="p">)</span>
<span class="n">plt</span><span class="o">.</span><span class="n">show</span><span class="p">()</span>
</pre></div>

    </div>
</div>
</div>

<div class="output_wrapper">
<div class="output">


<div class="output_area">

    <div class="prompt"></div>




<div class="output_png output_subarea ">
<img src="data:image/png;base64,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
"
>
</div>

</div>

</div>
</div>

</div>
<div class="cell border-box-sizing text_cell rendered"><div class="prompt input_prompt">
</div><div class="inner_cell">
<div class="text_cell_render border-box-sizing rendered_html">
<h3 id="ROC-for-random-forest-classifier">ROC for random forest classifier<a class="anchor-link" href="#ROC-for-random-forest-classifier">&#182;</a></h3>
</div>
</div>
</div>
<div class="cell border-box-sizing code_cell rendered">
<div class="input">
<div class="prompt input_prompt">In&nbsp;[28]:</div>
<div class="inner_cell">
    <div class="input_area">
<div class=" highlight hl-ipython3"><pre><span></span><span class="kn">from</span> <span class="nn">sklearn.metrics</span> <span class="kn">import</span> <span class="n">plot_roc_curve</span>
<span class="n">ax</span> <span class="o">=</span> <span class="n">plt</span><span class="o">.</span><span class="n">gca</span><span class="p">()</span>
<span class="n">rfc_train</span> <span class="o">=</span> <span class="n">plot_roc_curve</span><span class="p">(</span><span class="n">rfc</span><span class="p">,</span> <span class="n">x_train</span><span class="p">,</span> <span class="n">y_train</span><span class="p">,</span> <span class="n">ax</span><span class="o">=</span><span class="n">ax</span><span class="p">,</span> <span class="n">alpha</span><span class="o">=</span><span class="mf">0.8</span><span class="p">)</span>
<span class="n">rfc_test</span> <span class="o">=</span> <span class="n">plot_roc_curve</span><span class="p">(</span><span class="n">rfc</span><span class="p">,</span> <span class="n">x_test</span><span class="p">,</span> <span class="n">y_test</span><span class="p">,</span> <span class="n">ax</span><span class="o">=</span><span class="n">ax</span><span class="p">,</span> <span class="n">alpha</span><span class="o">=</span><span class="mf">0.8</span><span class="p">)</span>
<span class="n">plt</span><span class="o">.</span><span class="n">show</span><span class="p">()</span>
</pre></div>

    </div>
</div>
</div>

<div class="output_wrapper">
<div class="output">


<div class="output_area">

    <div class="prompt"></div>




<div class="output_png output_subarea ">
<img src="data:image/png;base64,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
"
>
</div>

</div>

</div>
</div>

</div>
<div class="cell border-box-sizing text_cell rendered"><div class="prompt input_prompt">
</div><div class="inner_cell">
<div class="text_cell_render border-box-sizing rendered_html">
<h3 id="ROC-for-pruned-decision-tree">ROC for pruned decision tree<a class="anchor-link" href="#ROC-for-pruned-decision-tree">&#182;</a></h3>
</div>
</div>
</div>
<div class="cell border-box-sizing code_cell rendered">
<div class="input">
<div class="prompt input_prompt">In&nbsp;[29]:</div>
<div class="inner_cell">
    <div class="input_area">
<div class=" highlight hl-ipython3"><pre><span></span><span class="n">ax</span> <span class="o">=</span> <span class="n">plt</span><span class="o">.</span><span class="n">gca</span><span class="p">()</span>
<span class="n">tree_train</span> <span class="o">=</span> <span class="n">plot_roc_curve</span><span class="p">(</span><span class="n">pruned_tree</span><span class="p">,</span> <span class="n">x_train</span><span class="p">,</span> <span class="n">y_train</span><span class="p">,</span> <span class="n">ax</span><span class="o">=</span><span class="n">ax</span><span class="p">,</span> <span class="n">alpha</span><span class="o">=</span><span class="mf">0.8</span><span class="p">)</span>
<span class="n">tree_test</span> <span class="o">=</span> <span class="n">plot_roc_curve</span><span class="p">(</span><span class="n">pruned_tree</span><span class="p">,</span> <span class="n">x_test</span><span class="p">,</span> <span class="n">y_test</span><span class="p">,</span> <span class="n">ax</span><span class="o">=</span><span class="n">ax</span><span class="p">,</span> <span class="n">alpha</span><span class="o">=</span><span class="mf">0.8</span><span class="p">)</span>
<span class="n">plt</span><span class="o">.</span><span class="n">show</span><span class="p">()</span>
</pre></div>

    </div>
</div>
</div>

<div class="output_wrapper">
<div class="output">


<div class="output_area">

    <div class="prompt"></div>




<div class="output_png output_subarea ">
<img src="data:image/png;base64,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
"
>
</div>

</div>

</div>
</div>

</div>
<div class="cell border-box-sizing text_cell rendered"><div class="prompt input_prompt">
</div><div class="inner_cell">
<div class="text_cell_render border-box-sizing rendered_html">
<h4 id="Inference">Inference<a class="anchor-link" href="#Inference">&#182;</a></h4><p>ROC for pruned decision tree, Random forest and Gradient boosted classifier is plotted. On comparing all the above plots, random forest model performs well on validation sets. The plot line of train and test error for pruned decision tree is almost same with the difference of 9%</p>

</div>
</div>
</div>
<div class="cell border-box-sizing text_cell rendered"><div class="prompt input_prompt">
</div><div class="inner_cell">
<div class="text_cell_render border-box-sizing rendered_html">
<h2 id="Section-D">Section D<a class="anchor-link" href="#Section-D">&#182;</a></h2>
</div>
</div>
</div>
<div class="cell border-box-sizing text_cell rendered"><div class="prompt input_prompt">
</div><div class="inner_cell">
<div class="text_cell_render border-box-sizing rendered_html">
<h3 id="Feature-Importance-Plot-by-Random-forest">Feature Importance Plot by Random forest<a class="anchor-link" href="#Feature-Importance-Plot-by-Random-forest">&#182;</a></h3>
</div>
</div>
</div>
<div class="cell border-box-sizing code_cell rendered">
<div class="input">
<div class="prompt input_prompt">In&nbsp;[30]:</div>
<div class="inner_cell">
    <div class="input_area">
<div class=" highlight hl-ipython3"><pre><span></span><span class="n">model</span> <span class="o">=</span> <span class="n">RandomForestClassifier</span><span class="p">(</span><span class="n">n_estimators</span><span class="o">=</span><span class="mi">1000</span><span class="p">,</span> <span class="n">random_state</span><span class="o">=</span><span class="mi">1</span><span class="p">,</span> <span class="n">max_features</span><span class="o">=</span><span class="mi">6</span><span class="p">)</span>
<span class="c1"># fit the model</span>
<span class="n">model</span><span class="o">.</span><span class="n">fit</span><span class="p">(</span><span class="n">x_train</span><span class="p">,</span> <span class="n">y_train</span><span class="p">)</span>
<span class="c1"># get importance</span>
<span class="n">importance</span> <span class="o">=</span> <span class="n">model</span><span class="o">.</span><span class="n">feature_importances_</span>
<span class="c1"># summarize feature importance</span>
<span class="k">for</span> <span class="n">i</span><span class="p">,</span><span class="n">v</span> <span class="ow">in</span> <span class="nb">enumerate</span><span class="p">(</span><span class="n">importance</span><span class="p">):</span>
    <span class="nb">print</span><span class="p">(</span><span class="s1">&#39;Feature: </span><span class="si">%0d</span><span class="s1">, Score: </span><span class="si">%.5f</span><span class="s1">&#39;</span> <span class="o">%</span> <span class="p">(</span><span class="n">i</span><span class="p">,</span><span class="n">v</span><span class="p">))</span>
<span class="c1"># plot feature importance</span>
<span class="n">plt</span><span class="o">.</span><span class="n">bar</span><span class="p">([</span><span class="n">x</span> <span class="k">for</span> <span class="n">x</span> <span class="ow">in</span> <span class="nb">list</span><span class="p">(</span><span class="n">x</span><span class="o">.</span><span class="n">columns</span><span class="p">)],</span> <span class="n">importance</span><span class="p">)</span>
<span class="n">plt</span><span class="o">.</span><span class="n">xticks</span><span class="p">(</span><span class="n">rotation</span><span class="o">=</span><span class="mi">90</span><span class="p">)</span>
<span class="n">plt</span><span class="o">.</span><span class="n">show</span><span class="p">()</span>
</pre></div>

    </div>
</div>
</div>

<div class="output_wrapper">
<div class="output">


<div class="output_area">

    <div class="prompt"></div>


<div class="output_subarea output_stream output_stdout output_text">
<pre>Feature: 0, Score: 0.11872
Feature: 1, Score: 0.04645
Feature: 2, Score: 0.03747
Feature: 3, Score: 0.02438
Feature: 4, Score: 0.03388
Feature: 5, Score: 0.03177
Feature: 6, Score: 0.02179
Feature: 7, Score: 0.02904
Feature: 8, Score: 0.01960
Feature: 9, Score: 0.02281
Feature: 10, Score: 0.02590
Feature: 11, Score: 0.02730
Feature: 12, Score: 0.03476
Feature: 13, Score: 0.02671
Feature: 14, Score: 0.05099
Feature: 15, Score: 0.02233
Feature: 16, Score: 0.02855
Feature: 17, Score: 0.03270
Feature: 18, Score: 0.11995
Feature: 19, Score: 0.06598
Feature: 20, Score: 0.03707
Feature: 21, Score: 0.14184
</pre>
</div>
</div>

<div class="output_area">

    <div class="prompt"></div>




<div class="output_png output_subarea ">
<img src="data:image/png;base64,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
"
>
</div>

</div>

</div>
</div>

</div>
<div class="cell border-box-sizing text_cell rendered"><div class="prompt input_prompt">
</div><div class="inner_cell">
<div class="text_cell_render border-box-sizing rendered_html">
<h3 id="Feature-Importance-Plot-by-Gradient-Boosting">Feature Importance Plot by Gradient Boosting<a class="anchor-link" href="#Feature-Importance-Plot-by-Gradient-Boosting">&#182;</a></h3>
</div>
</div>
</div>
<div class="cell border-box-sizing code_cell rendered">
<div class="input">
<div class="prompt input_prompt">In&nbsp;[31]:</div>
<div class="inner_cell">
    <div class="input_area">
<div class=" highlight hl-ipython3"><pre><span></span><span class="n">model</span> <span class="o">=</span> <span class="n">GradientBoostingClassifier</span><span class="p">(</span><span class="n">n_estimators</span><span class="o">=</span><span class="mi">1000</span><span class="p">,</span> <span class="n">random_state</span><span class="o">=</span><span class="mi">1</span><span class="p">,</span><span class="n">learning_rate</span> <span class="o">=</span> <span class="mf">0.1</span><span class="p">,</span> <span class="n">max_depth</span> <span class="o">=</span> <span class="mi">3</span><span class="p">)</span>
<span class="c1"># fit the model</span>
<span class="n">model</span><span class="o">.</span><span class="n">fit</span><span class="p">(</span><span class="n">x_train</span><span class="p">,</span> <span class="n">y_train</span><span class="p">)</span>
<span class="c1"># get importance</span>
<span class="n">importance</span> <span class="o">=</span> <span class="n">model</span><span class="o">.</span><span class="n">feature_importances_</span>
<span class="c1"># summarize feature importance</span>
<span class="k">for</span> <span class="n">i</span><span class="p">,</span><span class="n">v</span> <span class="ow">in</span> <span class="nb">enumerate</span><span class="p">(</span><span class="n">importance</span><span class="p">):</span>
    <span class="nb">print</span><span class="p">(</span><span class="s1">&#39;Feature: </span><span class="si">%0d</span><span class="s1">, Score: </span><span class="si">%.5f</span><span class="s1">&#39;</span> <span class="o">%</span> <span class="p">(</span><span class="n">i</span><span class="p">,</span><span class="n">v</span><span class="p">))</span>
<span class="c1"># plot feature importance</span>
<span class="n">plt</span><span class="o">.</span><span class="n">bar</span><span class="p">([</span><span class="n">x</span> <span class="k">for</span> <span class="n">x</span> <span class="ow">in</span> <span class="nb">list</span><span class="p">(</span><span class="n">x</span><span class="o">.</span><span class="n">columns</span><span class="p">)],</span> <span class="n">importance</span><span class="p">)</span>
<span class="n">plt</span><span class="o">.</span><span class="n">xticks</span><span class="p">(</span><span class="n">rotation</span><span class="o">=</span><span class="mi">90</span><span class="p">)</span>
<span class="n">plt</span><span class="o">.</span><span class="n">show</span><span class="p">()</span>
</pre></div>

    </div>
</div>
</div>

<div class="output_wrapper">
<div class="output">


<div class="output_area">

    <div class="prompt"></div>


<div class="output_subarea output_stream output_stdout output_text">
<pre>Feature: 0, Score: 0.24313
Feature: 1, Score: 0.04751
Feature: 2, Score: 0.00097
Feature: 3, Score: 0.02780
Feature: 4, Score: 0.00215
Feature: 5, Score: 0.00560
Feature: 6, Score: 0.00129
Feature: 7, Score: 0.01079
Feature: 8, Score: 0.00257
Feature: 9, Score: 0.04749
Feature: 10, Score: 0.01439
Feature: 11, Score: 0.00842
Feature: 12, Score: 0.00083
Feature: 13, Score: 0.00515
Feature: 14, Score: 0.00469
Feature: 15, Score: 0.00531
Feature: 16, Score: 0.04136
Feature: 17, Score: 0.03529
Feature: 18, Score: 0.06339
Feature: 19, Score: 0.03715
Feature: 20, Score: 0.03324
Feature: 21, Score: 0.36148
</pre>
</div>
</div>

<div class="output_area">

    <div class="prompt"></div>




<div class="output_png output_subarea ">
<img src="data:image/png;base64,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
"
>
</div>

</div>

</div>
</div>

</div>
<div class="cell border-box-sizing text_cell rendered"><div class="prompt input_prompt">
</div><div class="inner_cell">
<div class="text_cell_render border-box-sizing rendered_html">
<h3 id="Partial-Dependence-Plot-of-Random-forest-classifier">Partial Dependence Plot of Random forest classifier<a class="anchor-link" href="#Partial-Dependence-Plot-of-Random-forest-classifier">&#182;</a></h3>
</div>
</div>
</div>
<div class="cell border-box-sizing code_cell rendered">
<div class="input">
<div class="prompt input_prompt">In&nbsp;[77]:</div>
<div class="inner_cell">
    <div class="input_area">
<div class=" highlight hl-ipython3"><pre><span></span><span class="kn">from</span> <span class="nn">sklearn.inspection</span> <span class="kn">import</span> <span class="n">plot_partial_dependence</span>
<span class="n">est1</span> <span class="o">=</span> <span class="n">RandomForestClassifier</span><span class="p">(</span><span class="n">n_estimators</span><span class="o">=</span><span class="mi">1000</span><span class="p">,</span> <span class="n">random_state</span><span class="o">=</span><span class="mi">1</span><span class="p">,</span> <span class="n">max_features</span><span class="o">=</span><span class="mi">6</span><span class="p">)</span><span class="o">.</span><span class="n">fit</span><span class="p">(</span><span class="n">x_train</span><span class="p">,</span><span class="n">y_train</span><span class="p">)</span>
<span class="n">disp1</span> <span class="o">=</span> <span class="n">plot_partial_dependence</span><span class="p">(</span><span class="n">est1</span><span class="p">,</span> <span class="n">x_train</span><span class="p">,[</span><span class="s1">&#39;PPE&#39;</span><span class="p">])</span>
</pre></div>

    </div>
</div>
</div>

<div class="output_wrapper">
<div class="output">


<div class="output_area">

    <div class="prompt"></div>




<div class="output_png output_subarea ">
<img src="data:image/png;base64,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
"
>
</div>

</div>

</div>
</div>

</div>
<div class="cell border-box-sizing text_cell rendered"><div class="prompt input_prompt">
</div><div class="inner_cell">
<div class="text_cell_render border-box-sizing rendered_html">
<h3 id="Partial-Dependence-Plot-of-Gradient-Boosted-classifier">Partial Dependence Plot of Gradient Boosted classifier<a class="anchor-link" href="#Partial-Dependence-Plot-of-Gradient-Boosted-classifier">&#182;</a></h3>
</div>
</div>
</div>
<div class="cell border-box-sizing code_cell rendered">
<div class="input">
<div class="prompt input_prompt">In&nbsp;[71]:</div>
<div class="inner_cell">
    <div class="input_area">
<div class=" highlight hl-ipython3"><pre><span></span><span class="n">est2</span> <span class="o">=</span> <span class="n">GradientBoostingClassifier</span><span class="p">(</span><span class="n">n_estimators</span><span class="o">=</span><span class="mi">1000</span><span class="p">,</span> <span class="n">random_state</span><span class="o">=</span><span class="mi">1</span><span class="p">,</span><span class="n">learning_rate</span> <span class="o">=</span> <span class="mf">0.1</span><span class="p">,</span> <span class="n">max_depth</span> <span class="o">=</span> <span class="mi">3</span><span class="p">)</span><span class="o">.</span><span class="n">fit</span><span class="p">(</span><span class="n">x_train</span><span class="p">,</span><span class="n">y_train</span><span class="p">)</span>
<span class="n">disp2</span> <span class="o">=</span> <span class="n">plot_partial_dependence</span><span class="p">(</span><span class="n">est2</span><span class="p">,</span> <span class="n">x_train</span><span class="p">,[</span><span class="s1">&#39;PPE&#39;</span><span class="p">])</span>
</pre></div>

    </div>
</div>
</div>

<div class="output_wrapper">
<div class="output">


<div class="output_area">

    <div class="prompt"></div>




<div class="output_png output_subarea ">
<img src="data:image/png;base64,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
"
>
</div>

</div>

</div>
</div>

</div>
<div class="cell border-box-sizing text_cell rendered"><div class="prompt input_prompt">
</div><div class="inner_cell">
<div class="text_cell_render border-box-sizing rendered_html">
<h4 id="Inference">Inference<a class="anchor-link" href="#Inference">&#182;</a></h4><p>In partial dependence plot of feature 'PPE', the proportionality increases drastically at the value of 0.125 in both random forest and gradient boosting model. The line plot of gradient boosting classifier is more like impulses wave, whereas random forest model gives curved plot with some spikes at some PPE values.</p>

</div>
</div>
</div>
<div class="cell border-box-sizing code_cell rendered">
<div class="input">
<div class="prompt input_prompt">In&nbsp;[&nbsp;]:</div>
<div class="inner_cell">
    <div class="input_area">
<div class=" highlight hl-ipython3"><pre><span></span> 
</pre></div>

    </div>
</div>
</div>

</div>
    </div>
  </div>
</body>

 


</html>
